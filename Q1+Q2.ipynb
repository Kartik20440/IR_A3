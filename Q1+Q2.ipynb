{
 "cells": [
  {
   "attachments": {},
   "cell_type": "markdown",
   "metadata": {},
   "source": [
    "# Q1"
   ]
  },
  {
   "cell_type": "code",
   "execution_count": 1,
   "metadata": {},
   "outputs": [],
   "source": [
    "import plotly.express as px\n",
    "import plotly.graph_objects as go\n",
    "from pyvis.network import Network\n",
    "import matplotlib.pyplot as plt\n",
    "import pandas as pd\n",
    "import numpy as np"
   ]
  },
  {
   "cell_type": "code",
   "execution_count": 2,
   "metadata": {},
   "outputs": [
    {
     "name": "stdout",
     "output_type": "stream",
     "text": [
      "{0: 398874773, 1: 652193, 2: 18498878, 3: 14749606, 4: 14305022, 5: 8479062, 6: 22253, 7: 12741, 8: 15540222, 9: 14809096, 10: 7415132, 11: 14172562, 12: 17129553, 13: 13839772, 14: 15911247, 15: 14086492, 16: 14087951, 17: 57378470, 18: 19094625, 19: 19479427, 20: 1186, 21: 29294520, 22: 13462502, 23: 13652832, 24: 40198602, 25: 174958347, 26: 287713, 27: 2727051, 28: 1765921, 29: 14710479, 30: 8630562, 31: 20496869, 32: 180505807, 33: 1678471, 34: 663463, 35: 728163, 36: 3191321, 37: 17408993, 38: 765548, 39: 13141442, 40: 883301, 41: 9616792, 42: 1371101, 43: 13334762, 44: 19966557, 45: 12725022, 46: 9283582, 47: 14231571, 48: 713263, 49: 12800212, 50: 14450509, 51: 165964253, 52: 14, 53: 563200400, 54: 15236339, 55: 606083, 56: 104937383, 57: 14178728, 58: 20755177, 59: 14163141, 60: 57739496, 61: 12007182, 62: 17729005, 63: 10587552, 64: 377821426, 65: 9411772, 66: 17633994, 67: 15639334, 68: 1260231, 69: 668423, 70: 58166411, 71: 586, 72: 11178592, 73: 5994452, 74: 14471007, 75: 13019862, 76: 15459980, 77: 8067082, 78: 47, 79: 380, 80: 6088382, 81: 15775613, 82: 15583257, 83: 16353769, 84: 136865608, 85: 155696919, 86: 10013512, 87: 19042640, 88: 62415556, 89: 14819149, 90: 20904050, 91: 636923, 92: 528, 93: 662423, 94: 25583917, 95: 35357461, 96: 67157376, 97: 11322372, 98: 6735, 99: 6503412, 100: 5813712, 101: 2735631, 102: 10476462, 103: 1566521, 104: 255617445, 105: 51518017, 106: 2372, 107: 6687652, 108: 551433993, 109: 8708232, 110: 17561826, 111: 6160742, 112: 9943672, 113: 17384098, 114: 15384741, 115: 16119767, 116: 18974638, 117: 18976476, 118: 6001592, 119: 8630302, 120: 6331462, 121: 9611352, 122: 17798441, 123: 761, 124: 8003822, 125: 22084427, 126: 51123, 127: 30331404, 128: 15801446, 129: 638323, 130: 14367669, 131: 163449492, 132: 17245224, 133: 14838800, 134: 19208772, 135: 15109716, 136: 5854882, 137: 27985216, 138: 8132642, 139: 9767472, 140: 179339999, 141: 20554406, 142: 5634142, 143: 18414485, 144: 14202711, 145: 18248772, 146: 326658079, 147: 24340234, 148: 14892191, 149: 16934483, 150: 19223, 151: 16803822, 152: 6731422, 153: 15304923, 154: 14142965, 155: 19327052, 156: 15302100, 157: 9863222, 158: 8866342, 159: 460693601, 160: 22588327, 161: 16317798, 162: 17938005, 163: 15166546, 164: 83971810, 165: 16004268, 166: 16007011, 167: 130268655, 168: 21965123, 169: 6253882, 170: 17459034, 171: 305888449, 172: 271605782, 173: 16912257, 174: 15187243, 175: 19101100, 176: 19507576, 177: 15543818, 178: 13648692, 179: 148943, 180: 17864230, 181: 360882965, 182: 68824195, 183: 91443374, 184: 16734561, 185: 183836186, 186: 16215038, 187: 757502, 188: 5827292, 189: 18317233, 190: 33633793, 191: 15819085, 192: 16461070, 193: 5264791, 194: 21145764, 195: 14220606, 196: 21196272, 197: 14313755, 198: 79033767, 199: 198410517, 200: 487851005, 201: 17937655, 202: 234270825, 203: 15162141, 204: 98065221, 205: 19483147, 206: 7461782, 207: 353101127, 208: 47015938, 209: 14267393, 210: 1656891, 211: 5436752, 212: 81962011, 213: 8940282, 214: 6368672, 215: 109186893, 216: 12544312, 217: 248049056, 218: 14904282, 219: 10044992, 220: 20221130, 221: 12081222, 222: 1859981, 223: 487072890, 224: 13538092, 225: 14202817, 226: 15725851, 227: 7821492, 228: 23771687, 229: 245421629, 230: 13927832, 231: 7899982, 232: 275570583, 233: 75939851, 234: 458897186, 235: 22229621} \n",
      " {398874773: 0, 652193: 1, 18498878: 2, 14749606: 3, 14305022: 4, 8479062: 5, 22253: 6, 12741: 7, 15540222: 8, 14809096: 9, 7415132: 10, 14172562: 11, 17129553: 12, 13839772: 13, 15911247: 14, 14086492: 15, 14087951: 16, 57378470: 17, 19094625: 18, 19479427: 19, 1186: 20, 29294520: 21, 13462502: 22, 13652832: 23, 40198602: 24, 174958347: 25, 287713: 26, 2727051: 27, 1765921: 28, 14710479: 29, 8630562: 30, 20496869: 31, 180505807: 32, 1678471: 33, 663463: 34, 728163: 35, 3191321: 36, 17408993: 37, 765548: 38, 13141442: 39, 883301: 40, 9616792: 41, 1371101: 42, 13334762: 43, 19966557: 44, 12725022: 45, 9283582: 46, 14231571: 47, 713263: 48, 12800212: 49, 14450509: 50, 165964253: 51, 14: 52, 563200400: 53, 15236339: 54, 606083: 55, 104937383: 56, 14178728: 57, 20755177: 58, 14163141: 59, 57739496: 60, 12007182: 61, 17729005: 62, 10587552: 63, 377821426: 64, 9411772: 65, 17633994: 66, 15639334: 67, 1260231: 68, 668423: 69, 58166411: 70, 586: 71, 11178592: 72, 5994452: 73, 14471007: 74, 13019862: 75, 15459980: 76, 8067082: 77, 47: 78, 380: 79, 6088382: 80, 15775613: 81, 15583257: 82, 16353769: 83, 136865608: 84, 155696919: 85, 10013512: 86, 19042640: 87, 62415556: 88, 14819149: 89, 20904050: 90, 636923: 91, 528: 92, 662423: 93, 25583917: 94, 35357461: 95, 67157376: 96, 11322372: 97, 6735: 98, 6503412: 99, 5813712: 100, 2735631: 101, 10476462: 102, 1566521: 103, 255617445: 104, 51518017: 105, 2372: 106, 6687652: 107, 551433993: 108, 8708232: 109, 17561826: 110, 6160742: 111, 9943672: 112, 17384098: 113, 15384741: 114, 16119767: 115, 18974638: 116, 18976476: 117, 6001592: 118, 8630302: 119, 6331462: 120, 9611352: 121, 17798441: 122, 761: 123, 8003822: 124, 22084427: 125, 51123: 126, 30331404: 127, 15801446: 128, 638323: 129, 14367669: 130, 163449492: 131, 17245224: 132, 14838800: 133, 19208772: 134, 15109716: 135, 5854882: 136, 27985216: 137, 8132642: 138, 9767472: 139, 179339999: 140, 20554406: 141, 5634142: 142, 18414485: 143, 14202711: 144, 18248772: 145, 326658079: 146, 24340234: 147, 14892191: 148, 16934483: 149, 19223: 150, 16803822: 151, 6731422: 152, 15304923: 153, 14142965: 154, 19327052: 155, 15302100: 156, 9863222: 157, 8866342: 158, 460693601: 159, 22588327: 160, 16317798: 161, 17938005: 162, 15166546: 163, 83971810: 164, 16004268: 165, 16007011: 166, 130268655: 167, 21965123: 168, 6253882: 169, 17459034: 170, 305888449: 171, 271605782: 172, 16912257: 173, 15187243: 174, 19101100: 175, 19507576: 176, 15543818: 177, 13648692: 178, 148943: 179, 17864230: 180, 360882965: 181, 68824195: 182, 91443374: 183, 16734561: 184, 183836186: 185, 16215038: 186, 757502: 187, 5827292: 188, 18317233: 189, 33633793: 190, 15819085: 191, 16461070: 192, 5264791: 193, 21145764: 194, 14220606: 195, 21196272: 196, 14313755: 197, 79033767: 198, 198410517: 199, 487851005: 200, 17937655: 201, 234270825: 202, 15162141: 203, 98065221: 204, 19483147: 205, 7461782: 206, 353101127: 207, 47015938: 208, 14267393: 209, 1656891: 210, 5436752: 211, 81962011: 212, 8940282: 213, 6368672: 214, 109186893: 215, 12544312: 216, 248049056: 217, 14904282: 218, 10044992: 219, 20221130: 220, 12081222: 221, 1859981: 222, 487072890: 223, 13538092: 224, 14202817: 225, 15725851: 226, 7821492: 227, 23771687: 228, 245421629: 229, 13927832: 230, 7899982: 231, 275570583: 232, 75939851: 233, 458897186: 234, 22229621: 235}\n"
     ]
    }
   ],
   "source": [
    "# 12831.edges file has the following format:\n",
    "# <source> <destination>\n",
    "# the grapgh is undirected\n",
    "# find the max node id\n",
    "# read the file and create the adjacecny matrix\n",
    "\n",
    "# get source and destination nodes from the file\n",
    "def get_source_destination(file_name):\n",
    "    source_list = []\n",
    "    destination_list = []\n",
    "    with open(file_name, 'r') as f:\n",
    "        for line in f:\n",
    "            line = line.strip()\n",
    "            source, destination = line.split(' ')\n",
    "            source, destination = int(source), int(destination)\n",
    "            source_list.append(source)\n",
    "            destination_list.append(destination)\n",
    "    return source_list, destination_list\n",
    "\n",
    "# count the number of unique nodes in the file\n",
    "def count_unique_nodes(source_list, destination_list):\n",
    "    unique_nodes = set()\n",
    "    for source, destination in zip(source_list, destination_list):\n",
    "        unique_nodes.add(source)\n",
    "        unique_nodes.add(destination)\n",
    "    return len(unique_nodes)\n",
    "\n",
    "# create a dictionary that assigns a unique id to each node in the order they occur\n",
    "def get_node_id_dict(source_list, destination_list):\n",
    "    node_dict = {}\n",
    "    for source, destination in zip(source_list, destination_list):\n",
    "        if source not in node_dict:\n",
    "            node_dict[source] = len(node_dict)\n",
    "        if destination not in node_dict:\n",
    "            node_dict[destination] = len(node_dict)\n",
    "    node_id_dict = {}\n",
    "    for node, node_id in node_dict.items():\n",
    "        node_id_dict[node_id] = node\n",
    "    return node_id_dict, node_dict\n",
    "\n",
    "source, destination = get_source_destination('12831.edges')\n",
    "unique_nodes = count_unique_nodes(source, destination)\n",
    "node_dict, node_id_dict = get_node_id_dict(source, destination)\n",
    "print(node_dict,'\\n', node_id_dict)"
   ]
  },
  {
   "cell_type": "code",
   "execution_count": 3,
   "metadata": {},
   "outputs": [
    {
     "name": "stdout",
     "output_type": "stream",
     "text": [
      "[[0. 1. 0. ... 0. 0. 0.]\n",
      " [0. 0. 0. ... 0. 0. 0.]\n",
      " [0. 0. 0. ... 0. 0. 0.]\n",
      " ...\n",
      " [0. 0. 0. ... 0. 0. 0.]\n",
      " [0. 0. 0. ... 0. 0. 0.]\n",
      " [0. 0. 0. ... 0. 0. 0.]]\n"
     ]
    }
   ],
   "source": [
    "# make an adjacency matrix\n",
    "def get_adj_matrix(source_list, destination_list, node_id_dict):\n",
    "    adjacency_matrix = np.zeros((unique_nodes, unique_nodes))\n",
    "    for source, destination in zip(source_list, destination_list):\n",
    "        source_id = node_id_dict[source]\n",
    "        destination_id = node_id_dict[destination]\n",
    "        adjacency_matrix[source_id, destination_id] = 1\n",
    "    return adjacency_matrix\n",
    "\n",
    "adjacency_matrix = get_adj_matrix(source, destination, node_id_dict)\n",
    "print(adjacency_matrix)"
   ]
  },
  {
   "cell_type": "code",
   "execution_count": 4,
   "metadata": {},
   "outputs": [
    {
     "name": "stdout",
     "output_type": "stream",
     "text": [
      "Number of unique nodes:  236\n",
      "Number of edges:  2478.0\n",
      "Average indegree:  10.5\n",
      "Average outdegree:  10.5\n",
      "Node with max indegree:  180505807\n",
      "Node with max outdegree:  1186\n",
      "Density of network 0.04449152542372881\n"
     ]
    }
   ],
   "source": [
    "print('Number of unique nodes: ', adjacency_matrix.shape[0])\n",
    "print('Number of edges: ', np.sum(adjacency_matrix))\n",
    "print('Average indegree: ', np.sum(adjacency_matrix, axis=0).mean())\n",
    "print('Average outdegree: ', np.sum(adjacency_matrix, axis=1).mean())\n",
    "print('Node with max indegree: ', node_dict[np.argmax(np.sum(adjacency_matrix, axis=0))])\n",
    "print('Node with max outdegree: ',node_dict[np.argmax(np.sum(adjacency_matrix, axis=1))])\n",
    "print('Density of network', np.sum(adjacency_matrix)/(adjacency_matrix.shape[0]*adjacency_matrix.shape[1]))"
   ]
  },
  {
   "cell_type": "code",
   "execution_count": 5,
   "metadata": {},
   "outputs": [],
   "source": [
    "def plot_degree_distribution(adjacency_matrix):\n",
    "    indegree = np.sum(adjacency_matrix, axis=0)\n",
    "    outdegree = np.sum(adjacency_matrix, axis=1)\n",
    "    # plt.hist(indegree, bins=20, alpha=0.5, label='indegree', color= 'red')\n",
    "    # plt.legend(loc='upper right')\n",
    "    # plt.show()\n",
    "    # plt.hist(outdegree, bins=20, alpha=0.5, label='outdegree', color = 'blue')\n",
    "    # plt.legend(loc='upper right')\n",
    "    # plt.show()\n",
    "    # use plotly to plot the histogram\n",
    "    df = pd.DataFrame({'indegree': indegree, 'outdegree': outdegree})\n",
    "    fig = px.histogram(df, x=\"indegree\", color=\"indegree\", marginal=\"box\", hover_data=df.columns)\n",
    "    fig.show()\n",
    "    fig = px.histogram(df, x=\"outdegree\", color=\"outdegree\", marginal=\"box\", hover_data=df.columns)\n",
    "    fig.show()"
   ]
  },
  {
   "cell_type": "code",
   "execution_count": 6,
   "metadata": {},
   "outputs": [
    {
     "data": {
      "application/vnd.plotly.v1+json": {
       "config": {
        "plotlyServerURL": "https://plot.ly"
       },
       "data": [
        {
         "alignmentgroup": "True",
         "bingroup": "x",
         "hovertemplate": "indegree=%{x}<br>count=%{y}<extra></extra>",
         "legendgroup": "0.0",
         "marker": {
          "color": "#636efa",
          "pattern": {
           "shape": ""
          }
         },
         "name": "0.0",
         "offsetgroup": "0.0",
         "orientation": "v",
         "showlegend": true,
         "type": "histogram",
         "x": [
          0,
          0,
          0,
          0,
          0,
          0,
          0,
          0
         ],
         "xaxis": "x",
         "yaxis": "y"
        },
        {
         "alignmentgroup": "True",
         "customdata": [
          [
           2
          ],
          [
           1
          ],
          [
           4
          ],
          [
           4
          ],
          [
           3
          ],
          [
           2
          ],
          [
           1
          ],
          [
           1
          ]
         ],
         "hovertemplate": "indegree=%{x}<br>outdegree=%{customdata[0]}<extra></extra>",
         "legendgroup": "0.0",
         "marker": {
          "color": "#636efa"
         },
         "name": "0.0",
         "notched": true,
         "offsetgroup": "0.0",
         "showlegend": false,
         "type": "box",
         "x": [
          0,
          0,
          0,
          0,
          0,
          0,
          0,
          0
         ],
         "xaxis": "x2",
         "yaxis": "y2"
        },
        {
         "alignmentgroup": "True",
         "bingroup": "x",
         "hovertemplate": "indegree=%{x}<br>count=%{y}<extra></extra>",
         "legendgroup": "40.0",
         "marker": {
          "color": "#EF553B",
          "pattern": {
           "shape": ""
          }
         },
         "name": "40.0",
         "offsetgroup": "40.0",
         "orientation": "v",
         "showlegend": true,
         "type": "histogram",
         "x": [
          40
         ],
         "xaxis": "x",
         "yaxis": "y"
        },
        {
         "alignmentgroup": "True",
         "customdata": [
          [
           28
          ]
         ],
         "hovertemplate": "indegree=%{x}<br>outdegree=%{customdata[0]}<extra></extra>",
         "legendgroup": "40.0",
         "marker": {
          "color": "#EF553B"
         },
         "name": "40.0",
         "notched": true,
         "offsetgroup": "40.0",
         "showlegend": false,
         "type": "box",
         "x": [
          40
         ],
         "xaxis": "x2",
         "yaxis": "y2"
        },
        {
         "alignmentgroup": "True",
         "bingroup": "x",
         "hovertemplate": "indegree=%{x}<br>count=%{y}<extra></extra>",
         "legendgroup": "2.0",
         "marker": {
          "color": "#00cc96",
          "pattern": {
           "shape": ""
          }
         },
         "name": "2.0",
         "offsetgroup": "2.0",
         "orientation": "v",
         "showlegend": true,
         "type": "histogram",
         "x": [
          2,
          2,
          2,
          2,
          2,
          2,
          2,
          2,
          2,
          2,
          2,
          2,
          2,
          2,
          2,
          2
         ],
         "xaxis": "x",
         "yaxis": "y"
        },
        {
         "alignmentgroup": "True",
         "customdata": [
          [
           14
          ],
          [
           8
          ],
          [
           3
          ],
          [
           2
          ],
          [
           3
          ],
          [
           4
          ],
          [
           2
          ],
          [
           6
          ],
          [
           1
          ],
          [
           1
          ],
          [
           0
          ],
          [
           0
          ],
          [
           3
          ],
          [
           6
          ],
          [
           1
          ],
          [
           0
          ]
         ],
         "hovertemplate": "indegree=%{x}<br>outdegree=%{customdata[0]}<extra></extra>",
         "legendgroup": "2.0",
         "marker": {
          "color": "#00cc96"
         },
         "name": "2.0",
         "notched": true,
         "offsetgroup": "2.0",
         "showlegend": false,
         "type": "box",
         "x": [
          2,
          2,
          2,
          2,
          2,
          2,
          2,
          2,
          2,
          2,
          2,
          2,
          2,
          2,
          2,
          2
         ],
         "xaxis": "x2",
         "yaxis": "y2"
        },
        {
         "alignmentgroup": "True",
         "bingroup": "x",
         "hovertemplate": "indegree=%{x}<br>count=%{y}<extra></extra>",
         "legendgroup": "31.0",
         "marker": {
          "color": "#ab63fa",
          "pattern": {
           "shape": ""
          }
         },
         "name": "31.0",
         "offsetgroup": "31.0",
         "orientation": "v",
         "showlegend": true,
         "type": "histogram",
         "x": [
          31,
          31
         ],
         "xaxis": "x",
         "yaxis": "y"
        },
        {
         "alignmentgroup": "True",
         "customdata": [
          [
           0
          ],
          [
           49
          ]
         ],
         "hovertemplate": "indegree=%{x}<br>outdegree=%{customdata[0]}<extra></extra>",
         "legendgroup": "31.0",
         "marker": {
          "color": "#ab63fa"
         },
         "name": "31.0",
         "notched": true,
         "offsetgroup": "31.0",
         "showlegend": false,
         "type": "box",
         "x": [
          31,
          31
         ],
         "xaxis": "x2",
         "yaxis": "y2"
        },
        {
         "alignmentgroup": "True",
         "bingroup": "x",
         "hovertemplate": "indegree=%{x}<br>count=%{y}<extra></extra>",
         "legendgroup": "24.0",
         "marker": {
          "color": "#FFA15A",
          "pattern": {
           "shape": ""
          }
         },
         "name": "24.0",
         "offsetgroup": "24.0",
         "orientation": "v",
         "showlegend": true,
         "type": "histogram",
         "x": [
          24,
          24,
          24
         ],
         "xaxis": "x",
         "yaxis": "y"
        },
        {
         "alignmentgroup": "True",
         "customdata": [
          [
           26
          ],
          [
           1
          ],
          [
           24
          ]
         ],
         "hovertemplate": "indegree=%{x}<br>outdegree=%{customdata[0]}<extra></extra>",
         "legendgroup": "24.0",
         "marker": {
          "color": "#FFA15A"
         },
         "name": "24.0",
         "notched": true,
         "offsetgroup": "24.0",
         "showlegend": false,
         "type": "box",
         "x": [
          24,
          24,
          24
         ],
         "xaxis": "x2",
         "yaxis": "y2"
        },
        {
         "alignmentgroup": "True",
         "bingroup": "x",
         "hovertemplate": "indegree=%{x}<br>count=%{y}<extra></extra>",
         "legendgroup": "17.0",
         "marker": {
          "color": "#19d3f3",
          "pattern": {
           "shape": ""
          }
         },
         "name": "17.0",
         "offsetgroup": "17.0",
         "orientation": "v",
         "showlegend": true,
         "type": "histogram",
         "x": [
          17,
          17,
          17,
          17
         ],
         "xaxis": "x",
         "yaxis": "y"
        },
        {
         "alignmentgroup": "True",
         "customdata": [
          [
           39
          ],
          [
           23
          ],
          [
           0
          ],
          [
           24
          ]
         ],
         "hovertemplate": "indegree=%{x}<br>outdegree=%{customdata[0]}<extra></extra>",
         "legendgroup": "17.0",
         "marker": {
          "color": "#19d3f3"
         },
         "name": "17.0",
         "notched": true,
         "offsetgroup": "17.0",
         "showlegend": false,
         "type": "box",
         "x": [
          17,
          17,
          17,
          17
         ],
         "xaxis": "x2",
         "yaxis": "y2"
        },
        {
         "alignmentgroup": "True",
         "bingroup": "x",
         "hovertemplate": "indegree=%{x}<br>count=%{y}<extra></extra>",
         "legendgroup": "21.0",
         "marker": {
          "color": "#FF6692",
          "pattern": {
           "shape": ""
          }
         },
         "name": "21.0",
         "offsetgroup": "21.0",
         "orientation": "v",
         "showlegend": true,
         "type": "histogram",
         "x": [
          21,
          21,
          21,
          21,
          21,
          21
         ],
         "xaxis": "x",
         "yaxis": "y"
        },
        {
         "alignmentgroup": "True",
         "customdata": [
          [
           44
          ],
          [
           28
          ],
          [
           23
          ],
          [
           28
          ],
          [
           12
          ],
          [
           7
          ]
         ],
         "hovertemplate": "indegree=%{x}<br>outdegree=%{customdata[0]}<extra></extra>",
         "legendgroup": "21.0",
         "marker": {
          "color": "#FF6692"
         },
         "name": "21.0",
         "notched": true,
         "offsetgroup": "21.0",
         "showlegend": false,
         "type": "box",
         "x": [
          21,
          21,
          21,
          21,
          21,
          21
         ],
         "xaxis": "x2",
         "yaxis": "y2"
        },
        {
         "alignmentgroup": "True",
         "bingroup": "x",
         "hovertemplate": "indegree=%{x}<br>count=%{y}<extra></extra>",
         "legendgroup": "15.0",
         "marker": {
          "color": "#B6E880",
          "pattern": {
           "shape": ""
          }
         },
         "name": "15.0",
         "offsetgroup": "15.0",
         "orientation": "v",
         "showlegend": true,
         "type": "histogram",
         "x": [
          15,
          15,
          15,
          15,
          15,
          15,
          15
         ],
         "xaxis": "x",
         "yaxis": "y"
        },
        {
         "alignmentgroup": "True",
         "customdata": [
          [
           18
          ],
          [
           35
          ],
          [
           26
          ],
          [
           17
          ],
          [
           27
          ],
          [
           16
          ],
          [
           1
          ]
         ],
         "hovertemplate": "indegree=%{x}<br>outdegree=%{customdata[0]}<extra></extra>",
         "legendgroup": "15.0",
         "marker": {
          "color": "#B6E880"
         },
         "name": "15.0",
         "notched": true,
         "offsetgroup": "15.0",
         "showlegend": false,
         "type": "box",
         "x": [
          15,
          15,
          15,
          15,
          15,
          15,
          15
         ],
         "xaxis": "x2",
         "yaxis": "y2"
        },
        {
         "alignmentgroup": "True",
         "bingroup": "x",
         "hovertemplate": "indegree=%{x}<br>count=%{y}<extra></extra>",
         "legendgroup": "8.0",
         "marker": {
          "color": "#FF97FF",
          "pattern": {
           "shape": ""
          }
         },
         "name": "8.0",
         "offsetgroup": "8.0",
         "orientation": "v",
         "showlegend": true,
         "type": "histogram",
         "x": [
          8,
          8,
          8,
          8,
          8,
          8,
          8,
          8,
          8,
          8
         ],
         "xaxis": "x",
         "yaxis": "y"
        },
        {
         "alignmentgroup": "True",
         "customdata": [
          [
           23
          ],
          [
           16
          ],
          [
           12
          ],
          [
           0
          ],
          [
           5
          ],
          [
           8
          ],
          [
           10
          ],
          [
           6
          ],
          [
           3
          ],
          [
           3
          ]
         ],
         "hovertemplate": "indegree=%{x}<br>outdegree=%{customdata[0]}<extra></extra>",
         "legendgroup": "8.0",
         "marker": {
          "color": "#FF97FF"
         },
         "name": "8.0",
         "notched": true,
         "offsetgroup": "8.0",
         "showlegend": false,
         "type": "box",
         "x": [
          8,
          8,
          8,
          8,
          8,
          8,
          8,
          8,
          8,
          8
         ],
         "xaxis": "x2",
         "yaxis": "y2"
        },
        {
         "alignmentgroup": "True",
         "bingroup": "x",
         "hovertemplate": "indegree=%{x}<br>count=%{y}<extra></extra>",
         "legendgroup": "5.0",
         "marker": {
          "color": "#FECB52",
          "pattern": {
           "shape": ""
          }
         },
         "name": "5.0",
         "offsetgroup": "5.0",
         "orientation": "v",
         "showlegend": true,
         "type": "histogram",
         "x": [
          5,
          5,
          5,
          5,
          5,
          5,
          5,
          5,
          5,
          5,
          5,
          5,
          5,
          5
         ],
         "xaxis": "x",
         "yaxis": "y"
        },
        {
         "alignmentgroup": "True",
         "customdata": [
          [
           7
          ],
          [
           1
          ],
          [
           11
          ],
          [
           7
          ],
          [
           3
          ],
          [
           5
          ],
          [
           7
          ],
          [
           0
          ],
          [
           0
          ],
          [
           5
          ],
          [
           6
          ],
          [
           0
          ],
          [
           7
          ],
          [
           5
          ]
         ],
         "hovertemplate": "indegree=%{x}<br>outdegree=%{customdata[0]}<extra></extra>",
         "legendgroup": "5.0",
         "marker": {
          "color": "#FECB52"
         },
         "name": "5.0",
         "notched": true,
         "offsetgroup": "5.0",
         "showlegend": false,
         "type": "box",
         "x": [
          5,
          5,
          5,
          5,
          5,
          5,
          5,
          5,
          5,
          5,
          5,
          5,
          5,
          5
         ],
         "xaxis": "x2",
         "yaxis": "y2"
        },
        {
         "alignmentgroup": "True",
         "bingroup": "x",
         "hovertemplate": "indegree=%{x}<br>count=%{y}<extra></extra>",
         "legendgroup": "13.0",
         "marker": {
          "color": "#636efa",
          "pattern": {
           "shape": ""
          }
         },
         "name": "13.0",
         "offsetgroup": "13.0",
         "orientation": "v",
         "showlegend": true,
         "type": "histogram",
         "x": [
          13,
          13,
          13,
          13,
          13
         ],
         "xaxis": "x",
         "yaxis": "y"
        },
        {
         "alignmentgroup": "True",
         "customdata": [
          [
           13
          ],
          [
           34
          ],
          [
           22
          ],
          [
           19
          ],
          [
           6
          ]
         ],
         "hovertemplate": "indegree=%{x}<br>outdegree=%{customdata[0]}<extra></extra>",
         "legendgroup": "13.0",
         "marker": {
          "color": "#636efa"
         },
         "name": "13.0",
         "notched": true,
         "offsetgroup": "13.0",
         "showlegend": false,
         "type": "box",
         "x": [
          13,
          13,
          13,
          13,
          13
         ],
         "xaxis": "x2",
         "yaxis": "y2"
        },
        {
         "alignmentgroup": "True",
         "bingroup": "x",
         "hovertemplate": "indegree=%{x}<br>count=%{y}<extra></extra>",
         "legendgroup": "16.0",
         "marker": {
          "color": "#EF553B",
          "pattern": {
           "shape": ""
          }
         },
         "name": "16.0",
         "offsetgroup": "16.0",
         "orientation": "v",
         "showlegend": true,
         "type": "histogram",
         "x": [
          16,
          16,
          16,
          16,
          16,
          16,
          16
         ],
         "xaxis": "x",
         "yaxis": "y"
        },
        {
         "alignmentgroup": "True",
         "customdata": [
          [
           31
          ],
          [
           27
          ],
          [
           0
          ],
          [
           10
          ],
          [
           6
          ],
          [
           26
          ],
          [
           12
          ]
         ],
         "hovertemplate": "indegree=%{x}<br>outdegree=%{customdata[0]}<extra></extra>",
         "legendgroup": "16.0",
         "marker": {
          "color": "#EF553B"
         },
         "name": "16.0",
         "notched": true,
         "offsetgroup": "16.0",
         "showlegend": false,
         "type": "box",
         "x": [
          16,
          16,
          16,
          16,
          16,
          16,
          16
         ],
         "xaxis": "x2",
         "yaxis": "y2"
        },
        {
         "alignmentgroup": "True",
         "bingroup": "x",
         "hovertemplate": "indegree=%{x}<br>count=%{y}<extra></extra>",
         "legendgroup": "14.0",
         "marker": {
          "color": "#00cc96",
          "pattern": {
           "shape": ""
          }
         },
         "name": "14.0",
         "offsetgroup": "14.0",
         "orientation": "v",
         "showlegend": true,
         "type": "histogram",
         "x": [
          14,
          14,
          14,
          14,
          14,
          14,
          14,
          14,
          14,
          14,
          14
         ],
         "xaxis": "x",
         "yaxis": "y"
        },
        {
         "alignmentgroup": "True",
         "customdata": [
          [
           16
          ],
          [
           0
          ],
          [
           17
          ],
          [
           23
          ],
          [
           18
          ],
          [
           9
          ],
          [
           4
          ],
          [
           26
          ],
          [
           29
          ],
          [
           30
          ],
          [
           19
          ]
         ],
         "hovertemplate": "indegree=%{x}<br>outdegree=%{customdata[0]}<extra></extra>",
         "legendgroup": "14.0",
         "marker": {
          "color": "#00cc96"
         },
         "name": "14.0",
         "notched": true,
         "offsetgroup": "14.0",
         "showlegend": false,
         "type": "box",
         "x": [
          14,
          14,
          14,
          14,
          14,
          14,
          14,
          14,
          14,
          14,
          14
         ],
         "xaxis": "x2",
         "yaxis": "y2"
        },
        {
         "alignmentgroup": "True",
         "bingroup": "x",
         "hovertemplate": "indegree=%{x}<br>count=%{y}<extra></extra>",
         "legendgroup": "6.0",
         "marker": {
          "color": "#ab63fa",
          "pattern": {
           "shape": ""
          }
         },
         "name": "6.0",
         "offsetgroup": "6.0",
         "orientation": "v",
         "showlegend": true,
         "type": "histogram",
         "x": [
          6,
          6,
          6,
          6,
          6,
          6,
          6,
          6,
          6,
          6,
          6,
          6,
          6,
          6,
          6,
          6
         ],
         "xaxis": "x",
         "yaxis": "y"
        },
        {
         "alignmentgroup": "True",
         "customdata": [
          [
           5
          ],
          [
           14
          ],
          [
           10
          ],
          [
           3
          ],
          [
           2
          ],
          [
           2
          ],
          [
           7
          ],
          [
           2
          ],
          [
           14
          ],
          [
           19
          ],
          [
           17
          ],
          [
           6
          ],
          [
           11
          ],
          [
           13
          ],
          [
           0
          ],
          [
           5
          ]
         ],
         "hovertemplate": "indegree=%{x}<br>outdegree=%{customdata[0]}<extra></extra>",
         "legendgroup": "6.0",
         "marker": {
          "color": "#ab63fa"
         },
         "name": "6.0",
         "notched": true,
         "offsetgroup": "6.0",
         "showlegend": false,
         "type": "box",
         "x": [
          6,
          6,
          6,
          6,
          6,
          6,
          6,
          6,
          6,
          6,
          6,
          6,
          6,
          6,
          6,
          6
         ],
         "xaxis": "x2",
         "yaxis": "y2"
        },
        {
         "alignmentgroup": "True",
         "bingroup": "x",
         "hovertemplate": "indegree=%{x}<br>count=%{y}<extra></extra>",
         "legendgroup": "10.0",
         "marker": {
          "color": "#FFA15A",
          "pattern": {
           "shape": ""
          }
         },
         "name": "10.0",
         "offsetgroup": "10.0",
         "orientation": "v",
         "showlegend": true,
         "type": "histogram",
         "x": [
          10,
          10,
          10,
          10,
          10,
          10,
          10,
          10,
          10,
          10
         ],
         "xaxis": "x",
         "yaxis": "y"
        },
        {
         "alignmentgroup": "True",
         "customdata": [
          [
           19
          ],
          [
           6
          ],
          [
           17
          ],
          [
           9
          ],
          [
           8
          ],
          [
           9
          ],
          [
           9
          ],
          [
           10
          ],
          [
           12
          ],
          [
           3
          ]
         ],
         "hovertemplate": "indegree=%{x}<br>outdegree=%{customdata[0]}<extra></extra>",
         "legendgroup": "10.0",
         "marker": {
          "color": "#FFA15A"
         },
         "name": "10.0",
         "notched": true,
         "offsetgroup": "10.0",
         "showlegend": false,
         "type": "box",
         "x": [
          10,
          10,
          10,
          10,
          10,
          10,
          10,
          10,
          10,
          10
         ],
         "xaxis": "x2",
         "yaxis": "y2"
        },
        {
         "alignmentgroup": "True",
         "bingroup": "x",
         "hovertemplate": "indegree=%{x}<br>count=%{y}<extra></extra>",
         "legendgroup": "1.0",
         "marker": {
          "color": "#19d3f3",
          "pattern": {
           "shape": ""
          }
         },
         "name": "1.0",
         "offsetgroup": "1.0",
         "orientation": "v",
         "showlegend": true,
         "type": "histogram",
         "x": [
          1,
          1,
          1,
          1,
          1,
          1,
          1,
          1,
          1,
          1,
          1,
          1,
          1,
          1,
          1,
          1,
          1,
          1,
          1,
          1
         ],
         "xaxis": "x",
         "yaxis": "y"
        },
        {
         "alignmentgroup": "True",
         "customdata": [
          [
           11
          ],
          [
           6
          ],
          [
           5
          ],
          [
           4
          ],
          [
           5
          ],
          [
           15
          ],
          [
           3
          ],
          [
           14
          ],
          [
           1
          ],
          [
           0
          ],
          [
           3
          ],
          [
           3
          ],
          [
           1
          ],
          [
           1
          ],
          [
           1
          ],
          [
           0
          ],
          [
           0
          ],
          [
           0
          ],
          [
           0
          ],
          [
           0
          ]
         ],
         "hovertemplate": "indegree=%{x}<br>outdegree=%{customdata[0]}<extra></extra>",
         "legendgroup": "1.0",
         "marker": {
          "color": "#19d3f3"
         },
         "name": "1.0",
         "notched": true,
         "offsetgroup": "1.0",
         "showlegend": false,
         "type": "box",
         "x": [
          1,
          1,
          1,
          1,
          1,
          1,
          1,
          1,
          1,
          1,
          1,
          1,
          1,
          1,
          1,
          1,
          1,
          1,
          1,
          1
         ],
         "xaxis": "x2",
         "yaxis": "y2"
        },
        {
         "alignmentgroup": "True",
         "bingroup": "x",
         "hovertemplate": "indegree=%{x}<br>count=%{y}<extra></extra>",
         "legendgroup": "19.0",
         "marker": {
          "color": "#FF6692",
          "pattern": {
           "shape": ""
          }
         },
         "name": "19.0",
         "offsetgroup": "19.0",
         "orientation": "v",
         "showlegend": true,
         "type": "histogram",
         "x": [
          19,
          19,
          19,
          19,
          19,
          19
         ],
         "xaxis": "x",
         "yaxis": "y"
        },
        {
         "alignmentgroup": "True",
         "customdata": [
          [
           12
          ],
          [
           29
          ],
          [
           18
          ],
          [
           0
          ],
          [
           10
          ],
          [
           29
          ]
         ],
         "hovertemplate": "indegree=%{x}<br>outdegree=%{customdata[0]}<extra></extra>",
         "legendgroup": "19.0",
         "marker": {
          "color": "#FF6692"
         },
         "name": "19.0",
         "notched": true,
         "offsetgroup": "19.0",
         "showlegend": false,
         "type": "box",
         "x": [
          19,
          19,
          19,
          19,
          19,
          19
         ],
         "xaxis": "x2",
         "yaxis": "y2"
        },
        {
         "alignmentgroup": "True",
         "bingroup": "x",
         "hovertemplate": "indegree=%{x}<br>count=%{y}<extra></extra>",
         "legendgroup": "11.0",
         "marker": {
          "color": "#B6E880",
          "pattern": {
           "shape": ""
          }
         },
         "name": "11.0",
         "offsetgroup": "11.0",
         "orientation": "v",
         "showlegend": true,
         "type": "histogram",
         "x": [
          11,
          11,
          11,
          11,
          11,
          11,
          11,
          11,
          11
         ],
         "xaxis": "x",
         "yaxis": "y"
        },
        {
         "alignmentgroup": "True",
         "customdata": [
          [
           18
          ],
          [
           19
          ],
          [
           10
          ],
          [
           13
          ],
          [
           24
          ],
          [
           0
          ],
          [
           12
          ],
          [
           13
          ],
          [
           23
          ]
         ],
         "hovertemplate": "indegree=%{x}<br>outdegree=%{customdata[0]}<extra></extra>",
         "legendgroup": "11.0",
         "marker": {
          "color": "#B6E880"
         },
         "name": "11.0",
         "notched": true,
         "offsetgroup": "11.0",
         "showlegend": false,
         "type": "box",
         "x": [
          11,
          11,
          11,
          11,
          11,
          11,
          11,
          11,
          11
         ],
         "xaxis": "x2",
         "yaxis": "y2"
        },
        {
         "alignmentgroup": "True",
         "bingroup": "x",
         "hovertemplate": "indegree=%{x}<br>count=%{y}<extra></extra>",
         "legendgroup": "35.0",
         "marker": {
          "color": "#FF97FF",
          "pattern": {
           "shape": ""
          }
         },
         "name": "35.0",
         "offsetgroup": "35.0",
         "orientation": "v",
         "showlegend": true,
         "type": "histogram",
         "x": [
          35
         ],
         "xaxis": "x",
         "yaxis": "y"
        },
        {
         "alignmentgroup": "True",
         "customdata": [
          [
           20
          ]
         ],
         "hovertemplate": "indegree=%{x}<br>outdegree=%{customdata[0]}<extra></extra>",
         "legendgroup": "35.0",
         "marker": {
          "color": "#FF97FF"
         },
         "name": "35.0",
         "notched": true,
         "offsetgroup": "35.0",
         "showlegend": false,
         "type": "box",
         "x": [
          35
         ],
         "xaxis": "x2",
         "yaxis": "y2"
        },
        {
         "alignmentgroup": "True",
         "bingroup": "x",
         "hovertemplate": "indegree=%{x}<br>count=%{y}<extra></extra>",
         "legendgroup": "26.0",
         "marker": {
          "color": "#FECB52",
          "pattern": {
           "shape": ""
          }
         },
         "name": "26.0",
         "offsetgroup": "26.0",
         "orientation": "v",
         "showlegend": true,
         "type": "histogram",
         "x": [
          26,
          26
         ],
         "xaxis": "x",
         "yaxis": "y"
        },
        {
         "alignmentgroup": "True",
         "customdata": [
          [
           16
          ],
          [
           13
          ]
         ],
         "hovertemplate": "indegree=%{x}<br>outdegree=%{customdata[0]}<extra></extra>",
         "legendgroup": "26.0",
         "marker": {
          "color": "#FECB52"
         },
         "name": "26.0",
         "notched": true,
         "offsetgroup": "26.0",
         "showlegend": false,
         "type": "box",
         "x": [
          26,
          26
         ],
         "xaxis": "x2",
         "yaxis": "y2"
        },
        {
         "alignmentgroup": "True",
         "bingroup": "x",
         "hovertemplate": "indegree=%{x}<br>count=%{y}<extra></extra>",
         "legendgroup": "9.0",
         "marker": {
          "color": "#636efa",
          "pattern": {
           "shape": ""
          }
         },
         "name": "9.0",
         "offsetgroup": "9.0",
         "orientation": "v",
         "showlegend": true,
         "type": "histogram",
         "x": [
          9,
          9,
          9,
          9,
          9,
          9,
          9
         ],
         "xaxis": "x",
         "yaxis": "y"
        },
        {
         "alignmentgroup": "True",
         "customdata": [
          [
           6
          ],
          [
           1
          ],
          [
           10
          ],
          [
           8
          ],
          [
           8
          ],
          [
           10
          ],
          [
           5
          ]
         ],
         "hovertemplate": "indegree=%{x}<br>outdegree=%{customdata[0]}<extra></extra>",
         "legendgroup": "9.0",
         "marker": {
          "color": "#636efa"
         },
         "name": "9.0",
         "notched": true,
         "offsetgroup": "9.0",
         "showlegend": false,
         "type": "box",
         "x": [
          9,
          9,
          9,
          9,
          9,
          9,
          9
         ],
         "xaxis": "x2",
         "yaxis": "y2"
        },
        {
         "alignmentgroup": "True",
         "bingroup": "x",
         "hovertemplate": "indegree=%{x}<br>count=%{y}<extra></extra>",
         "legendgroup": "22.0",
         "marker": {
          "color": "#EF553B",
          "pattern": {
           "shape": ""
          }
         },
         "name": "22.0",
         "offsetgroup": "22.0",
         "orientation": "v",
         "showlegend": true,
         "type": "histogram",
         "x": [
          22,
          22,
          22
         ],
         "xaxis": "x",
         "yaxis": "y"
        },
        {
         "alignmentgroup": "True",
         "customdata": [
          [
           32
          ],
          [
           25
          ],
          [
           18
          ]
         ],
         "hovertemplate": "indegree=%{x}<br>outdegree=%{customdata[0]}<extra></extra>",
         "legendgroup": "22.0",
         "marker": {
          "color": "#EF553B"
         },
         "name": "22.0",
         "notched": true,
         "offsetgroup": "22.0",
         "showlegend": false,
         "type": "box",
         "x": [
          22,
          22,
          22
         ],
         "xaxis": "x2",
         "yaxis": "y2"
        },
        {
         "alignmentgroup": "True",
         "bingroup": "x",
         "hovertemplate": "indegree=%{x}<br>count=%{y}<extra></extra>",
         "legendgroup": "52.0",
         "marker": {
          "color": "#00cc96",
          "pattern": {
           "shape": ""
          }
         },
         "name": "52.0",
         "offsetgroup": "52.0",
         "orientation": "v",
         "showlegend": true,
         "type": "histogram",
         "x": [
          52
         ],
         "xaxis": "x",
         "yaxis": "y"
        },
        {
         "alignmentgroup": "True",
         "customdata": [
          [
           7
          ]
         ],
         "hovertemplate": "indegree=%{x}<br>outdegree=%{customdata[0]}<extra></extra>",
         "legendgroup": "52.0",
         "marker": {
          "color": "#00cc96"
         },
         "name": "52.0",
         "notched": true,
         "offsetgroup": "52.0",
         "showlegend": false,
         "type": "box",
         "x": [
          52
         ],
         "xaxis": "x2",
         "yaxis": "y2"
        },
        {
         "alignmentgroup": "True",
         "bingroup": "x",
         "hovertemplate": "indegree=%{x}<br>count=%{y}<extra></extra>",
         "legendgroup": "33.0",
         "marker": {
          "color": "#ab63fa",
          "pattern": {
           "shape": ""
          }
         },
         "name": "33.0",
         "offsetgroup": "33.0",
         "orientation": "v",
         "showlegend": true,
         "type": "histogram",
         "x": [
          33
         ],
         "xaxis": "x",
         "yaxis": "y"
        },
        {
         "alignmentgroup": "True",
         "customdata": [
          [
           30
          ]
         ],
         "hovertemplate": "indegree=%{x}<br>outdegree=%{customdata[0]}<extra></extra>",
         "legendgroup": "33.0",
         "marker": {
          "color": "#ab63fa"
         },
         "name": "33.0",
         "notched": true,
         "offsetgroup": "33.0",
         "showlegend": false,
         "type": "box",
         "x": [
          33
         ],
         "xaxis": "x2",
         "yaxis": "y2"
        },
        {
         "alignmentgroup": "True",
         "bingroup": "x",
         "hovertemplate": "indegree=%{x}<br>count=%{y}<extra></extra>",
         "legendgroup": "28.0",
         "marker": {
          "color": "#FFA15A",
          "pattern": {
           "shape": ""
          }
         },
         "name": "28.0",
         "offsetgroup": "28.0",
         "orientation": "v",
         "showlegend": true,
         "type": "histogram",
         "x": [
          28
         ],
         "xaxis": "x",
         "yaxis": "y"
        },
        {
         "alignmentgroup": "True",
         "customdata": [
          [
           36
          ]
         ],
         "hovertemplate": "indegree=%{x}<br>outdegree=%{customdata[0]}<extra></extra>",
         "legendgroup": "28.0",
         "marker": {
          "color": "#FFA15A"
         },
         "name": "28.0",
         "notched": true,
         "offsetgroup": "28.0",
         "showlegend": false,
         "type": "box",
         "x": [
          28
         ],
         "xaxis": "x2",
         "yaxis": "y2"
        },
        {
         "alignmentgroup": "True",
         "bingroup": "x",
         "hovertemplate": "indegree=%{x}<br>count=%{y}<extra></extra>",
         "legendgroup": "12.0",
         "marker": {
          "color": "#19d3f3",
          "pattern": {
           "shape": ""
          }
         },
         "name": "12.0",
         "offsetgroup": "12.0",
         "orientation": "v",
         "showlegend": true,
         "type": "histogram",
         "x": [
          12
         ],
         "xaxis": "x",
         "yaxis": "y"
        },
        {
         "alignmentgroup": "True",
         "customdata": [
          [
           8
          ]
         ],
         "hovertemplate": "indegree=%{x}<br>outdegree=%{customdata[0]}<extra></extra>",
         "legendgroup": "12.0",
         "marker": {
          "color": "#19d3f3"
         },
         "name": "12.0",
         "notched": true,
         "offsetgroup": "12.0",
         "showlegend": false,
         "type": "box",
         "x": [
          12
         ],
         "xaxis": "x2",
         "yaxis": "y2"
        },
        {
         "alignmentgroup": "True",
         "bingroup": "x",
         "hovertemplate": "indegree=%{x}<br>count=%{y}<extra></extra>",
         "legendgroup": "25.0",
         "marker": {
          "color": "#FF6692",
          "pattern": {
           "shape": ""
          }
         },
         "name": "25.0",
         "offsetgroup": "25.0",
         "orientation": "v",
         "showlegend": true,
         "type": "histogram",
         "x": [
          25
         ],
         "xaxis": "x",
         "yaxis": "y"
        },
        {
         "alignmentgroup": "True",
         "customdata": [
          [
           3
          ]
         ],
         "hovertemplate": "indegree=%{x}<br>outdegree=%{customdata[0]}<extra></extra>",
         "legendgroup": "25.0",
         "marker": {
          "color": "#FF6692"
         },
         "name": "25.0",
         "notched": true,
         "offsetgroup": "25.0",
         "showlegend": false,
         "type": "box",
         "x": [
          25
         ],
         "xaxis": "x2",
         "yaxis": "y2"
        },
        {
         "alignmentgroup": "True",
         "bingroup": "x",
         "hovertemplate": "indegree=%{x}<br>count=%{y}<extra></extra>",
         "legendgroup": "46.0",
         "marker": {
          "color": "#B6E880",
          "pattern": {
           "shape": ""
          }
         },
         "name": "46.0",
         "offsetgroup": "46.0",
         "orientation": "v",
         "showlegend": true,
         "type": "histogram",
         "x": [
          46,
          46
         ],
         "xaxis": "x",
         "yaxis": "y"
        },
        {
         "alignmentgroup": "True",
         "customdata": [
          [
           12
          ],
          [
           0
          ]
         ],
         "hovertemplate": "indegree=%{x}<br>outdegree=%{customdata[0]}<extra></extra>",
         "legendgroup": "46.0",
         "marker": {
          "color": "#B6E880"
         },
         "name": "46.0",
         "notched": true,
         "offsetgroup": "46.0",
         "showlegend": false,
         "type": "box",
         "x": [
          46,
          46
         ],
         "xaxis": "x2",
         "yaxis": "y2"
        },
        {
         "alignmentgroup": "True",
         "bingroup": "x",
         "hovertemplate": "indegree=%{x}<br>count=%{y}<extra></extra>",
         "legendgroup": "4.0",
         "marker": {
          "color": "#FF97FF",
          "pattern": {
           "shape": ""
          }
         },
         "name": "4.0",
         "offsetgroup": "4.0",
         "orientation": "v",
         "showlegend": true,
         "type": "histogram",
         "x": [
          4,
          4,
          4,
          4,
          4,
          4,
          4,
          4,
          4,
          4,
          4,
          4,
          4,
          4,
          4
         ],
         "xaxis": "x",
         "yaxis": "y"
        },
        {
         "alignmentgroup": "True",
         "customdata": [
          [
           0
          ],
          [
           3
          ],
          [
           8
          ],
          [
           3
          ],
          [
           8
          ],
          [
           2
          ],
          [
           1
          ],
          [
           3
          ],
          [
           10
          ],
          [
           5
          ],
          [
           19
          ],
          [
           6
          ],
          [
           3
          ],
          [
           7
          ],
          [
           0
          ]
         ],
         "hovertemplate": "indegree=%{x}<br>outdegree=%{customdata[0]}<extra></extra>",
         "legendgroup": "4.0",
         "marker": {
          "color": "#FF97FF"
         },
         "name": "4.0",
         "notched": true,
         "offsetgroup": "4.0",
         "showlegend": false,
         "type": "box",
         "x": [
          4,
          4,
          4,
          4,
          4,
          4,
          4,
          4,
          4,
          4,
          4,
          4,
          4,
          4,
          4
         ],
         "xaxis": "x2",
         "yaxis": "y2"
        },
        {
         "alignmentgroup": "True",
         "bingroup": "x",
         "hovertemplate": "indegree=%{x}<br>count=%{y}<extra></extra>",
         "legendgroup": "3.0",
         "marker": {
          "color": "#FECB52",
          "pattern": {
           "shape": ""
          }
         },
         "name": "3.0",
         "offsetgroup": "3.0",
         "orientation": "v",
         "showlegend": true,
         "type": "histogram",
         "x": [
          3,
          3,
          3,
          3,
          3,
          3,
          3,
          3,
          3,
          3,
          3,
          3,
          3,
          3,
          3,
          3,
          3,
          3,
          3
         ],
         "xaxis": "x",
         "yaxis": "y"
        },
        {
         "alignmentgroup": "True",
         "customdata": [
          [
           1
          ],
          [
           1
          ],
          [
           24
          ],
          [
           5
          ],
          [
           17
          ],
          [
           11
          ],
          [
           9
          ],
          [
           8
          ],
          [
           10
          ],
          [
           3
          ],
          [
           0
          ],
          [
           3
          ],
          [
           0
          ],
          [
           0
          ],
          [
           2
          ],
          [
           0
          ],
          [
           1
          ],
          [
           0
          ],
          [
           0
          ]
         ],
         "hovertemplate": "indegree=%{x}<br>outdegree=%{customdata[0]}<extra></extra>",
         "legendgroup": "3.0",
         "marker": {
          "color": "#FECB52"
         },
         "name": "3.0",
         "notched": true,
         "offsetgroup": "3.0",
         "showlegend": false,
         "type": "box",
         "x": [
          3,
          3,
          3,
          3,
          3,
          3,
          3,
          3,
          3,
          3,
          3,
          3,
          3,
          3,
          3,
          3,
          3,
          3,
          3
         ],
         "xaxis": "x2",
         "yaxis": "y2"
        },
        {
         "alignmentgroup": "True",
         "bingroup": "x",
         "hovertemplate": "indegree=%{x}<br>count=%{y}<extra></extra>",
         "legendgroup": "7.0",
         "marker": {
          "color": "#636efa",
          "pattern": {
           "shape": ""
          }
         },
         "name": "7.0",
         "offsetgroup": "7.0",
         "orientation": "v",
         "showlegend": true,
         "type": "histogram",
         "x": [
          7,
          7,
          7,
          7,
          7,
          7,
          7,
          7,
          7,
          7,
          7,
          7,
          7,
          7,
          7
         ],
         "xaxis": "x",
         "yaxis": "y"
        },
        {
         "alignmentgroup": "True",
         "customdata": [
          [
           2
          ],
          [
           6
          ],
          [
           7
          ],
          [
           10
          ],
          [
           17
          ],
          [
           30
          ],
          [
           13
          ],
          [
           14
          ],
          [
           10
          ],
          [
           11
          ],
          [
           2
          ],
          [
           1
          ],
          [
           8
          ],
          [
           11
          ],
          [
           0
          ]
         ],
         "hovertemplate": "indegree=%{x}<br>outdegree=%{customdata[0]}<extra></extra>",
         "legendgroup": "7.0",
         "marker": {
          "color": "#636efa"
         },
         "name": "7.0",
         "notched": true,
         "offsetgroup": "7.0",
         "showlegend": false,
         "type": "box",
         "x": [
          7,
          7,
          7,
          7,
          7,
          7,
          7,
          7,
          7,
          7,
          7,
          7,
          7,
          7,
          7
         ],
         "xaxis": "x2",
         "yaxis": "y2"
        },
        {
         "alignmentgroup": "True",
         "bingroup": "x",
         "hovertemplate": "indegree=%{x}<br>count=%{y}<extra></extra>",
         "legendgroup": "34.0",
         "marker": {
          "color": "#EF553B",
          "pattern": {
           "shape": ""
          }
         },
         "name": "34.0",
         "offsetgroup": "34.0",
         "orientation": "v",
         "showlegend": true,
         "type": "histogram",
         "x": [
          34,
          34
         ],
         "xaxis": "x",
         "yaxis": "y"
        },
        {
         "alignmentgroup": "True",
         "customdata": [
          [
           20
          ],
          [
           11
          ]
         ],
         "hovertemplate": "indegree=%{x}<br>outdegree=%{customdata[0]}<extra></extra>",
         "legendgroup": "34.0",
         "marker": {
          "color": "#EF553B"
         },
         "name": "34.0",
         "notched": true,
         "offsetgroup": "34.0",
         "showlegend": false,
         "type": "box",
         "x": [
          34,
          34
         ],
         "xaxis": "x2",
         "yaxis": "y2"
        },
        {
         "alignmentgroup": "True",
         "bingroup": "x",
         "hovertemplate": "indegree=%{x}<br>count=%{y}<extra></extra>",
         "legendgroup": "42.0",
         "marker": {
          "color": "#00cc96",
          "pattern": {
           "shape": ""
          }
         },
         "name": "42.0",
         "offsetgroup": "42.0",
         "orientation": "v",
         "showlegend": true,
         "type": "histogram",
         "x": [
          42
         ],
         "xaxis": "x",
         "yaxis": "y"
        },
        {
         "alignmentgroup": "True",
         "customdata": [
          [
           25
          ]
         ],
         "hovertemplate": "indegree=%{x}<br>outdegree=%{customdata[0]}<extra></extra>",
         "legendgroup": "42.0",
         "marker": {
          "color": "#00cc96"
         },
         "name": "42.0",
         "notched": true,
         "offsetgroup": "42.0",
         "showlegend": false,
         "type": "box",
         "x": [
          42
         ],
         "xaxis": "x2",
         "yaxis": "y2"
        },
        {
         "alignmentgroup": "True",
         "bingroup": "x",
         "hovertemplate": "indegree=%{x}<br>count=%{y}<extra></extra>",
         "legendgroup": "44.0",
         "marker": {
          "color": "#ab63fa",
          "pattern": {
           "shape": ""
          }
         },
         "name": "44.0",
         "offsetgroup": "44.0",
         "orientation": "v",
         "showlegend": true,
         "type": "histogram",
         "x": [
          44
         ],
         "xaxis": "x",
         "yaxis": "y"
        },
        {
         "alignmentgroup": "True",
         "customdata": [
          [
           15
          ]
         ],
         "hovertemplate": "indegree=%{x}<br>outdegree=%{customdata[0]}<extra></extra>",
         "legendgroup": "44.0",
         "marker": {
          "color": "#ab63fa"
         },
         "name": "44.0",
         "notched": true,
         "offsetgroup": "44.0",
         "showlegend": false,
         "type": "box",
         "x": [
          44
         ],
         "xaxis": "x2",
         "yaxis": "y2"
        },
        {
         "alignmentgroup": "True",
         "bingroup": "x",
         "hovertemplate": "indegree=%{x}<br>count=%{y}<extra></extra>",
         "legendgroup": "18.0",
         "marker": {
          "color": "#FFA15A",
          "pattern": {
           "shape": ""
          }
         },
         "name": "18.0",
         "offsetgroup": "18.0",
         "orientation": "v",
         "showlegend": true,
         "type": "histogram",
         "x": [
          18,
          18
         ],
         "xaxis": "x",
         "yaxis": "y"
        },
        {
         "alignmentgroup": "True",
         "customdata": [
          [
           29
          ],
          [
           8
          ]
         ],
         "hovertemplate": "indegree=%{x}<br>outdegree=%{customdata[0]}<extra></extra>",
         "legendgroup": "18.0",
         "marker": {
          "color": "#FFA15A"
         },
         "name": "18.0",
         "notched": true,
         "offsetgroup": "18.0",
         "showlegend": false,
         "type": "box",
         "x": [
          18,
          18
         ],
         "xaxis": "x2",
         "yaxis": "y2"
        },
        {
         "alignmentgroup": "True",
         "bingroup": "x",
         "hovertemplate": "indegree=%{x}<br>count=%{y}<extra></extra>",
         "legendgroup": "38.0",
         "marker": {
          "color": "#19d3f3",
          "pattern": {
           "shape": ""
          }
         },
         "name": "38.0",
         "offsetgroup": "38.0",
         "orientation": "v",
         "showlegend": true,
         "type": "histogram",
         "x": [
          38
         ],
         "xaxis": "x",
         "yaxis": "y"
        },
        {
         "alignmentgroup": "True",
         "customdata": [
          [
           32
          ]
         ],
         "hovertemplate": "indegree=%{x}<br>outdegree=%{customdata[0]}<extra></extra>",
         "legendgroup": "38.0",
         "marker": {
          "color": "#19d3f3"
         },
         "name": "38.0",
         "notched": true,
         "offsetgroup": "38.0",
         "showlegend": false,
         "type": "box",
         "x": [
          38
         ],
         "xaxis": "x2",
         "yaxis": "y2"
        },
        {
         "alignmentgroup": "True",
         "bingroup": "x",
         "hovertemplate": "indegree=%{x}<br>count=%{y}<extra></extra>",
         "legendgroup": "36.0",
         "marker": {
          "color": "#FF6692",
          "pattern": {
           "shape": ""
          }
         },
         "name": "36.0",
         "offsetgroup": "36.0",
         "orientation": "v",
         "showlegend": true,
         "type": "histogram",
         "x": [
          36,
          36
         ],
         "xaxis": "x",
         "yaxis": "y"
        },
        {
         "alignmentgroup": "True",
         "customdata": [
          [
           25
          ],
          [
           10
          ]
         ],
         "hovertemplate": "indegree=%{x}<br>outdegree=%{customdata[0]}<extra></extra>",
         "legendgroup": "36.0",
         "marker": {
          "color": "#FF6692"
         },
         "name": "36.0",
         "notched": true,
         "offsetgroup": "36.0",
         "showlegend": false,
         "type": "box",
         "x": [
          36,
          36
         ],
         "xaxis": "x2",
         "yaxis": "y2"
        },
        {
         "alignmentgroup": "True",
         "bingroup": "x",
         "hovertemplate": "indegree=%{x}<br>count=%{y}<extra></extra>",
         "legendgroup": "37.0",
         "marker": {
          "color": "#B6E880",
          "pattern": {
           "shape": ""
          }
         },
         "name": "37.0",
         "offsetgroup": "37.0",
         "orientation": "v",
         "showlegend": true,
         "type": "histogram",
         "x": [
          37
         ],
         "xaxis": "x",
         "yaxis": "y"
        },
        {
         "alignmentgroup": "True",
         "customdata": [
          [
           14
          ]
         ],
         "hovertemplate": "indegree=%{x}<br>outdegree=%{customdata[0]}<extra></extra>",
         "legendgroup": "37.0",
         "marker": {
          "color": "#B6E880"
         },
         "name": "37.0",
         "notched": true,
         "offsetgroup": "37.0",
         "showlegend": false,
         "type": "box",
         "x": [
          37
         ],
         "xaxis": "x2",
         "yaxis": "y2"
        },
        {
         "alignmentgroup": "True",
         "bingroup": "x",
         "hovertemplate": "indegree=%{x}<br>count=%{y}<extra></extra>",
         "legendgroup": "23.0",
         "marker": {
          "color": "#FF97FF",
          "pattern": {
           "shape": ""
          }
         },
         "name": "23.0",
         "offsetgroup": "23.0",
         "orientation": "v",
         "showlegend": true,
         "type": "histogram",
         "x": [
          23,
          23
         ],
         "xaxis": "x",
         "yaxis": "y"
        },
        {
         "alignmentgroup": "True",
         "customdata": [
          [
           16
          ],
          [
           40
          ]
         ],
         "hovertemplate": "indegree=%{x}<br>outdegree=%{customdata[0]}<extra></extra>",
         "legendgroup": "23.0",
         "marker": {
          "color": "#FF97FF"
         },
         "name": "23.0",
         "notched": true,
         "offsetgroup": "23.0",
         "showlegend": false,
         "type": "box",
         "x": [
          23,
          23
         ],
         "xaxis": "x2",
         "yaxis": "y2"
        }
       ],
       "layout": {
        "barmode": "relative",
        "legend": {
         "title": {
          "text": "indegree"
         },
         "tracegroupgap": 0
        },
        "margin": {
         "t": 60
        },
        "template": {
         "data": {
          "bar": [
           {
            "error_x": {
             "color": "#2a3f5f"
            },
            "error_y": {
             "color": "#2a3f5f"
            },
            "marker": {
             "line": {
              "color": "#E5ECF6",
              "width": 0.5
             },
             "pattern": {
              "fillmode": "overlay",
              "size": 10,
              "solidity": 0.2
             }
            },
            "type": "bar"
           }
          ],
          "barpolar": [
           {
            "marker": {
             "line": {
              "color": "#E5ECF6",
              "width": 0.5
             },
             "pattern": {
              "fillmode": "overlay",
              "size": 10,
              "solidity": 0.2
             }
            },
            "type": "barpolar"
           }
          ],
          "carpet": [
           {
            "aaxis": {
             "endlinecolor": "#2a3f5f",
             "gridcolor": "white",
             "linecolor": "white",
             "minorgridcolor": "white",
             "startlinecolor": "#2a3f5f"
            },
            "baxis": {
             "endlinecolor": "#2a3f5f",
             "gridcolor": "white",
             "linecolor": "white",
             "minorgridcolor": "white",
             "startlinecolor": "#2a3f5f"
            },
            "type": "carpet"
           }
          ],
          "choropleth": [
           {
            "colorbar": {
             "outlinewidth": 0,
             "ticks": ""
            },
            "type": "choropleth"
           }
          ],
          "contour": [
           {
            "colorbar": {
             "outlinewidth": 0,
             "ticks": ""
            },
            "colorscale": [
             [
              0,
              "#0d0887"
             ],
             [
              0.1111111111111111,
              "#46039f"
             ],
             [
              0.2222222222222222,
              "#7201a8"
             ],
             [
              0.3333333333333333,
              "#9c179e"
             ],
             [
              0.4444444444444444,
              "#bd3786"
             ],
             [
              0.5555555555555556,
              "#d8576b"
             ],
             [
              0.6666666666666666,
              "#ed7953"
             ],
             [
              0.7777777777777778,
              "#fb9f3a"
             ],
             [
              0.8888888888888888,
              "#fdca26"
             ],
             [
              1,
              "#f0f921"
             ]
            ],
            "type": "contour"
           }
          ],
          "contourcarpet": [
           {
            "colorbar": {
             "outlinewidth": 0,
             "ticks": ""
            },
            "type": "contourcarpet"
           }
          ],
          "heatmap": [
           {
            "colorbar": {
             "outlinewidth": 0,
             "ticks": ""
            },
            "colorscale": [
             [
              0,
              "#0d0887"
             ],
             [
              0.1111111111111111,
              "#46039f"
             ],
             [
              0.2222222222222222,
              "#7201a8"
             ],
             [
              0.3333333333333333,
              "#9c179e"
             ],
             [
              0.4444444444444444,
              "#bd3786"
             ],
             [
              0.5555555555555556,
              "#d8576b"
             ],
             [
              0.6666666666666666,
              "#ed7953"
             ],
             [
              0.7777777777777778,
              "#fb9f3a"
             ],
             [
              0.8888888888888888,
              "#fdca26"
             ],
             [
              1,
              "#f0f921"
             ]
            ],
            "type": "heatmap"
           }
          ],
          "heatmapgl": [
           {
            "colorbar": {
             "outlinewidth": 0,
             "ticks": ""
            },
            "colorscale": [
             [
              0,
              "#0d0887"
             ],
             [
              0.1111111111111111,
              "#46039f"
             ],
             [
              0.2222222222222222,
              "#7201a8"
             ],
             [
              0.3333333333333333,
              "#9c179e"
             ],
             [
              0.4444444444444444,
              "#bd3786"
             ],
             [
              0.5555555555555556,
              "#d8576b"
             ],
             [
              0.6666666666666666,
              "#ed7953"
             ],
             [
              0.7777777777777778,
              "#fb9f3a"
             ],
             [
              0.8888888888888888,
              "#fdca26"
             ],
             [
              1,
              "#f0f921"
             ]
            ],
            "type": "heatmapgl"
           }
          ],
          "histogram": [
           {
            "marker": {
             "pattern": {
              "fillmode": "overlay",
              "size": 10,
              "solidity": 0.2
             }
            },
            "type": "histogram"
           }
          ],
          "histogram2d": [
           {
            "colorbar": {
             "outlinewidth": 0,
             "ticks": ""
            },
            "colorscale": [
             [
              0,
              "#0d0887"
             ],
             [
              0.1111111111111111,
              "#46039f"
             ],
             [
              0.2222222222222222,
              "#7201a8"
             ],
             [
              0.3333333333333333,
              "#9c179e"
             ],
             [
              0.4444444444444444,
              "#bd3786"
             ],
             [
              0.5555555555555556,
              "#d8576b"
             ],
             [
              0.6666666666666666,
              "#ed7953"
             ],
             [
              0.7777777777777778,
              "#fb9f3a"
             ],
             [
              0.8888888888888888,
              "#fdca26"
             ],
             [
              1,
              "#f0f921"
             ]
            ],
            "type": "histogram2d"
           }
          ],
          "histogram2dcontour": [
           {
            "colorbar": {
             "outlinewidth": 0,
             "ticks": ""
            },
            "colorscale": [
             [
              0,
              "#0d0887"
             ],
             [
              0.1111111111111111,
              "#46039f"
             ],
             [
              0.2222222222222222,
              "#7201a8"
             ],
             [
              0.3333333333333333,
              "#9c179e"
             ],
             [
              0.4444444444444444,
              "#bd3786"
             ],
             [
              0.5555555555555556,
              "#d8576b"
             ],
             [
              0.6666666666666666,
              "#ed7953"
             ],
             [
              0.7777777777777778,
              "#fb9f3a"
             ],
             [
              0.8888888888888888,
              "#fdca26"
             ],
             [
              1,
              "#f0f921"
             ]
            ],
            "type": "histogram2dcontour"
           }
          ],
          "mesh3d": [
           {
            "colorbar": {
             "outlinewidth": 0,
             "ticks": ""
            },
            "type": "mesh3d"
           }
          ],
          "parcoords": [
           {
            "line": {
             "colorbar": {
              "outlinewidth": 0,
              "ticks": ""
             }
            },
            "type": "parcoords"
           }
          ],
          "pie": [
           {
            "automargin": true,
            "type": "pie"
           }
          ],
          "scatter": [
           {
            "fillpattern": {
             "fillmode": "overlay",
             "size": 10,
             "solidity": 0.2
            },
            "type": "scatter"
           }
          ],
          "scatter3d": [
           {
            "line": {
             "colorbar": {
              "outlinewidth": 0,
              "ticks": ""
             }
            },
            "marker": {
             "colorbar": {
              "outlinewidth": 0,
              "ticks": ""
             }
            },
            "type": "scatter3d"
           }
          ],
          "scattercarpet": [
           {
            "marker": {
             "colorbar": {
              "outlinewidth": 0,
              "ticks": ""
             }
            },
            "type": "scattercarpet"
           }
          ],
          "scattergeo": [
           {
            "marker": {
             "colorbar": {
              "outlinewidth": 0,
              "ticks": ""
             }
            },
            "type": "scattergeo"
           }
          ],
          "scattergl": [
           {
            "marker": {
             "colorbar": {
              "outlinewidth": 0,
              "ticks": ""
             }
            },
            "type": "scattergl"
           }
          ],
          "scattermapbox": [
           {
            "marker": {
             "colorbar": {
              "outlinewidth": 0,
              "ticks": ""
             }
            },
            "type": "scattermapbox"
           }
          ],
          "scatterpolar": [
           {
            "marker": {
             "colorbar": {
              "outlinewidth": 0,
              "ticks": ""
             }
            },
            "type": "scatterpolar"
           }
          ],
          "scatterpolargl": [
           {
            "marker": {
             "colorbar": {
              "outlinewidth": 0,
              "ticks": ""
             }
            },
            "type": "scatterpolargl"
           }
          ],
          "scatterternary": [
           {
            "marker": {
             "colorbar": {
              "outlinewidth": 0,
              "ticks": ""
             }
            },
            "type": "scatterternary"
           }
          ],
          "surface": [
           {
            "colorbar": {
             "outlinewidth": 0,
             "ticks": ""
            },
            "colorscale": [
             [
              0,
              "#0d0887"
             ],
             [
              0.1111111111111111,
              "#46039f"
             ],
             [
              0.2222222222222222,
              "#7201a8"
             ],
             [
              0.3333333333333333,
              "#9c179e"
             ],
             [
              0.4444444444444444,
              "#bd3786"
             ],
             [
              0.5555555555555556,
              "#d8576b"
             ],
             [
              0.6666666666666666,
              "#ed7953"
             ],
             [
              0.7777777777777778,
              "#fb9f3a"
             ],
             [
              0.8888888888888888,
              "#fdca26"
             ],
             [
              1,
              "#f0f921"
             ]
            ],
            "type": "surface"
           }
          ],
          "table": [
           {
            "cells": {
             "fill": {
              "color": "#EBF0F8"
             },
             "line": {
              "color": "white"
             }
            },
            "header": {
             "fill": {
              "color": "#C8D4E3"
             },
             "line": {
              "color": "white"
             }
            },
            "type": "table"
           }
          ]
         },
         "layout": {
          "annotationdefaults": {
           "arrowcolor": "#2a3f5f",
           "arrowhead": 0,
           "arrowwidth": 1
          },
          "autotypenumbers": "strict",
          "coloraxis": {
           "colorbar": {
            "outlinewidth": 0,
            "ticks": ""
           }
          },
          "colorscale": {
           "diverging": [
            [
             0,
             "#8e0152"
            ],
            [
             0.1,
             "#c51b7d"
            ],
            [
             0.2,
             "#de77ae"
            ],
            [
             0.3,
             "#f1b6da"
            ],
            [
             0.4,
             "#fde0ef"
            ],
            [
             0.5,
             "#f7f7f7"
            ],
            [
             0.6,
             "#e6f5d0"
            ],
            [
             0.7,
             "#b8e186"
            ],
            [
             0.8,
             "#7fbc41"
            ],
            [
             0.9,
             "#4d9221"
            ],
            [
             1,
             "#276419"
            ]
           ],
           "sequential": [
            [
             0,
             "#0d0887"
            ],
            [
             0.1111111111111111,
             "#46039f"
            ],
            [
             0.2222222222222222,
             "#7201a8"
            ],
            [
             0.3333333333333333,
             "#9c179e"
            ],
            [
             0.4444444444444444,
             "#bd3786"
            ],
            [
             0.5555555555555556,
             "#d8576b"
            ],
            [
             0.6666666666666666,
             "#ed7953"
            ],
            [
             0.7777777777777778,
             "#fb9f3a"
            ],
            [
             0.8888888888888888,
             "#fdca26"
            ],
            [
             1,
             "#f0f921"
            ]
           ],
           "sequentialminus": [
            [
             0,
             "#0d0887"
            ],
            [
             0.1111111111111111,
             "#46039f"
            ],
            [
             0.2222222222222222,
             "#7201a8"
            ],
            [
             0.3333333333333333,
             "#9c179e"
            ],
            [
             0.4444444444444444,
             "#bd3786"
            ],
            [
             0.5555555555555556,
             "#d8576b"
            ],
            [
             0.6666666666666666,
             "#ed7953"
            ],
            [
             0.7777777777777778,
             "#fb9f3a"
            ],
            [
             0.8888888888888888,
             "#fdca26"
            ],
            [
             1,
             "#f0f921"
            ]
           ]
          },
          "colorway": [
           "#636efa",
           "#EF553B",
           "#00cc96",
           "#ab63fa",
           "#FFA15A",
           "#19d3f3",
           "#FF6692",
           "#B6E880",
           "#FF97FF",
           "#FECB52"
          ],
          "font": {
           "color": "#2a3f5f"
          },
          "geo": {
           "bgcolor": "white",
           "lakecolor": "white",
           "landcolor": "#E5ECF6",
           "showlakes": true,
           "showland": true,
           "subunitcolor": "white"
          },
          "hoverlabel": {
           "align": "left"
          },
          "hovermode": "closest",
          "mapbox": {
           "style": "light"
          },
          "paper_bgcolor": "white",
          "plot_bgcolor": "#E5ECF6",
          "polar": {
           "angularaxis": {
            "gridcolor": "white",
            "linecolor": "white",
            "ticks": ""
           },
           "bgcolor": "#E5ECF6",
           "radialaxis": {
            "gridcolor": "white",
            "linecolor": "white",
            "ticks": ""
           }
          },
          "scene": {
           "xaxis": {
            "backgroundcolor": "#E5ECF6",
            "gridcolor": "white",
            "gridwidth": 2,
            "linecolor": "white",
            "showbackground": true,
            "ticks": "",
            "zerolinecolor": "white"
           },
           "yaxis": {
            "backgroundcolor": "#E5ECF6",
            "gridcolor": "white",
            "gridwidth": 2,
            "linecolor": "white",
            "showbackground": true,
            "ticks": "",
            "zerolinecolor": "white"
           },
           "zaxis": {
            "backgroundcolor": "#E5ECF6",
            "gridcolor": "white",
            "gridwidth": 2,
            "linecolor": "white",
            "showbackground": true,
            "ticks": "",
            "zerolinecolor": "white"
           }
          },
          "shapedefaults": {
           "line": {
            "color": "#2a3f5f"
           }
          },
          "ternary": {
           "aaxis": {
            "gridcolor": "white",
            "linecolor": "white",
            "ticks": ""
           },
           "baxis": {
            "gridcolor": "white",
            "linecolor": "white",
            "ticks": ""
           },
           "bgcolor": "#E5ECF6",
           "caxis": {
            "gridcolor": "white",
            "linecolor": "white",
            "ticks": ""
           }
          },
          "title": {
           "x": 0.05
          },
          "xaxis": {
           "automargin": true,
           "gridcolor": "white",
           "linecolor": "white",
           "ticks": "",
           "title": {
            "standoff": 15
           },
           "zerolinecolor": "white",
           "zerolinewidth": 2
          },
          "yaxis": {
           "automargin": true,
           "gridcolor": "white",
           "linecolor": "white",
           "ticks": "",
           "title": {
            "standoff": 15
           },
           "zerolinecolor": "white",
           "zerolinewidth": 2
          }
         }
        },
        "xaxis": {
         "anchor": "y",
         "categoryarray": [
          0,
          40,
          2,
          31,
          24,
          17,
          21,
          15,
          8,
          5,
          13,
          16,
          14,
          6,
          10,
          1,
          19,
          11,
          35,
          26,
          9,
          22,
          52,
          33,
          28,
          12,
          25,
          46,
          4,
          3,
          7,
          34,
          42,
          44,
          18,
          38,
          36,
          37,
          23
         ],
         "categoryorder": "array",
         "domain": [
          0,
          1
         ],
         "title": {
          "text": "indegree"
         }
        },
        "xaxis2": {
         "anchor": "y2",
         "domain": [
          0,
          1
         ],
         "matches": "x",
         "showgrid": true,
         "showticklabels": false
        },
        "yaxis": {
         "anchor": "x",
         "domain": [
          0,
          0.7326
         ],
         "title": {
          "text": "count"
         }
        },
        "yaxis2": {
         "anchor": "x2",
         "domain": [
          0.7426,
          1
         ],
         "matches": "y2",
         "showgrid": false,
         "showline": false,
         "showticklabels": false,
         "ticks": ""
        }
       }
      }
     },
     "metadata": {},
     "output_type": "display_data"
    },
    {
     "data": {
      "application/vnd.plotly.v1+json": {
       "config": {
        "plotlyServerURL": "https://plot.ly"
       },
       "data": [
        {
         "alignmentgroup": "True",
         "bingroup": "x",
         "hovertemplate": "outdegree=%{x}<br>count=%{y}<extra></extra>",
         "legendgroup": "2.0",
         "marker": {
          "color": "#636efa",
          "pattern": {
           "shape": ""
          }
         },
         "name": "2.0",
         "offsetgroup": "2.0",
         "orientation": "v",
         "showlegend": true,
         "type": "histogram",
         "x": [
          2,
          2,
          2,
          2,
          2,
          2,
          2,
          2,
          2,
          2,
          2
         ],
         "xaxis": "x",
         "yaxis": "y"
        },
        {
         "alignmentgroup": "True",
         "customdata": [
          [
           0
          ],
          [
           7
          ],
          [
           6
          ],
          [
           6
          ],
          [
           4
          ],
          [
           2
          ],
          [
           6
          ],
          [
           7
          ],
          [
           2
          ],
          [
           3
          ],
          [
           0
          ]
         ],
         "hovertemplate": "outdegree=%{x}<br>indegree=%{customdata[0]}<extra></extra>",
         "legendgroup": "2.0",
         "marker": {
          "color": "#636efa"
         },
         "name": "2.0",
         "notched": true,
         "offsetgroup": "2.0",
         "showlegend": false,
         "type": "box",
         "x": [
          2,
          2,
          2,
          2,
          2,
          2,
          2,
          2,
          2,
          2,
          2
         ],
         "xaxis": "x2",
         "yaxis": "y2"
        },
        {
         "alignmentgroup": "True",
         "bingroup": "x",
         "hovertemplate": "outdegree=%{x}<br>count=%{y}<extra></extra>",
         "legendgroup": "28.0",
         "marker": {
          "color": "#EF553B",
          "pattern": {
           "shape": ""
          }
         },
         "name": "28.0",
         "offsetgroup": "28.0",
         "orientation": "v",
         "showlegend": true,
         "type": "histogram",
         "x": [
          28,
          28,
          28
         ],
         "xaxis": "x",
         "yaxis": "y"
        },
        {
         "alignmentgroup": "True",
         "customdata": [
          [
           40
          ],
          [
           21
          ],
          [
           21
          ]
         ],
         "hovertemplate": "outdegree=%{x}<br>indegree=%{customdata[0]}<extra></extra>",
         "legendgroup": "28.0",
         "marker": {
          "color": "#EF553B"
         },
         "name": "28.0",
         "notched": true,
         "offsetgroup": "28.0",
         "showlegend": false,
         "type": "box",
         "x": [
          28,
          28,
          28
         ],
         "xaxis": "x2",
         "yaxis": "y2"
        },
        {
         "alignmentgroup": "True",
         "bingroup": "x",
         "hovertemplate": "outdegree=%{x}<br>count=%{y}<extra></extra>",
         "legendgroup": "14.0",
         "marker": {
          "color": "#00cc96",
          "pattern": {
           "shape": ""
          }
         },
         "name": "14.0",
         "offsetgroup": "14.0",
         "orientation": "v",
         "showlegend": true,
         "type": "histogram",
         "x": [
          14,
          14,
          14,
          14,
          14,
          14
         ],
         "xaxis": "x",
         "yaxis": "y"
        },
        {
         "alignmentgroup": "True",
         "customdata": [
          [
           2
          ],
          [
           6
          ],
          [
           37
          ],
          [
           6
          ],
          [
           7
          ],
          [
           1
          ]
         ],
         "hovertemplate": "outdegree=%{x}<br>indegree=%{customdata[0]}<extra></extra>",
         "legendgroup": "14.0",
         "marker": {
          "color": "#00cc96"
         },
         "name": "14.0",
         "notched": true,
         "offsetgroup": "14.0",
         "showlegend": false,
         "type": "box",
         "x": [
          14,
          14,
          14,
          14,
          14,
          14
         ],
         "xaxis": "x2",
         "yaxis": "y2"
        },
        {
         "alignmentgroup": "True",
         "bingroup": "x",
         "hovertemplate": "outdegree=%{x}<br>count=%{y}<extra></extra>",
         "legendgroup": "0.0",
         "marker": {
          "color": "#ab63fa",
          "pattern": {
           "shape": ""
          }
         },
         "name": "0.0",
         "offsetgroup": "0.0",
         "orientation": "v",
         "showlegend": true,
         "type": "histogram",
         "x": [
          0,
          0,
          0,
          0,
          0,
          0,
          0,
          0,
          0,
          0,
          0,
          0,
          0,
          0,
          0,
          0,
          0,
          0,
          0,
          0,
          0,
          0,
          0,
          0,
          0,
          0,
          0,
          0,
          0,
          0
         ],
         "xaxis": "x",
         "yaxis": "y"
        },
        {
         "alignmentgroup": "True",
         "customdata": [
          [
           31
          ],
          [
           16
          ],
          [
           14
          ],
          [
           4
          ],
          [
           17
          ],
          [
           46
          ],
          [
           19
          ],
          [
           11
          ],
          [
           8
          ],
          [
           5
          ],
          [
           5
          ],
          [
           3
          ],
          [
           1
          ],
          [
           5
          ],
          [
           6
          ],
          [
           4
          ],
          [
           3
          ],
          [
           2
          ],
          [
           2
          ],
          [
           3
          ],
          [
           7
          ],
          [
           3
          ],
          [
           3
          ],
          [
           3
          ],
          [
           2
          ],
          [
           1
          ],
          [
           1
          ],
          [
           1
          ],
          [
           1
          ],
          [
           1
          ]
         ],
         "hovertemplate": "outdegree=%{x}<br>indegree=%{customdata[0]}<extra></extra>",
         "legendgroup": "0.0",
         "marker": {
          "color": "#ab63fa"
         },
         "name": "0.0",
         "notched": true,
         "offsetgroup": "0.0",
         "showlegend": false,
         "type": "box",
         "x": [
          0,
          0,
          0,
          0,
          0,
          0,
          0,
          0,
          0,
          0,
          0,
          0,
          0,
          0,
          0,
          0,
          0,
          0,
          0,
          0,
          0,
          0,
          0,
          0,
          0,
          0,
          0,
          0,
          0,
          0
         ],
         "xaxis": "x2",
         "yaxis": "y2"
        },
        {
         "alignmentgroup": "True",
         "bingroup": "x",
         "hovertemplate": "outdegree=%{x}<br>count=%{y}<extra></extra>",
         "legendgroup": "26.0",
         "marker": {
          "color": "#FFA15A",
          "pattern": {
           "shape": ""
          }
         },
         "name": "26.0",
         "offsetgroup": "26.0",
         "orientation": "v",
         "showlegend": true,
         "type": "histogram",
         "x": [
          26,
          26,
          26,
          26
         ],
         "xaxis": "x",
         "yaxis": "y"
        },
        {
         "alignmentgroup": "True",
         "customdata": [
          [
           24
          ],
          [
           15
          ],
          [
           14
          ],
          [
           16
          ]
         ],
         "hovertemplate": "outdegree=%{x}<br>indegree=%{customdata[0]}<extra></extra>",
         "legendgroup": "26.0",
         "marker": {
          "color": "#FFA15A"
         },
         "name": "26.0",
         "notched": true,
         "offsetgroup": "26.0",
         "showlegend": false,
         "type": "box",
         "x": [
          26,
          26,
          26,
          26
         ],
         "xaxis": "x2",
         "yaxis": "y2"
        },
        {
         "alignmentgroup": "True",
         "bingroup": "x",
         "hovertemplate": "outdegree=%{x}<br>count=%{y}<extra></extra>",
         "legendgroup": "39.0",
         "marker": {
          "color": "#19d3f3",
          "pattern": {
           "shape": ""
          }
         },
         "name": "39.0",
         "offsetgroup": "39.0",
         "orientation": "v",
         "showlegend": true,
         "type": "histogram",
         "x": [
          39
         ],
         "xaxis": "x",
         "yaxis": "y"
        },
        {
         "alignmentgroup": "True",
         "customdata": [
          [
           17
          ]
         ],
         "hovertemplate": "outdegree=%{x}<br>indegree=%{customdata[0]}<extra></extra>",
         "legendgroup": "39.0",
         "marker": {
          "color": "#19d3f3"
         },
         "name": "39.0",
         "notched": true,
         "offsetgroup": "39.0",
         "showlegend": false,
         "type": "box",
         "x": [
          39
         ],
         "xaxis": "x2",
         "yaxis": "y2"
        },
        {
         "alignmentgroup": "True",
         "bingroup": "x",
         "hovertemplate": "outdegree=%{x}<br>count=%{y}<extra></extra>",
         "legendgroup": "44.0",
         "marker": {
          "color": "#FF6692",
          "pattern": {
           "shape": ""
          }
         },
         "name": "44.0",
         "offsetgroup": "44.0",
         "orientation": "v",
         "showlegend": true,
         "type": "histogram",
         "x": [
          44
         ],
         "xaxis": "x",
         "yaxis": "y"
        },
        {
         "alignmentgroup": "True",
         "customdata": [
          [
           21
          ]
         ],
         "hovertemplate": "outdegree=%{x}<br>indegree=%{customdata[0]}<extra></extra>",
         "legendgroup": "44.0",
         "marker": {
          "color": "#FF6692"
         },
         "name": "44.0",
         "notched": true,
         "offsetgroup": "44.0",
         "showlegend": false,
         "type": "box",
         "x": [
          44
         ],
         "xaxis": "x2",
         "yaxis": "y2"
        },
        {
         "alignmentgroup": "True",
         "bingroup": "x",
         "hovertemplate": "outdegree=%{x}<br>count=%{y}<extra></extra>",
         "legendgroup": "18.0",
         "marker": {
          "color": "#B6E880",
          "pattern": {
           "shape": ""
          }
         },
         "name": "18.0",
         "offsetgroup": "18.0",
         "orientation": "v",
         "showlegend": true,
         "type": "histogram",
         "x": [
          18,
          18,
          18,
          18,
          18
         ],
         "xaxis": "x",
         "yaxis": "y"
        },
        {
         "alignmentgroup": "True",
         "customdata": [
          [
           15
          ],
          [
           11
          ],
          [
           19
          ],
          [
           14
          ],
          [
           22
          ]
         ],
         "hovertemplate": "outdegree=%{x}<br>indegree=%{customdata[0]}<extra></extra>",
         "legendgroup": "18.0",
         "marker": {
          "color": "#B6E880"
         },
         "name": "18.0",
         "notched": true,
         "offsetgroup": "18.0",
         "showlegend": false,
         "type": "box",
         "x": [
          18,
          18,
          18,
          18,
          18
         ],
         "xaxis": "x2",
         "yaxis": "y2"
        },
        {
         "alignmentgroup": "True",
         "bingroup": "x",
         "hovertemplate": "outdegree=%{x}<br>count=%{y}<extra></extra>",
         "legendgroup": "23.0",
         "marker": {
          "color": "#FF97FF",
          "pattern": {
           "shape": ""
          }
         },
         "name": "23.0",
         "offsetgroup": "23.0",
         "orientation": "v",
         "showlegend": true,
         "type": "histogram",
         "x": [
          23,
          23,
          23,
          23,
          23
         ],
         "xaxis": "x",
         "yaxis": "y"
        },
        {
         "alignmentgroup": "True",
         "customdata": [
          [
           8
          ],
          [
           17
          ],
          [
           21
          ],
          [
           14
          ],
          [
           11
          ]
         ],
         "hovertemplate": "outdegree=%{x}<br>indegree=%{customdata[0]}<extra></extra>",
         "legendgroup": "23.0",
         "marker": {
          "color": "#FF97FF"
         },
         "name": "23.0",
         "notched": true,
         "offsetgroup": "23.0",
         "showlegend": false,
         "type": "box",
         "x": [
          23,
          23,
          23,
          23,
          23
         ],
         "xaxis": "x2",
         "yaxis": "y2"
        },
        {
         "alignmentgroup": "True",
         "bingroup": "x",
         "hovertemplate": "outdegree=%{x}<br>count=%{y}<extra></extra>",
         "legendgroup": "7.0",
         "marker": {
          "color": "#FECB52",
          "pattern": {
           "shape": ""
          }
         },
         "name": "7.0",
         "offsetgroup": "7.0",
         "orientation": "v",
         "showlegend": true,
         "type": "histogram",
         "x": [
          7,
          7,
          7,
          7,
          7,
          7,
          7,
          7,
          7
         ],
         "xaxis": "x",
         "yaxis": "y"
        },
        {
         "alignmentgroup": "True",
         "customdata": [
          [
           5
          ],
          [
           52
          ],
          [
           7
          ],
          [
           5
          ],
          [
           6
          ],
          [
           21
          ],
          [
           5
          ],
          [
           5
          ],
          [
           4
          ]
         ],
         "hovertemplate": "outdegree=%{x}<br>indegree=%{customdata[0]}<extra></extra>",
         "legendgroup": "7.0",
         "marker": {
          "color": "#FECB52"
         },
         "name": "7.0",
         "notched": true,
         "offsetgroup": "7.0",
         "showlegend": false,
         "type": "box",
         "x": [
          7,
          7,
          7,
          7,
          7,
          7,
          7,
          7,
          7
         ],
         "xaxis": "x2",
         "yaxis": "y2"
        },
        {
         "alignmentgroup": "True",
         "bingroup": "x",
         "hovertemplate": "outdegree=%{x}<br>count=%{y}<extra></extra>",
         "legendgroup": "13.0",
         "marker": {
          "color": "#636efa",
          "pattern": {
           "shape": ""
          }
         },
         "name": "13.0",
         "offsetgroup": "13.0",
         "orientation": "v",
         "showlegend": true,
         "type": "histogram",
         "x": [
          13,
          13,
          13,
          13,
          13,
          13
         ],
         "xaxis": "x",
         "yaxis": "y"
        },
        {
         "alignmentgroup": "True",
         "customdata": [
          [
           13
          ],
          [
           11
          ],
          [
           26
          ],
          [
           7
          ],
          [
           11
          ],
          [
           6
          ]
         ],
         "hovertemplate": "outdegree=%{x}<br>indegree=%{customdata[0]}<extra></extra>",
         "legendgroup": "13.0",
         "marker": {
          "color": "#636efa"
         },
         "name": "13.0",
         "notched": true,
         "offsetgroup": "13.0",
         "showlegend": false,
         "type": "box",
         "x": [
          13,
          13,
          13,
          13,
          13,
          13
         ],
         "xaxis": "x2",
         "yaxis": "y2"
        },
        {
         "alignmentgroup": "True",
         "bingroup": "x",
         "hovertemplate": "outdegree=%{x}<br>count=%{y}<extra></extra>",
         "legendgroup": "31.0",
         "marker": {
          "color": "#EF553B",
          "pattern": {
           "shape": ""
          }
         },
         "name": "31.0",
         "offsetgroup": "31.0",
         "orientation": "v",
         "showlegend": true,
         "type": "histogram",
         "x": [
          31
         ],
         "xaxis": "x",
         "yaxis": "y"
        },
        {
         "alignmentgroup": "True",
         "customdata": [
          [
           16
          ]
         ],
         "hovertemplate": "outdegree=%{x}<br>indegree=%{customdata[0]}<extra></extra>",
         "legendgroup": "31.0",
         "marker": {
          "color": "#EF553B"
         },
         "name": "31.0",
         "notched": true,
         "offsetgroup": "31.0",
         "showlegend": false,
         "type": "box",
         "x": [
          31
         ],
         "xaxis": "x2",
         "yaxis": "y2"
        },
        {
         "alignmentgroup": "True",
         "bingroup": "x",
         "hovertemplate": "outdegree=%{x}<br>count=%{y}<extra></extra>",
         "legendgroup": "16.0",
         "marker": {
          "color": "#00cc96",
          "pattern": {
           "shape": ""
          }
         },
         "name": "16.0",
         "offsetgroup": "16.0",
         "orientation": "v",
         "showlegend": true,
         "type": "histogram",
         "x": [
          16,
          16,
          16,
          16,
          16
         ],
         "xaxis": "x",
         "yaxis": "y"
        },
        {
         "alignmentgroup": "True",
         "customdata": [
          [
           14
          ],
          [
           26
          ],
          [
           8
          ],
          [
           23
          ],
          [
           15
          ]
         ],
         "hovertemplate": "outdegree=%{x}<br>indegree=%{customdata[0]}<extra></extra>",
         "legendgroup": "16.0",
         "marker": {
          "color": "#00cc96"
         },
         "name": "16.0",
         "notched": true,
         "offsetgroup": "16.0",
         "showlegend": false,
         "type": "box",
         "x": [
          16,
          16,
          16,
          16,
          16
         ],
         "xaxis": "x2",
         "yaxis": "y2"
        },
        {
         "alignmentgroup": "True",
         "bingroup": "x",
         "hovertemplate": "outdegree=%{x}<br>count=%{y}<extra></extra>",
         "legendgroup": "8.0",
         "marker": {
          "color": "#ab63fa",
          "pattern": {
           "shape": ""
          }
         },
         "name": "8.0",
         "offsetgroup": "8.0",
         "orientation": "v",
         "showlegend": true,
         "type": "histogram",
         "x": [
          8,
          8,
          8,
          8,
          8,
          8,
          8,
          8,
          8,
          8,
          8
         ],
         "xaxis": "x",
         "yaxis": "y"
        },
        {
         "alignmentgroup": "True",
         "customdata": [
          [
           2
          ],
          [
           12
          ],
          [
           10
          ],
          [
           9
          ],
          [
           4
          ],
          [
           4
          ],
          [
           18
          ],
          [
           9
          ],
          [
           3
          ],
          [
           8
          ],
          [
           7
          ]
         ],
         "hovertemplate": "outdegree=%{x}<br>indegree=%{customdata[0]}<extra></extra>",
         "legendgroup": "8.0",
         "marker": {
          "color": "#ab63fa"
         },
         "name": "8.0",
         "notched": true,
         "offsetgroup": "8.0",
         "showlegend": false,
         "type": "box",
         "x": [
          8,
          8,
          8,
          8,
          8,
          8,
          8,
          8,
          8,
          8,
          8
         ],
         "xaxis": "x2",
         "yaxis": "y2"
        },
        {
         "alignmentgroup": "True",
         "bingroup": "x",
         "hovertemplate": "outdegree=%{x}<br>count=%{y}<extra></extra>",
         "legendgroup": "5.0",
         "marker": {
          "color": "#FFA15A",
          "pattern": {
           "shape": ""
          }
         },
         "name": "5.0",
         "offsetgroup": "5.0",
         "orientation": "v",
         "showlegend": true,
         "type": "histogram",
         "x": [
          5,
          5,
          5,
          5,
          5,
          5,
          5,
          5,
          5,
          5,
          5
         ],
         "xaxis": "x",
         "yaxis": "y"
        },
        {
         "alignmentgroup": "True",
         "customdata": [
          [
           6
          ],
          [
           1
          ],
          [
           3
          ],
          [
           5
          ],
          [
           1
          ],
          [
           8
          ],
          [
           4
          ],
          [
           5
          ],
          [
           9
          ],
          [
           6
          ],
          [
           5
          ]
         ],
         "hovertemplate": "outdegree=%{x}<br>indegree=%{customdata[0]}<extra></extra>",
         "legendgroup": "5.0",
         "marker": {
          "color": "#FFA15A"
         },
         "name": "5.0",
         "notched": true,
         "offsetgroup": "5.0",
         "showlegend": false,
         "type": "box",
         "x": [
          5,
          5,
          5,
          5,
          5,
          5,
          5,
          5,
          5,
          5,
          5
         ],
         "xaxis": "x2",
         "yaxis": "y2"
        },
        {
         "alignmentgroup": "True",
         "bingroup": "x",
         "hovertemplate": "outdegree=%{x}<br>count=%{y}<extra></extra>",
         "legendgroup": "19.0",
         "marker": {
          "color": "#19d3f3",
          "pattern": {
           "shape": ""
          }
         },
         "name": "19.0",
         "offsetgroup": "19.0",
         "orientation": "v",
         "showlegend": true,
         "type": "histogram",
         "x": [
          19,
          19,
          19,
          19,
          19,
          19
         ],
         "xaxis": "x",
         "yaxis": "y"
        },
        {
         "alignmentgroup": "True",
         "customdata": [
          [
           10
          ],
          [
           11
          ],
          [
           13
          ],
          [
           6
          ],
          [
           4
          ],
          [
           14
          ]
         ],
         "hovertemplate": "outdegree=%{x}<br>indegree=%{customdata[0]}<extra></extra>",
         "legendgroup": "19.0",
         "marker": {
          "color": "#19d3f3"
         },
         "name": "19.0",
         "notched": true,
         "offsetgroup": "19.0",
         "showlegend": false,
         "type": "box",
         "x": [
          19,
          19,
          19,
          19,
          19,
          19
         ],
         "xaxis": "x2",
         "yaxis": "y2"
        },
        {
         "alignmentgroup": "True",
         "bingroup": "x",
         "hovertemplate": "outdegree=%{x}<br>count=%{y}<extra></extra>",
         "legendgroup": "35.0",
         "marker": {
          "color": "#FF6692",
          "pattern": {
           "shape": ""
          }
         },
         "name": "35.0",
         "offsetgroup": "35.0",
         "orientation": "v",
         "showlegend": true,
         "type": "histogram",
         "x": [
          35
         ],
         "xaxis": "x",
         "yaxis": "y"
        },
        {
         "alignmentgroup": "True",
         "customdata": [
          [
           15
          ]
         ],
         "hovertemplate": "outdegree=%{x}<br>indegree=%{customdata[0]}<extra></extra>",
         "legendgroup": "35.0",
         "marker": {
          "color": "#FF6692"
         },
         "name": "35.0",
         "notched": true,
         "offsetgroup": "35.0",
         "showlegend": false,
         "type": "box",
         "x": [
          35
         ],
         "xaxis": "x2",
         "yaxis": "y2"
        },
        {
         "alignmentgroup": "True",
         "bingroup": "x",
         "hovertemplate": "outdegree=%{x}<br>count=%{y}<extra></extra>",
         "legendgroup": "11.0",
         "marker": {
          "color": "#B6E880",
          "pattern": {
           "shape": ""
          }
         },
         "name": "11.0",
         "offsetgroup": "11.0",
         "orientation": "v",
         "showlegend": true,
         "type": "histogram",
         "x": [
          11,
          11,
          11,
          11,
          11,
          11,
          11
         ],
         "xaxis": "x",
         "yaxis": "y"
        },
        {
         "alignmentgroup": "True",
         "customdata": [
          [
           1
          ],
          [
           5
          ],
          [
           34
          ],
          [
           3
          ],
          [
           7
          ],
          [
           6
          ],
          [
           7
          ]
         ],
         "hovertemplate": "outdegree=%{x}<br>indegree=%{customdata[0]}<extra></extra>",
         "legendgroup": "11.0",
         "marker": {
          "color": "#B6E880"
         },
         "name": "11.0",
         "notched": true,
         "offsetgroup": "11.0",
         "showlegend": false,
         "type": "box",
         "x": [
          11,
          11,
          11,
          11,
          11,
          11,
          11
         ],
         "xaxis": "x2",
         "yaxis": "y2"
        },
        {
         "alignmentgroup": "True",
         "bingroup": "x",
         "hovertemplate": "outdegree=%{x}<br>count=%{y}<extra></extra>",
         "legendgroup": "12.0",
         "marker": {
          "color": "#FF97FF",
          "pattern": {
           "shape": ""
          }
         },
         "name": "12.0",
         "offsetgroup": "12.0",
         "orientation": "v",
         "showlegend": true,
         "type": "histogram",
         "x": [
          12,
          12,
          12,
          12,
          12,
          12,
          12
         ],
         "xaxis": "x",
         "yaxis": "y"
        },
        {
         "alignmentgroup": "True",
         "customdata": [
          [
           19
          ],
          [
           46
          ],
          [
           21
          ],
          [
           8
          ],
          [
           11
          ],
          [
           10
          ],
          [
           16
          ]
         ],
         "hovertemplate": "outdegree=%{x}<br>indegree=%{customdata[0]}<extra></extra>",
         "legendgroup": "12.0",
         "marker": {
          "color": "#FF97FF"
         },
         "name": "12.0",
         "notched": true,
         "offsetgroup": "12.0",
         "showlegend": false,
         "type": "box",
         "x": [
          12,
          12,
          12,
          12,
          12,
          12,
          12
         ],
         "xaxis": "x2",
         "yaxis": "y2"
        },
        {
         "alignmentgroup": "True",
         "bingroup": "x",
         "hovertemplate": "outdegree=%{x}<br>count=%{y}<extra></extra>",
         "legendgroup": "49.0",
         "marker": {
          "color": "#FECB52",
          "pattern": {
           "shape": ""
          }
         },
         "name": "49.0",
         "offsetgroup": "49.0",
         "orientation": "v",
         "showlegend": true,
         "type": "histogram",
         "x": [
          49
         ],
         "xaxis": "x",
         "yaxis": "y"
        },
        {
         "alignmentgroup": "True",
         "customdata": [
          [
           31
          ]
         ],
         "hovertemplate": "outdegree=%{x}<br>indegree=%{customdata[0]}<extra></extra>",
         "legendgroup": "49.0",
         "marker": {
          "color": "#FECB52"
         },
         "name": "49.0",
         "notched": true,
         "offsetgroup": "49.0",
         "showlegend": false,
         "type": "box",
         "x": [
          49
         ],
         "xaxis": "x2",
         "yaxis": "y2"
        },
        {
         "alignmentgroup": "True",
         "bingroup": "x",
         "hovertemplate": "outdegree=%{x}<br>count=%{y}<extra></extra>",
         "legendgroup": "20.0",
         "marker": {
          "color": "#636efa",
          "pattern": {
           "shape": ""
          }
         },
         "name": "20.0",
         "offsetgroup": "20.0",
         "orientation": "v",
         "showlegend": true,
         "type": "histogram",
         "x": [
          20,
          20
         ],
         "xaxis": "x",
         "yaxis": "y"
        },
        {
         "alignmentgroup": "True",
         "customdata": [
          [
           35
          ],
          [
           34
          ]
         ],
         "hovertemplate": "outdegree=%{x}<br>indegree=%{customdata[0]}<extra></extra>",
         "legendgroup": "20.0",
         "marker": {
          "color": "#636efa"
         },
         "name": "20.0",
         "notched": true,
         "offsetgroup": "20.0",
         "showlegend": false,
         "type": "box",
         "x": [
          20,
          20
         ],
         "xaxis": "x2",
         "yaxis": "y2"
        },
        {
         "alignmentgroup": "True",
         "bingroup": "x",
         "hovertemplate": "outdegree=%{x}<br>count=%{y}<extra></extra>",
         "legendgroup": "10.0",
         "marker": {
          "color": "#EF553B",
          "pattern": {
           "shape": ""
          }
         },
         "name": "10.0",
         "offsetgroup": "10.0",
         "orientation": "v",
         "showlegend": true,
         "type": "histogram",
         "x": [
          10,
          10,
          10,
          10,
          10,
          10,
          10,
          10,
          10,
          10,
          10,
          10,
          10
         ],
         "xaxis": "x",
         "yaxis": "y"
        },
        {
         "alignmentgroup": "True",
         "customdata": [
          [
           11
          ],
          [
           6
          ],
          [
           9
          ],
          [
           7
          ],
          [
           16
          ],
          [
           36
          ],
          [
           19
          ],
          [
           9
          ],
          [
           10
          ],
          [
           7
          ],
          [
           3
          ],
          [
           4
          ],
          [
           8
          ]
         ],
         "hovertemplate": "outdegree=%{x}<br>indegree=%{customdata[0]}<extra></extra>",
         "legendgroup": "10.0",
         "marker": {
          "color": "#EF553B"
         },
         "name": "10.0",
         "notched": true,
         "offsetgroup": "10.0",
         "showlegend": false,
         "type": "box",
         "x": [
          10,
          10,
          10,
          10,
          10,
          10,
          10,
          10,
          10,
          10,
          10,
          10,
          10
         ],
         "xaxis": "x2",
         "yaxis": "y2"
        },
        {
         "alignmentgroup": "True",
         "bingroup": "x",
         "hovertemplate": "outdegree=%{x}<br>count=%{y}<extra></extra>",
         "legendgroup": "6.0",
         "marker": {
          "color": "#00cc96",
          "pattern": {
           "shape": ""
          }
         },
         "name": "6.0",
         "offsetgroup": "6.0",
         "orientation": "v",
         "showlegend": true,
         "type": "histogram",
         "x": [
          6,
          6,
          6,
          6,
          6,
          6,
          6,
          6,
          6,
          6,
          6,
          6
         ],
         "xaxis": "x",
         "yaxis": "y"
        },
        {
         "alignmentgroup": "True",
         "customdata": [
          [
           9
          ],
          [
           1
          ],
          [
           10
          ],
          [
           7
          ],
          [
           16
          ],
          [
           13
          ],
          [
           6
          ],
          [
           5
          ],
          [
           8
          ],
          [
           4
          ],
          [
           2
          ],
          [
           2
          ]
         ],
         "hovertemplate": "outdegree=%{x}<br>indegree=%{customdata[0]}<extra></extra>",
         "legendgroup": "6.0",
         "marker": {
          "color": "#00cc96"
         },
         "name": "6.0",
         "notched": true,
         "offsetgroup": "6.0",
         "showlegend": false,
         "type": "box",
         "x": [
          6,
          6,
          6,
          6,
          6,
          6,
          6,
          6,
          6,
          6,
          6,
          6
         ],
         "xaxis": "x2",
         "yaxis": "y2"
        },
        {
         "alignmentgroup": "True",
         "bingroup": "x",
         "hovertemplate": "outdegree=%{x}<br>count=%{y}<extra></extra>",
         "legendgroup": "29.0",
         "marker": {
          "color": "#ab63fa",
          "pattern": {
           "shape": ""
          }
         },
         "name": "29.0",
         "offsetgroup": "29.0",
         "orientation": "v",
         "showlegend": true,
         "type": "histogram",
         "x": [
          29,
          29,
          29,
          29
         ],
         "xaxis": "x",
         "yaxis": "y"
        },
        {
         "alignmentgroup": "True",
         "customdata": [
          [
           19
          ],
          [
           18
          ],
          [
           14
          ],
          [
           19
          ]
         ],
         "hovertemplate": "outdegree=%{x}<br>indegree=%{customdata[0]}<extra></extra>",
         "legendgroup": "29.0",
         "marker": {
          "color": "#ab63fa"
         },
         "name": "29.0",
         "notched": true,
         "offsetgroup": "29.0",
         "showlegend": false,
         "type": "box",
         "x": [
          29,
          29,
          29,
          29
         ],
         "xaxis": "x2",
         "yaxis": "y2"
        },
        {
         "alignmentgroup": "True",
         "bingroup": "x",
         "hovertemplate": "outdegree=%{x}<br>count=%{y}<extra></extra>",
         "legendgroup": "32.0",
         "marker": {
          "color": "#FFA15A",
          "pattern": {
           "shape": ""
          }
         },
         "name": "32.0",
         "offsetgroup": "32.0",
         "orientation": "v",
         "showlegend": true,
         "type": "histogram",
         "x": [
          32,
          32
         ],
         "xaxis": "x",
         "yaxis": "y"
        },
        {
         "alignmentgroup": "True",
         "customdata": [
          [
           22
          ],
          [
           38
          ]
         ],
         "hovertemplate": "outdegree=%{x}<br>indegree=%{customdata[0]}<extra></extra>",
         "legendgroup": "32.0",
         "marker": {
          "color": "#FFA15A"
         },
         "name": "32.0",
         "notched": true,
         "offsetgroup": "32.0",
         "showlegend": false,
         "type": "box",
         "x": [
          32,
          32
         ],
         "xaxis": "x2",
         "yaxis": "y2"
        },
        {
         "alignmentgroup": "True",
         "bingroup": "x",
         "hovertemplate": "outdegree=%{x}<br>count=%{y}<extra></extra>",
         "legendgroup": "30.0",
         "marker": {
          "color": "#19d3f3",
          "pattern": {
           "shape": ""
          }
         },
         "name": "30.0",
         "offsetgroup": "30.0",
         "orientation": "v",
         "showlegend": true,
         "type": "histogram",
         "x": [
          30,
          30,
          30
         ],
         "xaxis": "x",
         "yaxis": "y"
        },
        {
         "alignmentgroup": "True",
         "customdata": [
          [
           33
          ],
          [
           7
          ],
          [
           14
          ]
         ],
         "hovertemplate": "outdegree=%{x}<br>indegree=%{customdata[0]}<extra></extra>",
         "legendgroup": "30.0",
         "marker": {
          "color": "#19d3f3"
         },
         "name": "30.0",
         "notched": true,
         "offsetgroup": "30.0",
         "showlegend": false,
         "type": "box",
         "x": [
          30,
          30,
          30
         ],
         "xaxis": "x2",
         "yaxis": "y2"
        },
        {
         "alignmentgroup": "True",
         "bingroup": "x",
         "hovertemplate": "outdegree=%{x}<br>count=%{y}<extra></extra>",
         "legendgroup": "27.0",
         "marker": {
          "color": "#FF6692",
          "pattern": {
           "shape": ""
          }
         },
         "name": "27.0",
         "offsetgroup": "27.0",
         "orientation": "v",
         "showlegend": true,
         "type": "histogram",
         "x": [
          27,
          27
         ],
         "xaxis": "x",
         "yaxis": "y"
        },
        {
         "alignmentgroup": "True",
         "customdata": [
          [
           16
          ],
          [
           15
          ]
         ],
         "hovertemplate": "outdegree=%{x}<br>indegree=%{customdata[0]}<extra></extra>",
         "legendgroup": "27.0",
         "marker": {
          "color": "#FF6692"
         },
         "name": "27.0",
         "notched": true,
         "offsetgroup": "27.0",
         "showlegend": false,
         "type": "box",
         "x": [
          27,
          27
         ],
         "xaxis": "x2",
         "yaxis": "y2"
        },
        {
         "alignmentgroup": "True",
         "bingroup": "x",
         "hovertemplate": "outdegree=%{x}<br>count=%{y}<extra></extra>",
         "legendgroup": "1.0",
         "marker": {
          "color": "#B6E880",
          "pattern": {
           "shape": ""
          }
         },
         "name": "1.0",
         "offsetgroup": "1.0",
         "orientation": "v",
         "showlegend": true,
         "type": "histogram",
         "x": [
          1,
          1,
          1,
          1,
          1,
          1,
          1,
          1,
          1,
          1,
          1,
          1,
          1,
          1,
          1,
          1,
          1,
          1,
          1
         ],
         "xaxis": "x",
         "yaxis": "y"
        },
        {
         "alignmentgroup": "True",
         "customdata": [
          [
           9
          ],
          [
           3
          ],
          [
           3
          ],
          [
           5
          ],
          [
           24
          ],
          [
           4
          ],
          [
           15
          ],
          [
           7
          ],
          [
           1
          ],
          [
           0
          ],
          [
           2
          ],
          [
           2
          ],
          [
           1
          ],
          [
           1
          ],
          [
           3
          ],
          [
           2
          ],
          [
           1
          ],
          [
           0
          ],
          [
           0
          ]
         ],
         "hovertemplate": "outdegree=%{x}<br>indegree=%{customdata[0]}<extra></extra>",
         "legendgroup": "1.0",
         "marker": {
          "color": "#B6E880"
         },
         "name": "1.0",
         "notched": true,
         "offsetgroup": "1.0",
         "showlegend": false,
         "type": "box",
         "x": [
          1,
          1,
          1,
          1,
          1,
          1,
          1,
          1,
          1,
          1,
          1,
          1,
          1,
          1,
          1,
          1,
          1,
          1,
          1
         ],
         "xaxis": "x2",
         "yaxis": "y2"
        },
        {
         "alignmentgroup": "True",
         "bingroup": "x",
         "hovertemplate": "outdegree=%{x}<br>count=%{y}<extra></extra>",
         "legendgroup": "17.0",
         "marker": {
          "color": "#FF97FF",
          "pattern": {
           "shape": ""
          }
         },
         "name": "17.0",
         "offsetgroup": "17.0",
         "orientation": "v",
         "showlegend": true,
         "type": "histogram",
         "x": [
          17,
          17,
          17,
          17,
          17,
          17
         ],
         "xaxis": "x",
         "yaxis": "y"
        },
        {
         "alignmentgroup": "True",
         "customdata": [
          [
           15
          ],
          [
           10
          ],
          [
           14
          ],
          [
           7
          ],
          [
           3
          ],
          [
           6
          ]
         ],
         "hovertemplate": "outdegree=%{x}<br>indegree=%{customdata[0]}<extra></extra>",
         "legendgroup": "17.0",
         "marker": {
          "color": "#FF97FF"
         },
         "name": "17.0",
         "notched": true,
         "offsetgroup": "17.0",
         "showlegend": false,
         "type": "box",
         "x": [
          17,
          17,
          17,
          17,
          17,
          17
         ],
         "xaxis": "x2",
         "yaxis": "y2"
        },
        {
         "alignmentgroup": "True",
         "bingroup": "x",
         "hovertemplate": "outdegree=%{x}<br>count=%{y}<extra></extra>",
         "legendgroup": "36.0",
         "marker": {
          "color": "#FECB52",
          "pattern": {
           "shape": ""
          }
         },
         "name": "36.0",
         "offsetgroup": "36.0",
         "orientation": "v",
         "showlegend": true,
         "type": "histogram",
         "x": [
          36
         ],
         "xaxis": "x",
         "yaxis": "y"
        },
        {
         "alignmentgroup": "True",
         "customdata": [
          [
           28
          ]
         ],
         "hovertemplate": "outdegree=%{x}<br>indegree=%{customdata[0]}<extra></extra>",
         "legendgroup": "36.0",
         "marker": {
          "color": "#FECB52"
         },
         "name": "36.0",
         "notched": true,
         "offsetgroup": "36.0",
         "showlegend": false,
         "type": "box",
         "x": [
          36
         ],
         "xaxis": "x2",
         "yaxis": "y2"
        },
        {
         "alignmentgroup": "True",
         "bingroup": "x",
         "hovertemplate": "outdegree=%{x}<br>count=%{y}<extra></extra>",
         "legendgroup": "3.0",
         "marker": {
          "color": "#636efa",
          "pattern": {
           "shape": ""
          }
         },
         "name": "3.0",
         "offsetgroup": "3.0",
         "orientation": "v",
         "showlegend": true,
         "type": "histogram",
         "x": [
          3,
          3,
          3,
          3,
          3,
          3,
          3,
          3,
          3,
          3,
          3,
          3,
          3,
          3,
          3,
          3,
          3,
          3,
          3
         ],
         "xaxis": "x",
         "yaxis": "y"
        },
        {
         "alignmentgroup": "True",
         "customdata": [
          [
           25
          ],
          [
           6
          ],
          [
           4
          ],
          [
           4
          ],
          [
           5
          ],
          [
           2
          ],
          [
           4
          ],
          [
           2
          ],
          [
           1
          ],
          [
           3
          ],
          [
           4
          ],
          [
           8
          ],
          [
           1
          ],
          [
           10
          ],
          [
           1
          ],
          [
           3
          ],
          [
           8
          ],
          [
           2
          ],
          [
           0
          ]
         ],
         "hovertemplate": "outdegree=%{x}<br>indegree=%{customdata[0]}<extra></extra>",
         "legendgroup": "3.0",
         "marker": {
          "color": "#636efa"
         },
         "name": "3.0",
         "notched": true,
         "offsetgroup": "3.0",
         "showlegend": false,
         "type": "box",
         "x": [
          3,
          3,
          3,
          3,
          3,
          3,
          3,
          3,
          3,
          3,
          3,
          3,
          3,
          3,
          3,
          3,
          3,
          3,
          3
         ],
         "xaxis": "x2",
         "yaxis": "y2"
        },
        {
         "alignmentgroup": "True",
         "bingroup": "x",
         "hovertemplate": "outdegree=%{x}<br>count=%{y}<extra></extra>",
         "legendgroup": "24.0",
         "marker": {
          "color": "#EF553B",
          "pattern": {
           "shape": ""
          }
         },
         "name": "24.0",
         "offsetgroup": "24.0",
         "orientation": "v",
         "showlegend": true,
         "type": "histogram",
         "x": [
          24,
          24,
          24,
          24
         ],
         "xaxis": "x",
         "yaxis": "y"
        },
        {
         "alignmentgroup": "True",
         "customdata": [
          [
           17
          ],
          [
           3
          ],
          [
           11
          ],
          [
           24
          ]
         ],
         "hovertemplate": "outdegree=%{x}<br>indegree=%{customdata[0]}<extra></extra>",
         "legendgroup": "24.0",
         "marker": {
          "color": "#EF553B"
         },
         "name": "24.0",
         "notched": true,
         "offsetgroup": "24.0",
         "showlegend": false,
         "type": "box",
         "x": [
          24,
          24,
          24,
          24
         ],
         "xaxis": "x2",
         "yaxis": "y2"
        },
        {
         "alignmentgroup": "True",
         "bingroup": "x",
         "hovertemplate": "outdegree=%{x}<br>count=%{y}<extra></extra>",
         "legendgroup": "9.0",
         "marker": {
          "color": "#00cc96",
          "pattern": {
           "shape": ""
          }
         },
         "name": "9.0",
         "offsetgroup": "9.0",
         "orientation": "v",
         "showlegend": true,
         "type": "histogram",
         "x": [
          9,
          9,
          9,
          9,
          9
         ],
         "xaxis": "x",
         "yaxis": "y"
        },
        {
         "alignmentgroup": "True",
         "customdata": [
          [
           10
          ],
          [
           10
          ],
          [
           10
          ],
          [
           14
          ],
          [
           3
          ]
         ],
         "hovertemplate": "outdegree=%{x}<br>indegree=%{customdata[0]}<extra></extra>",
         "legendgroup": "9.0",
         "marker": {
          "color": "#00cc96"
         },
         "name": "9.0",
         "notched": true,
         "offsetgroup": "9.0",
         "showlegend": false,
         "type": "box",
         "x": [
          9,
          9,
          9,
          9,
          9
         ],
         "xaxis": "x2",
         "yaxis": "y2"
        },
        {
         "alignmentgroup": "True",
         "bingroup": "x",
         "hovertemplate": "outdegree=%{x}<br>count=%{y}<extra></extra>",
         "legendgroup": "25.0",
         "marker": {
          "color": "#ab63fa",
          "pattern": {
           "shape": ""
          }
         },
         "name": "25.0",
         "offsetgroup": "25.0",
         "orientation": "v",
         "showlegend": true,
         "type": "histogram",
         "x": [
          25,
          25,
          25
         ],
         "xaxis": "x",
         "yaxis": "y"
        },
        {
         "alignmentgroup": "True",
         "customdata": [
          [
           42
          ],
          [
           22
          ],
          [
           36
          ]
         ],
         "hovertemplate": "outdegree=%{x}<br>indegree=%{customdata[0]}<extra></extra>",
         "legendgroup": "25.0",
         "marker": {
          "color": "#ab63fa"
         },
         "name": "25.0",
         "notched": true,
         "offsetgroup": "25.0",
         "showlegend": false,
         "type": "box",
         "x": [
          25,
          25,
          25
         ],
         "xaxis": "x2",
         "yaxis": "y2"
        },
        {
         "alignmentgroup": "True",
         "bingroup": "x",
         "hovertemplate": "outdegree=%{x}<br>count=%{y}<extra></extra>",
         "legendgroup": "15.0",
         "marker": {
          "color": "#FFA15A",
          "pattern": {
           "shape": ""
          }
         },
         "name": "15.0",
         "offsetgroup": "15.0",
         "orientation": "v",
         "showlegend": true,
         "type": "histogram",
         "x": [
          15,
          15
         ],
         "xaxis": "x",
         "yaxis": "y"
        },
        {
         "alignmentgroup": "True",
         "customdata": [
          [
           44
          ],
          [
           1
          ]
         ],
         "hovertemplate": "outdegree=%{x}<br>indegree=%{customdata[0]}<extra></extra>",
         "legendgroup": "15.0",
         "marker": {
          "color": "#FFA15A"
         },
         "name": "15.0",
         "notched": true,
         "offsetgroup": "15.0",
         "showlegend": false,
         "type": "box",
         "x": [
          15,
          15
         ],
         "xaxis": "x2",
         "yaxis": "y2"
        },
        {
         "alignmentgroup": "True",
         "bingroup": "x",
         "hovertemplate": "outdegree=%{x}<br>count=%{y}<extra></extra>",
         "legendgroup": "4.0",
         "marker": {
          "color": "#19d3f3",
          "pattern": {
           "shape": ""
          }
         },
         "name": "4.0",
         "offsetgroup": "4.0",
         "orientation": "v",
         "showlegend": true,
         "type": "histogram",
         "x": [
          4,
          4,
          4,
          4,
          4
         ],
         "xaxis": "x",
         "yaxis": "y"
        },
        {
         "alignmentgroup": "True",
         "customdata": [
          [
           14
          ],
          [
           1
          ],
          [
           2
          ],
          [
           0
          ],
          [
           0
          ]
         ],
         "hovertemplate": "outdegree=%{x}<br>indegree=%{customdata[0]}<extra></extra>",
         "legendgroup": "4.0",
         "marker": {
          "color": "#19d3f3"
         },
         "name": "4.0",
         "notched": true,
         "offsetgroup": "4.0",
         "showlegend": false,
         "type": "box",
         "x": [
          4,
          4,
          4,
          4,
          4
         ],
         "xaxis": "x2",
         "yaxis": "y2"
        },
        {
         "alignmentgroup": "True",
         "bingroup": "x",
         "hovertemplate": "outdegree=%{x}<br>count=%{y}<extra></extra>",
         "legendgroup": "34.0",
         "marker": {
          "color": "#FF6692",
          "pattern": {
           "shape": ""
          }
         },
         "name": "34.0",
         "offsetgroup": "34.0",
         "orientation": "v",
         "showlegend": true,
         "type": "histogram",
         "x": [
          34
         ],
         "xaxis": "x",
         "yaxis": "y"
        },
        {
         "alignmentgroup": "True",
         "customdata": [
          [
           13
          ]
         ],
         "hovertemplate": "outdegree=%{x}<br>indegree=%{customdata[0]}<extra></extra>",
         "legendgroup": "34.0",
         "marker": {
          "color": "#FF6692"
         },
         "name": "34.0",
         "notched": true,
         "offsetgroup": "34.0",
         "showlegend": false,
         "type": "box",
         "x": [
          34
         ],
         "xaxis": "x2",
         "yaxis": "y2"
        },
        {
         "alignmentgroup": "True",
         "bingroup": "x",
         "hovertemplate": "outdegree=%{x}<br>count=%{y}<extra></extra>",
         "legendgroup": "22.0",
         "marker": {
          "color": "#B6E880",
          "pattern": {
           "shape": ""
          }
         },
         "name": "22.0",
         "offsetgroup": "22.0",
         "orientation": "v",
         "showlegend": true,
         "type": "histogram",
         "x": [
          22
         ],
         "xaxis": "x",
         "yaxis": "y"
        },
        {
         "alignmentgroup": "True",
         "customdata": [
          [
           13
          ]
         ],
         "hovertemplate": "outdegree=%{x}<br>indegree=%{customdata[0]}<extra></extra>",
         "legendgroup": "22.0",
         "marker": {
          "color": "#B6E880"
         },
         "name": "22.0",
         "notched": true,
         "offsetgroup": "22.0",
         "showlegend": false,
         "type": "box",
         "x": [
          22
         ],
         "xaxis": "x2",
         "yaxis": "y2"
        },
        {
         "alignmentgroup": "True",
         "bingroup": "x",
         "hovertemplate": "outdegree=%{x}<br>count=%{y}<extra></extra>",
         "legendgroup": "40.0",
         "marker": {
          "color": "#FF97FF",
          "pattern": {
           "shape": ""
          }
         },
         "name": "40.0",
         "offsetgroup": "40.0",
         "orientation": "v",
         "showlegend": true,
         "type": "histogram",
         "x": [
          40
         ],
         "xaxis": "x",
         "yaxis": "y"
        },
        {
         "alignmentgroup": "True",
         "customdata": [
          [
           23
          ]
         ],
         "hovertemplate": "outdegree=%{x}<br>indegree=%{customdata[0]}<extra></extra>",
         "legendgroup": "40.0",
         "marker": {
          "color": "#FF97FF"
         },
         "name": "40.0",
         "notched": true,
         "offsetgroup": "40.0",
         "showlegend": false,
         "type": "box",
         "x": [
          40
         ],
         "xaxis": "x2",
         "yaxis": "y2"
        }
       ],
       "layout": {
        "barmode": "relative",
        "legend": {
         "title": {
          "text": "outdegree"
         },
         "tracegroupgap": 0
        },
        "margin": {
         "t": 60
        },
        "template": {
         "data": {
          "bar": [
           {
            "error_x": {
             "color": "#2a3f5f"
            },
            "error_y": {
             "color": "#2a3f5f"
            },
            "marker": {
             "line": {
              "color": "#E5ECF6",
              "width": 0.5
             },
             "pattern": {
              "fillmode": "overlay",
              "size": 10,
              "solidity": 0.2
             }
            },
            "type": "bar"
           }
          ],
          "barpolar": [
           {
            "marker": {
             "line": {
              "color": "#E5ECF6",
              "width": 0.5
             },
             "pattern": {
              "fillmode": "overlay",
              "size": 10,
              "solidity": 0.2
             }
            },
            "type": "barpolar"
           }
          ],
          "carpet": [
           {
            "aaxis": {
             "endlinecolor": "#2a3f5f",
             "gridcolor": "white",
             "linecolor": "white",
             "minorgridcolor": "white",
             "startlinecolor": "#2a3f5f"
            },
            "baxis": {
             "endlinecolor": "#2a3f5f",
             "gridcolor": "white",
             "linecolor": "white",
             "minorgridcolor": "white",
             "startlinecolor": "#2a3f5f"
            },
            "type": "carpet"
           }
          ],
          "choropleth": [
           {
            "colorbar": {
             "outlinewidth": 0,
             "ticks": ""
            },
            "type": "choropleth"
           }
          ],
          "contour": [
           {
            "colorbar": {
             "outlinewidth": 0,
             "ticks": ""
            },
            "colorscale": [
             [
              0,
              "#0d0887"
             ],
             [
              0.1111111111111111,
              "#46039f"
             ],
             [
              0.2222222222222222,
              "#7201a8"
             ],
             [
              0.3333333333333333,
              "#9c179e"
             ],
             [
              0.4444444444444444,
              "#bd3786"
             ],
             [
              0.5555555555555556,
              "#d8576b"
             ],
             [
              0.6666666666666666,
              "#ed7953"
             ],
             [
              0.7777777777777778,
              "#fb9f3a"
             ],
             [
              0.8888888888888888,
              "#fdca26"
             ],
             [
              1,
              "#f0f921"
             ]
            ],
            "type": "contour"
           }
          ],
          "contourcarpet": [
           {
            "colorbar": {
             "outlinewidth": 0,
             "ticks": ""
            },
            "type": "contourcarpet"
           }
          ],
          "heatmap": [
           {
            "colorbar": {
             "outlinewidth": 0,
             "ticks": ""
            },
            "colorscale": [
             [
              0,
              "#0d0887"
             ],
             [
              0.1111111111111111,
              "#46039f"
             ],
             [
              0.2222222222222222,
              "#7201a8"
             ],
             [
              0.3333333333333333,
              "#9c179e"
             ],
             [
              0.4444444444444444,
              "#bd3786"
             ],
             [
              0.5555555555555556,
              "#d8576b"
             ],
             [
              0.6666666666666666,
              "#ed7953"
             ],
             [
              0.7777777777777778,
              "#fb9f3a"
             ],
             [
              0.8888888888888888,
              "#fdca26"
             ],
             [
              1,
              "#f0f921"
             ]
            ],
            "type": "heatmap"
           }
          ],
          "heatmapgl": [
           {
            "colorbar": {
             "outlinewidth": 0,
             "ticks": ""
            },
            "colorscale": [
             [
              0,
              "#0d0887"
             ],
             [
              0.1111111111111111,
              "#46039f"
             ],
             [
              0.2222222222222222,
              "#7201a8"
             ],
             [
              0.3333333333333333,
              "#9c179e"
             ],
             [
              0.4444444444444444,
              "#bd3786"
             ],
             [
              0.5555555555555556,
              "#d8576b"
             ],
             [
              0.6666666666666666,
              "#ed7953"
             ],
             [
              0.7777777777777778,
              "#fb9f3a"
             ],
             [
              0.8888888888888888,
              "#fdca26"
             ],
             [
              1,
              "#f0f921"
             ]
            ],
            "type": "heatmapgl"
           }
          ],
          "histogram": [
           {
            "marker": {
             "pattern": {
              "fillmode": "overlay",
              "size": 10,
              "solidity": 0.2
             }
            },
            "type": "histogram"
           }
          ],
          "histogram2d": [
           {
            "colorbar": {
             "outlinewidth": 0,
             "ticks": ""
            },
            "colorscale": [
             [
              0,
              "#0d0887"
             ],
             [
              0.1111111111111111,
              "#46039f"
             ],
             [
              0.2222222222222222,
              "#7201a8"
             ],
             [
              0.3333333333333333,
              "#9c179e"
             ],
             [
              0.4444444444444444,
              "#bd3786"
             ],
             [
              0.5555555555555556,
              "#d8576b"
             ],
             [
              0.6666666666666666,
              "#ed7953"
             ],
             [
              0.7777777777777778,
              "#fb9f3a"
             ],
             [
              0.8888888888888888,
              "#fdca26"
             ],
             [
              1,
              "#f0f921"
             ]
            ],
            "type": "histogram2d"
           }
          ],
          "histogram2dcontour": [
           {
            "colorbar": {
             "outlinewidth": 0,
             "ticks": ""
            },
            "colorscale": [
             [
              0,
              "#0d0887"
             ],
             [
              0.1111111111111111,
              "#46039f"
             ],
             [
              0.2222222222222222,
              "#7201a8"
             ],
             [
              0.3333333333333333,
              "#9c179e"
             ],
             [
              0.4444444444444444,
              "#bd3786"
             ],
             [
              0.5555555555555556,
              "#d8576b"
             ],
             [
              0.6666666666666666,
              "#ed7953"
             ],
             [
              0.7777777777777778,
              "#fb9f3a"
             ],
             [
              0.8888888888888888,
              "#fdca26"
             ],
             [
              1,
              "#f0f921"
             ]
            ],
            "type": "histogram2dcontour"
           }
          ],
          "mesh3d": [
           {
            "colorbar": {
             "outlinewidth": 0,
             "ticks": ""
            },
            "type": "mesh3d"
           }
          ],
          "parcoords": [
           {
            "line": {
             "colorbar": {
              "outlinewidth": 0,
              "ticks": ""
             }
            },
            "type": "parcoords"
           }
          ],
          "pie": [
           {
            "automargin": true,
            "type": "pie"
           }
          ],
          "scatter": [
           {
            "fillpattern": {
             "fillmode": "overlay",
             "size": 10,
             "solidity": 0.2
            },
            "type": "scatter"
           }
          ],
          "scatter3d": [
           {
            "line": {
             "colorbar": {
              "outlinewidth": 0,
              "ticks": ""
             }
            },
            "marker": {
             "colorbar": {
              "outlinewidth": 0,
              "ticks": ""
             }
            },
            "type": "scatter3d"
           }
          ],
          "scattercarpet": [
           {
            "marker": {
             "colorbar": {
              "outlinewidth": 0,
              "ticks": ""
             }
            },
            "type": "scattercarpet"
           }
          ],
          "scattergeo": [
           {
            "marker": {
             "colorbar": {
              "outlinewidth": 0,
              "ticks": ""
             }
            },
            "type": "scattergeo"
           }
          ],
          "scattergl": [
           {
            "marker": {
             "colorbar": {
              "outlinewidth": 0,
              "ticks": ""
             }
            },
            "type": "scattergl"
           }
          ],
          "scattermapbox": [
           {
            "marker": {
             "colorbar": {
              "outlinewidth": 0,
              "ticks": ""
             }
            },
            "type": "scattermapbox"
           }
          ],
          "scatterpolar": [
           {
            "marker": {
             "colorbar": {
              "outlinewidth": 0,
              "ticks": ""
             }
            },
            "type": "scatterpolar"
           }
          ],
          "scatterpolargl": [
           {
            "marker": {
             "colorbar": {
              "outlinewidth": 0,
              "ticks": ""
             }
            },
            "type": "scatterpolargl"
           }
          ],
          "scatterternary": [
           {
            "marker": {
             "colorbar": {
              "outlinewidth": 0,
              "ticks": ""
             }
            },
            "type": "scatterternary"
           }
          ],
          "surface": [
           {
            "colorbar": {
             "outlinewidth": 0,
             "ticks": ""
            },
            "colorscale": [
             [
              0,
              "#0d0887"
             ],
             [
              0.1111111111111111,
              "#46039f"
             ],
             [
              0.2222222222222222,
              "#7201a8"
             ],
             [
              0.3333333333333333,
              "#9c179e"
             ],
             [
              0.4444444444444444,
              "#bd3786"
             ],
             [
              0.5555555555555556,
              "#d8576b"
             ],
             [
              0.6666666666666666,
              "#ed7953"
             ],
             [
              0.7777777777777778,
              "#fb9f3a"
             ],
             [
              0.8888888888888888,
              "#fdca26"
             ],
             [
              1,
              "#f0f921"
             ]
            ],
            "type": "surface"
           }
          ],
          "table": [
           {
            "cells": {
             "fill": {
              "color": "#EBF0F8"
             },
             "line": {
              "color": "white"
             }
            },
            "header": {
             "fill": {
              "color": "#C8D4E3"
             },
             "line": {
              "color": "white"
             }
            },
            "type": "table"
           }
          ]
         },
         "layout": {
          "annotationdefaults": {
           "arrowcolor": "#2a3f5f",
           "arrowhead": 0,
           "arrowwidth": 1
          },
          "autotypenumbers": "strict",
          "coloraxis": {
           "colorbar": {
            "outlinewidth": 0,
            "ticks": ""
           }
          },
          "colorscale": {
           "diverging": [
            [
             0,
             "#8e0152"
            ],
            [
             0.1,
             "#c51b7d"
            ],
            [
             0.2,
             "#de77ae"
            ],
            [
             0.3,
             "#f1b6da"
            ],
            [
             0.4,
             "#fde0ef"
            ],
            [
             0.5,
             "#f7f7f7"
            ],
            [
             0.6,
             "#e6f5d0"
            ],
            [
             0.7,
             "#b8e186"
            ],
            [
             0.8,
             "#7fbc41"
            ],
            [
             0.9,
             "#4d9221"
            ],
            [
             1,
             "#276419"
            ]
           ],
           "sequential": [
            [
             0,
             "#0d0887"
            ],
            [
             0.1111111111111111,
             "#46039f"
            ],
            [
             0.2222222222222222,
             "#7201a8"
            ],
            [
             0.3333333333333333,
             "#9c179e"
            ],
            [
             0.4444444444444444,
             "#bd3786"
            ],
            [
             0.5555555555555556,
             "#d8576b"
            ],
            [
             0.6666666666666666,
             "#ed7953"
            ],
            [
             0.7777777777777778,
             "#fb9f3a"
            ],
            [
             0.8888888888888888,
             "#fdca26"
            ],
            [
             1,
             "#f0f921"
            ]
           ],
           "sequentialminus": [
            [
             0,
             "#0d0887"
            ],
            [
             0.1111111111111111,
             "#46039f"
            ],
            [
             0.2222222222222222,
             "#7201a8"
            ],
            [
             0.3333333333333333,
             "#9c179e"
            ],
            [
             0.4444444444444444,
             "#bd3786"
            ],
            [
             0.5555555555555556,
             "#d8576b"
            ],
            [
             0.6666666666666666,
             "#ed7953"
            ],
            [
             0.7777777777777778,
             "#fb9f3a"
            ],
            [
             0.8888888888888888,
             "#fdca26"
            ],
            [
             1,
             "#f0f921"
            ]
           ]
          },
          "colorway": [
           "#636efa",
           "#EF553B",
           "#00cc96",
           "#ab63fa",
           "#FFA15A",
           "#19d3f3",
           "#FF6692",
           "#B6E880",
           "#FF97FF",
           "#FECB52"
          ],
          "font": {
           "color": "#2a3f5f"
          },
          "geo": {
           "bgcolor": "white",
           "lakecolor": "white",
           "landcolor": "#E5ECF6",
           "showlakes": true,
           "showland": true,
           "subunitcolor": "white"
          },
          "hoverlabel": {
           "align": "left"
          },
          "hovermode": "closest",
          "mapbox": {
           "style": "light"
          },
          "paper_bgcolor": "white",
          "plot_bgcolor": "#E5ECF6",
          "polar": {
           "angularaxis": {
            "gridcolor": "white",
            "linecolor": "white",
            "ticks": ""
           },
           "bgcolor": "#E5ECF6",
           "radialaxis": {
            "gridcolor": "white",
            "linecolor": "white",
            "ticks": ""
           }
          },
          "scene": {
           "xaxis": {
            "backgroundcolor": "#E5ECF6",
            "gridcolor": "white",
            "gridwidth": 2,
            "linecolor": "white",
            "showbackground": true,
            "ticks": "",
            "zerolinecolor": "white"
           },
           "yaxis": {
            "backgroundcolor": "#E5ECF6",
            "gridcolor": "white",
            "gridwidth": 2,
            "linecolor": "white",
            "showbackground": true,
            "ticks": "",
            "zerolinecolor": "white"
           },
           "zaxis": {
            "backgroundcolor": "#E5ECF6",
            "gridcolor": "white",
            "gridwidth": 2,
            "linecolor": "white",
            "showbackground": true,
            "ticks": "",
            "zerolinecolor": "white"
           }
          },
          "shapedefaults": {
           "line": {
            "color": "#2a3f5f"
           }
          },
          "ternary": {
           "aaxis": {
            "gridcolor": "white",
            "linecolor": "white",
            "ticks": ""
           },
           "baxis": {
            "gridcolor": "white",
            "linecolor": "white",
            "ticks": ""
           },
           "bgcolor": "#E5ECF6",
           "caxis": {
            "gridcolor": "white",
            "linecolor": "white",
            "ticks": ""
           }
          },
          "title": {
           "x": 0.05
          },
          "xaxis": {
           "automargin": true,
           "gridcolor": "white",
           "linecolor": "white",
           "ticks": "",
           "title": {
            "standoff": 15
           },
           "zerolinecolor": "white",
           "zerolinewidth": 2
          },
          "yaxis": {
           "automargin": true,
           "gridcolor": "white",
           "linecolor": "white",
           "ticks": "",
           "title": {
            "standoff": 15
           },
           "zerolinecolor": "white",
           "zerolinewidth": 2
          }
         }
        },
        "xaxis": {
         "anchor": "y",
         "categoryarray": [
          2,
          28,
          14,
          0,
          26,
          39,
          44,
          18,
          23,
          7,
          13,
          31,
          16,
          8,
          5,
          19,
          35,
          11,
          12,
          49,
          20,
          10,
          6,
          29,
          32,
          30,
          27,
          1,
          17,
          36,
          3,
          24,
          9,
          25,
          15,
          4,
          34,
          22,
          40
         ],
         "categoryorder": "array",
         "domain": [
          0,
          1
         ],
         "title": {
          "text": "outdegree"
         }
        },
        "xaxis2": {
         "anchor": "y2",
         "domain": [
          0,
          1
         ],
         "matches": "x",
         "showgrid": true,
         "showticklabels": false
        },
        "yaxis": {
         "anchor": "x",
         "domain": [
          0,
          0.7326
         ],
         "title": {
          "text": "count"
         }
        },
        "yaxis2": {
         "anchor": "x2",
         "domain": [
          0.7426,
          1
         ],
         "matches": "y2",
         "showgrid": false,
         "showline": false,
         "showticklabels": false,
         "ticks": ""
        }
       }
      }
     },
     "metadata": {},
     "output_type": "display_data"
    }
   ],
   "source": [
    "plot_degree_distribution(adjacency_matrix)"
   ]
  },
  {
   "cell_type": "code",
   "execution_count": 7,
   "metadata": {},
   "outputs": [
    {
     "data": {
      "application/vnd.plotly.v1+json": {
       "config": {
        "plotlyServerURL": "https://plot.ly"
       },
       "data": [
        {
         "alignmentgroup": "True",
         "bingroup": "x",
         "hovertemplate": "lcc=%{x}<br>count=%{y}<extra></extra>",
         "legendgroup": "0.5",
         "marker": {
          "color": "#636efa",
          "pattern": {
           "shape": ""
          }
         },
         "name": "0.5",
         "offsetgroup": "0.5",
         "orientation": "v",
         "showlegend": true,
         "type": "histogram",
         "x": [
          0.5,
          0.5,
          0.5,
          0.5,
          0.5,
          0.5,
          0.5,
          0.5,
          0.5
         ],
         "xaxis": "x",
         "yaxis": "y"
        },
        {
         "alignmentgroup": "True",
         "hovertemplate": "lcc=%{x}<extra></extra>",
         "legendgroup": "0.5",
         "marker": {
          "color": "#636efa"
         },
         "name": "0.5",
         "notched": true,
         "offsetgroup": "0.5",
         "showlegend": false,
         "type": "box",
         "x": [
          0.5,
          0.5,
          0.5,
          0.5,
          0.5,
          0.5,
          0.5,
          0.5,
          0.5
         ],
         "xaxis": "x2",
         "yaxis": "y2"
        },
        {
         "alignmentgroup": "True",
         "bingroup": "x",
         "hovertemplate": "lcc=%{x}<br>count=%{y}<extra></extra>",
         "legendgroup": "0.30952380952380953",
         "marker": {
          "color": "#EF553B",
          "pattern": {
           "shape": ""
          }
         },
         "name": "0.30952380952380953",
         "offsetgroup": "0.30952380952380953",
         "orientation": "v",
         "showlegend": true,
         "type": "histogram",
         "x": [
          0.30952380952380953
         ],
         "xaxis": "x",
         "yaxis": "y"
        },
        {
         "alignmentgroup": "True",
         "hovertemplate": "lcc=%{x}<extra></extra>",
         "legendgroup": "0.30952380952380953",
         "marker": {
          "color": "#EF553B"
         },
         "name": "0.30952380952380953",
         "notched": true,
         "offsetgroup": "0.30952380952380953",
         "showlegend": false,
         "type": "box",
         "x": [
          0.30952380952380953
         ],
         "xaxis": "x2",
         "yaxis": "y2"
        },
        {
         "alignmentgroup": "True",
         "bingroup": "x",
         "hovertemplate": "lcc=%{x}<br>count=%{y}<extra></extra>",
         "legendgroup": "0.19230769230769232",
         "marker": {
          "color": "#00cc96",
          "pattern": {
           "shape": ""
          }
         },
         "name": "0.19230769230769232",
         "offsetgroup": "0.19230769230769232",
         "orientation": "v",
         "showlegend": true,
         "type": "histogram",
         "x": [
          0.19230769230769232
         ],
         "xaxis": "x",
         "yaxis": "y"
        },
        {
         "alignmentgroup": "True",
         "hovertemplate": "lcc=%{x}<extra></extra>",
         "legendgroup": "0.19230769230769232",
         "marker": {
          "color": "#00cc96"
         },
         "name": "0.19230769230769232",
         "notched": true,
         "offsetgroup": "0.19230769230769232",
         "showlegend": false,
         "type": "box",
         "x": [
          0.19230769230769232
         ],
         "xaxis": "x2",
         "yaxis": "y2"
        },
        {
         "alignmentgroup": "True",
         "bingroup": "x",
         "hovertemplate": "lcc=%{x}<br>count=%{y}<extra></extra>",
         "legendgroup": "0.0",
         "marker": {
          "color": "#ab63fa",
          "pattern": {
           "shape": ""
          }
         },
         "name": "0.0",
         "offsetgroup": "0.0",
         "orientation": "v",
         "showlegend": true,
         "type": "histogram",
         "x": [
          0,
          0,
          0,
          0,
          0,
          0,
          0,
          0,
          0,
          0,
          0,
          0,
          0,
          0,
          0,
          0,
          0,
          0,
          0,
          0,
          0,
          0,
          0,
          0,
          0,
          0,
          0,
          0,
          0,
          0,
          0,
          0,
          0,
          0,
          0,
          0,
          0,
          0,
          0,
          0,
          0,
          0,
          0,
          0,
          0,
          0,
          0,
          0,
          0,
          0,
          0,
          0,
          0,
          0,
          0,
          0
         ],
         "xaxis": "x",
         "yaxis": "y"
        },
        {
         "alignmentgroup": "True",
         "hovertemplate": "lcc=%{x}<extra></extra>",
         "legendgroup": "0.0",
         "marker": {
          "color": "#ab63fa"
         },
         "name": "0.0",
         "notched": true,
         "offsetgroup": "0.0",
         "showlegend": false,
         "type": "box",
         "x": [
          0,
          0,
          0,
          0,
          0,
          0,
          0,
          0,
          0,
          0,
          0,
          0,
          0,
          0,
          0,
          0,
          0,
          0,
          0,
          0,
          0,
          0,
          0,
          0,
          0,
          0,
          0,
          0,
          0,
          0,
          0,
          0,
          0,
          0,
          0,
          0,
          0,
          0,
          0,
          0,
          0,
          0,
          0,
          0,
          0,
          0,
          0,
          0,
          0,
          0,
          0,
          0,
          0,
          0,
          0,
          0
         ],
         "xaxis": "x2",
         "yaxis": "y2"
        },
        {
         "alignmentgroup": "True",
         "bingroup": "x",
         "hovertemplate": "lcc=%{x}<br>count=%{y}<extra></extra>",
         "legendgroup": "0.23384615384615384",
         "marker": {
          "color": "#FFA15A",
          "pattern": {
           "shape": ""
          }
         },
         "name": "0.23384615384615384",
         "offsetgroup": "0.23384615384615384",
         "orientation": "v",
         "showlegend": true,
         "type": "histogram",
         "x": [
          0.23384615384615384
         ],
         "xaxis": "x",
         "yaxis": "y"
        },
        {
         "alignmentgroup": "True",
         "hovertemplate": "lcc=%{x}<extra></extra>",
         "legendgroup": "0.23384615384615384",
         "marker": {
          "color": "#FFA15A"
         },
         "name": "0.23384615384615384",
         "notched": true,
         "offsetgroup": "0.23384615384615384",
         "showlegend": false,
         "type": "box",
         "x": [
          0.23384615384615384
         ],
         "xaxis": "x2",
         "yaxis": "y2"
        },
        {
         "alignmentgroup": "True",
         "bingroup": "x",
         "hovertemplate": "lcc=%{x}<br>count=%{y}<extra></extra>",
         "legendgroup": "0.23616734143049933",
         "marker": {
          "color": "#19d3f3",
          "pattern": {
           "shape": ""
          }
         },
         "name": "0.23616734143049933",
         "offsetgroup": "0.23616734143049933",
         "orientation": "v",
         "showlegend": true,
         "type": "histogram",
         "x": [
          0.23616734143049933
         ],
         "xaxis": "x",
         "yaxis": "y"
        },
        {
         "alignmentgroup": "True",
         "hovertemplate": "lcc=%{x}<extra></extra>",
         "legendgroup": "0.23616734143049933",
         "marker": {
          "color": "#19d3f3"
         },
         "name": "0.23616734143049933",
         "notched": true,
         "offsetgroup": "0.23616734143049933",
         "showlegend": false,
         "type": "box",
         "x": [
          0.23616734143049933
         ],
         "xaxis": "x2",
         "yaxis": "y2"
        },
        {
         "alignmentgroup": "True",
         "bingroup": "x",
         "hovertemplate": "lcc=%{x}<br>count=%{y}<extra></extra>",
         "legendgroup": "0.19397463002114165",
         "marker": {
          "color": "#FF6692",
          "pattern": {
           "shape": ""
          }
         },
         "name": "0.19397463002114165",
         "offsetgroup": "0.19397463002114165",
         "orientation": "v",
         "showlegend": true,
         "type": "histogram",
         "x": [
          0.19397463002114165
         ],
         "xaxis": "x",
         "yaxis": "y"
        },
        {
         "alignmentgroup": "True",
         "hovertemplate": "lcc=%{x}<extra></extra>",
         "legendgroup": "0.19397463002114165",
         "marker": {
          "color": "#FF6692"
         },
         "name": "0.19397463002114165",
         "notched": true,
         "offsetgroup": "0.19397463002114165",
         "showlegend": false,
         "type": "box",
         "x": [
          0.19397463002114165
         ],
         "xaxis": "x2",
         "yaxis": "y2"
        },
        {
         "alignmentgroup": "True",
         "bingroup": "x",
         "hovertemplate": "lcc=%{x}<br>count=%{y}<extra></extra>",
         "legendgroup": "0.2679738562091503",
         "marker": {
          "color": "#B6E880",
          "pattern": {
           "shape": ""
          }
         },
         "name": "0.2679738562091503",
         "offsetgroup": "0.2679738562091503",
         "orientation": "v",
         "showlegend": true,
         "type": "histogram",
         "x": [
          0.2679738562091503
         ],
         "xaxis": "x",
         "yaxis": "y"
        },
        {
         "alignmentgroup": "True",
         "hovertemplate": "lcc=%{x}<extra></extra>",
         "legendgroup": "0.2679738562091503",
         "marker": {
          "color": "#B6E880"
         },
         "name": "0.2679738562091503",
         "notched": true,
         "offsetgroup": "0.2679738562091503",
         "showlegend": false,
         "type": "box",
         "x": [
          0.2679738562091503
         ],
         "xaxis": "x2",
         "yaxis": "y2"
        },
        {
         "alignmentgroup": "True",
         "bingroup": "x",
         "hovertemplate": "lcc=%{x}<br>count=%{y}<extra></extra>",
         "legendgroup": "0.2134387351778656",
         "marker": {
          "color": "#FF97FF",
          "pattern": {
           "shape": ""
          }
         },
         "name": "0.2134387351778656",
         "offsetgroup": "0.2134387351778656",
         "orientation": "v",
         "showlegend": true,
         "type": "histogram",
         "x": [
          0.2134387351778656
         ],
         "xaxis": "x",
         "yaxis": "y"
        },
        {
         "alignmentgroup": "True",
         "hovertemplate": "lcc=%{x}<extra></extra>",
         "legendgroup": "0.2134387351778656",
         "marker": {
          "color": "#FF97FF"
         },
         "name": "0.2134387351778656",
         "notched": true,
         "offsetgroup": "0.2134387351778656",
         "showlegend": false,
         "type": "box",
         "x": [
          0.2134387351778656
         ],
         "xaxis": "x2",
         "yaxis": "y2"
        },
        {
         "alignmentgroup": "True",
         "bingroup": "x",
         "hovertemplate": "lcc=%{x}<br>count=%{y}<extra></extra>",
         "legendgroup": "0.2857142857142857",
         "marker": {
          "color": "#FECB52",
          "pattern": {
           "shape": ""
          }
         },
         "name": "0.2857142857142857",
         "offsetgroup": "0.2857142857142857",
         "orientation": "v",
         "showlegend": true,
         "type": "histogram",
         "x": [
          0.2857142857142857,
          0.2857142857142857
         ],
         "xaxis": "x",
         "yaxis": "y"
        },
        {
         "alignmentgroup": "True",
         "hovertemplate": "lcc=%{x}<extra></extra>",
         "legendgroup": "0.2857142857142857",
         "marker": {
          "color": "#FECB52"
         },
         "name": "0.2857142857142857",
         "notched": true,
         "offsetgroup": "0.2857142857142857",
         "showlegend": false,
         "type": "box",
         "x": [
          0.2857142857142857,
          0.2857142857142857
         ],
         "xaxis": "x2",
         "yaxis": "y2"
        },
        {
         "alignmentgroup": "True",
         "bingroup": "x",
         "hovertemplate": "lcc=%{x}<br>count=%{y}<extra></extra>",
         "legendgroup": "0.3269230769230769",
         "marker": {
          "color": "#636efa",
          "pattern": {
           "shape": ""
          }
         },
         "name": "0.3269230769230769",
         "offsetgroup": "0.3269230769230769",
         "orientation": "v",
         "showlegend": true,
         "type": "histogram",
         "x": [
          0.3269230769230769
         ],
         "xaxis": "x",
         "yaxis": "y"
        },
        {
         "alignmentgroup": "True",
         "hovertemplate": "lcc=%{x}<extra></extra>",
         "legendgroup": "0.3269230769230769",
         "marker": {
          "color": "#636efa"
         },
         "name": "0.3269230769230769",
         "notched": true,
         "offsetgroup": "0.3269230769230769",
         "showlegend": false,
         "type": "box",
         "x": [
          0.3269230769230769
         ],
         "xaxis": "x2",
         "yaxis": "y2"
        },
        {
         "alignmentgroup": "True",
         "bingroup": "x",
         "hovertemplate": "lcc=%{x}<br>count=%{y}<extra></extra>",
         "legendgroup": "0.25806451612903225",
         "marker": {
          "color": "#EF553B",
          "pattern": {
           "shape": ""
          }
         },
         "name": "0.25806451612903225",
         "offsetgroup": "0.25806451612903225",
         "orientation": "v",
         "showlegend": true,
         "type": "histogram",
         "x": [
          0.25806451612903225
         ],
         "xaxis": "x",
         "yaxis": "y"
        },
        {
         "alignmentgroup": "True",
         "hovertemplate": "lcc=%{x}<extra></extra>",
         "legendgroup": "0.25806451612903225",
         "marker": {
          "color": "#EF553B"
         },
         "name": "0.25806451612903225",
         "notched": true,
         "offsetgroup": "0.25806451612903225",
         "showlegend": false,
         "type": "box",
         "x": [
          0.25806451612903225
         ],
         "xaxis": "x2",
         "yaxis": "y2"
        },
        {
         "alignmentgroup": "True",
         "bingroup": "x",
         "hovertemplate": "lcc=%{x}<br>count=%{y}<extra></extra>",
         "legendgroup": "0.19166666666666668",
         "marker": {
          "color": "#00cc96",
          "pattern": {
           "shape": ""
          }
         },
         "name": "0.19166666666666668",
         "offsetgroup": "0.19166666666666668",
         "orientation": "v",
         "showlegend": true,
         "type": "histogram",
         "x": [
          0.19166666666666668
         ],
         "xaxis": "x",
         "yaxis": "y"
        },
        {
         "alignmentgroup": "True",
         "hovertemplate": "lcc=%{x}<extra></extra>",
         "legendgroup": "0.19166666666666668",
         "marker": {
          "color": "#00cc96"
         },
         "name": "0.19166666666666668",
         "notched": true,
         "offsetgroup": "0.19166666666666668",
         "showlegend": false,
         "type": "box",
         "x": [
          0.19166666666666668
         ],
         "xaxis": "x2",
         "yaxis": "y2"
        },
        {
         "alignmentgroup": "True",
         "bingroup": "x",
         "hovertemplate": "lcc=%{x}<br>count=%{y}<extra></extra>",
         "legendgroup": "0.08928571428571429",
         "marker": {
          "color": "#ab63fa",
          "pattern": {
           "shape": ""
          }
         },
         "name": "0.08928571428571429",
         "offsetgroup": "0.08928571428571429",
         "orientation": "v",
         "showlegend": true,
         "type": "histogram",
         "x": [
          0.08928571428571429
         ],
         "xaxis": "x",
         "yaxis": "y"
        },
        {
         "alignmentgroup": "True",
         "hovertemplate": "lcc=%{x}<extra></extra>",
         "legendgroup": "0.08928571428571429",
         "marker": {
          "color": "#ab63fa"
         },
         "name": "0.08928571428571429",
         "notched": true,
         "offsetgroup": "0.08928571428571429",
         "showlegend": false,
         "type": "box",
         "x": [
          0.08928571428571429
         ],
         "xaxis": "x2",
         "yaxis": "y2"
        },
        {
         "alignmentgroup": "True",
         "bingroup": "x",
         "hovertemplate": "lcc=%{x}<br>count=%{y}<extra></extra>",
         "legendgroup": "0.6",
         "marker": {
          "color": "#FFA15A",
          "pattern": {
           "shape": ""
          }
         },
         "name": "0.6",
         "offsetgroup": "0.6",
         "orientation": "v",
         "showlegend": true,
         "type": "histogram",
         "x": [
          0.6
         ],
         "xaxis": "x",
         "yaxis": "y"
        },
        {
         "alignmentgroup": "True",
         "hovertemplate": "lcc=%{x}<extra></extra>",
         "legendgroup": "0.6",
         "marker": {
          "color": "#FFA15A"
         },
         "name": "0.6",
         "notched": true,
         "offsetgroup": "0.6",
         "showlegend": false,
         "type": "box",
         "x": [
          0.6
         ],
         "xaxis": "x2",
         "yaxis": "y2"
        },
        {
         "alignmentgroup": "True",
         "bingroup": "x",
         "hovertemplate": "lcc=%{x}<br>count=%{y}<extra></extra>",
         "legendgroup": "0.1978021978021978",
         "marker": {
          "color": "#19d3f3",
          "pattern": {
           "shape": ""
          }
         },
         "name": "0.1978021978021978",
         "offsetgroup": "0.1978021978021978",
         "orientation": "v",
         "showlegend": true,
         "type": "histogram",
         "x": [
          0.1978021978021978
         ],
         "xaxis": "x",
         "yaxis": "y"
        },
        {
         "alignmentgroup": "True",
         "hovertemplate": "lcc=%{x}<extra></extra>",
         "legendgroup": "0.1978021978021978",
         "marker": {
          "color": "#19d3f3"
         },
         "name": "0.1978021978021978",
         "notched": true,
         "offsetgroup": "0.1978021978021978",
         "showlegend": false,
         "type": "box",
         "x": [
          0.1978021978021978
         ],
         "xaxis": "x2",
         "yaxis": "y2"
        },
        {
         "alignmentgroup": "True",
         "bingroup": "x",
         "hovertemplate": "lcc=%{x}<br>count=%{y}<extra></extra>",
         "legendgroup": "0.2543859649122807",
         "marker": {
          "color": "#FF6692",
          "pattern": {
           "shape": ""
          }
         },
         "name": "0.2543859649122807",
         "offsetgroup": "0.2543859649122807",
         "orientation": "v",
         "showlegend": true,
         "type": "histogram",
         "x": [
          0.2543859649122807
         ],
         "xaxis": "x",
         "yaxis": "y"
        },
        {
         "alignmentgroup": "True",
         "hovertemplate": "lcc=%{x}<extra></extra>",
         "legendgroup": "0.2543859649122807",
         "marker": {
          "color": "#FF6692"
         },
         "name": "0.2543859649122807",
         "notched": true,
         "offsetgroup": "0.2543859649122807",
         "showlegend": false,
         "type": "box",
         "x": [
          0.2543859649122807
         ],
         "xaxis": "x2",
         "yaxis": "y2"
        },
        {
         "alignmentgroup": "True",
         "bingroup": "x",
         "hovertemplate": "lcc=%{x}<br>count=%{y}<extra></extra>",
         "legendgroup": "0.16554621848739495",
         "marker": {
          "color": "#B6E880",
          "pattern": {
           "shape": ""
          }
         },
         "name": "0.16554621848739495",
         "offsetgroup": "0.16554621848739495",
         "orientation": "v",
         "showlegend": true,
         "type": "histogram",
         "x": [
          0.16554621848739495
         ],
         "xaxis": "x",
         "yaxis": "y"
        },
        {
         "alignmentgroup": "True",
         "hovertemplate": "lcc=%{x}<extra></extra>",
         "legendgroup": "0.16554621848739495",
         "marker": {
          "color": "#B6E880"
         },
         "name": "0.16554621848739495",
         "notched": true,
         "offsetgroup": "0.16554621848739495",
         "showlegend": false,
         "type": "box",
         "x": [
          0.16554621848739495
         ],
         "xaxis": "x2",
         "yaxis": "y2"
        },
        {
         "alignmentgroup": "True",
         "bingroup": "x",
         "hovertemplate": "lcc=%{x}<br>count=%{y}<extra></extra>",
         "legendgroup": "0.11818181818181818",
         "marker": {
          "color": "#FF97FF",
          "pattern": {
           "shape": ""
          }
         },
         "name": "0.11818181818181818",
         "offsetgroup": "0.11818181818181818",
         "orientation": "v",
         "showlegend": true,
         "type": "histogram",
         "x": [
          0.11818181818181818
         ],
         "xaxis": "x",
         "yaxis": "y"
        },
        {
         "alignmentgroup": "True",
         "hovertemplate": "lcc=%{x}<extra></extra>",
         "legendgroup": "0.11818181818181818",
         "marker": {
          "color": "#FF97FF"
         },
         "name": "0.11818181818181818",
         "notched": true,
         "offsetgroup": "0.11818181818181818",
         "showlegend": false,
         "type": "box",
         "x": [
          0.11818181818181818
         ],
         "xaxis": "x2",
         "yaxis": "y2"
        },
        {
         "alignmentgroup": "True",
         "bingroup": "x",
         "hovertemplate": "lcc=%{x}<br>count=%{y}<extra></extra>",
         "legendgroup": "0.42424242424242425",
         "marker": {
          "color": "#FECB52",
          "pattern": {
           "shape": ""
          }
         },
         "name": "0.42424242424242425",
         "offsetgroup": "0.42424242424242425",
         "orientation": "v",
         "showlegend": true,
         "type": "histogram",
         "x": [
          0.42424242424242425
         ],
         "xaxis": "x",
         "yaxis": "y"
        },
        {
         "alignmentgroup": "True",
         "hovertemplate": "lcc=%{x}<extra></extra>",
         "legendgroup": "0.42424242424242425",
         "marker": {
          "color": "#FECB52"
         },
         "name": "0.42424242424242425",
         "notched": true,
         "offsetgroup": "0.42424242424242425",
         "showlegend": false,
         "type": "box",
         "x": [
          0.42424242424242425
         ],
         "xaxis": "x2",
         "yaxis": "y2"
        },
        {
         "alignmentgroup": "True",
         "bingroup": "x",
         "hovertemplate": "lcc=%{x}<br>count=%{y}<extra></extra>",
         "legendgroup": "0.18069727891156462",
         "marker": {
          "color": "#636efa",
          "pattern": {
           "shape": ""
          }
         },
         "name": "0.18069727891156462",
         "offsetgroup": "0.18069727891156462",
         "orientation": "v",
         "showlegend": true,
         "type": "histogram",
         "x": [
          0.18069727891156462
         ],
         "xaxis": "x",
         "yaxis": "y"
        },
        {
         "alignmentgroup": "True",
         "hovertemplate": "lcc=%{x}<extra></extra>",
         "legendgroup": "0.18069727891156462",
         "marker": {
          "color": "#636efa"
         },
         "name": "0.18069727891156462",
         "notched": true,
         "offsetgroup": "0.18069727891156462",
         "showlegend": false,
         "type": "box",
         "x": [
          0.18069727891156462
         ],
         "xaxis": "x2",
         "yaxis": "y2"
        },
        {
         "alignmentgroup": "True",
         "bingroup": "x",
         "hovertemplate": "lcc=%{x}<br>count=%{y}<extra></extra>",
         "legendgroup": "0.2156084656084656",
         "marker": {
          "color": "#EF553B",
          "pattern": {
           "shape": ""
          }
         },
         "name": "0.2156084656084656",
         "offsetgroup": "0.2156084656084656",
         "orientation": "v",
         "showlegend": true,
         "type": "histogram",
         "x": [
          0.2156084656084656
         ],
         "xaxis": "x",
         "yaxis": "y"
        },
        {
         "alignmentgroup": "True",
         "hovertemplate": "lcc=%{x}<extra></extra>",
         "legendgroup": "0.2156084656084656",
         "marker": {
          "color": "#EF553B"
         },
         "name": "0.2156084656084656",
         "notched": true,
         "offsetgroup": "0.2156084656084656",
         "showlegend": false,
         "type": "box",
         "x": [
          0.2156084656084656
         ],
         "xaxis": "x2",
         "yaxis": "y2"
        },
        {
         "alignmentgroup": "True",
         "bingroup": "x",
         "hovertemplate": "lcc=%{x}<br>count=%{y}<extra></extra>",
         "legendgroup": "0.18181818181818182",
         "marker": {
          "color": "#00cc96",
          "pattern": {
           "shape": ""
          }
         },
         "name": "0.18181818181818182",
         "offsetgroup": "0.18181818181818182",
         "orientation": "v",
         "showlegend": true,
         "type": "histogram",
         "x": [
          0.18181818181818182,
          0.18181818181818182
         ],
         "xaxis": "x",
         "yaxis": "y"
        },
        {
         "alignmentgroup": "True",
         "hovertemplate": "lcc=%{x}<extra></extra>",
         "legendgroup": "0.18181818181818182",
         "marker": {
          "color": "#00cc96"
         },
         "name": "0.18181818181818182",
         "notched": true,
         "offsetgroup": "0.18181818181818182",
         "showlegend": false,
         "type": "box",
         "x": [
          0.18181818181818182,
          0.18181818181818182
         ],
         "xaxis": "x2",
         "yaxis": "y2"
        },
        {
         "alignmentgroup": "True",
         "bingroup": "x",
         "hovertemplate": "lcc=%{x}<br>count=%{y}<extra></extra>",
         "legendgroup": "0.3366013071895425",
         "marker": {
          "color": "#ab63fa",
          "pattern": {
           "shape": ""
          }
         },
         "name": "0.3366013071895425",
         "offsetgroup": "0.3366013071895425",
         "orientation": "v",
         "showlegend": true,
         "type": "histogram",
         "x": [
          0.3366013071895425
         ],
         "xaxis": "x",
         "yaxis": "y"
        },
        {
         "alignmentgroup": "True",
         "hovertemplate": "lcc=%{x}<extra></extra>",
         "legendgroup": "0.3366013071895425",
         "marker": {
          "color": "#ab63fa"
         },
         "name": "0.3366013071895425",
         "notched": true,
         "offsetgroup": "0.3366013071895425",
         "showlegend": false,
         "type": "box",
         "x": [
          0.3366013071895425
         ],
         "xaxis": "x2",
         "yaxis": "y2"
        },
        {
         "alignmentgroup": "True",
         "bingroup": "x",
         "hovertemplate": "lcc=%{x}<br>count=%{y}<extra></extra>",
         "legendgroup": "0.28654970760233917",
         "marker": {
          "color": "#FFA15A",
          "pattern": {
           "shape": ""
          }
         },
         "name": "0.28654970760233917",
         "offsetgroup": "0.28654970760233917",
         "orientation": "v",
         "showlegend": true,
         "type": "histogram",
         "x": [
          0.28654970760233917
         ],
         "xaxis": "x",
         "yaxis": "y"
        },
        {
         "alignmentgroup": "True",
         "hovertemplate": "lcc=%{x}<extra></extra>",
         "legendgroup": "0.28654970760233917",
         "marker": {
          "color": "#FFA15A"
         },
         "name": "0.28654970760233917",
         "notched": true,
         "offsetgroup": "0.28654970760233917",
         "showlegend": false,
         "type": "box",
         "x": [
          0.28654970760233917
         ],
         "xaxis": "x2",
         "yaxis": "y2"
        },
        {
         "alignmentgroup": "True",
         "bingroup": "x",
         "hovertemplate": "lcc=%{x}<br>count=%{y}<extra></extra>",
         "legendgroup": "0.14473684210526316",
         "marker": {
          "color": "#19d3f3",
          "pattern": {
           "shape": ""
          }
         },
         "name": "0.14473684210526316",
         "offsetgroup": "0.14473684210526316",
         "orientation": "v",
         "showlegend": true,
         "type": "histogram",
         "x": [
          0.14473684210526316
         ],
         "xaxis": "x",
         "yaxis": "y"
        },
        {
         "alignmentgroup": "True",
         "hovertemplate": "lcc=%{x}<extra></extra>",
         "legendgroup": "0.14473684210526316",
         "marker": {
          "color": "#19d3f3"
         },
         "name": "0.14473684210526316",
         "notched": true,
         "offsetgroup": "0.14473684210526316",
         "showlegend": false,
         "type": "box",
         "x": [
          0.14473684210526316
         ],
         "xaxis": "x2",
         "yaxis": "y2"
        },
        {
         "alignmentgroup": "True",
         "bingroup": "x",
         "hovertemplate": "lcc=%{x}<br>count=%{y}<extra></extra>",
         "legendgroup": "0.34444444444444444",
         "marker": {
          "color": "#FF6692",
          "pattern": {
           "shape": ""
          }
         },
         "name": "0.34444444444444444",
         "offsetgroup": "0.34444444444444444",
         "orientation": "v",
         "showlegend": true,
         "type": "histogram",
         "x": [
          0.34444444444444444
         ],
         "xaxis": "x",
         "yaxis": "y"
        },
        {
         "alignmentgroup": "True",
         "hovertemplate": "lcc=%{x}<extra></extra>",
         "legendgroup": "0.34444444444444444",
         "marker": {
          "color": "#FF6692"
         },
         "name": "0.34444444444444444",
         "notched": true,
         "offsetgroup": "0.34444444444444444",
         "showlegend": false,
         "type": "box",
         "x": [
          0.34444444444444444
         ],
         "xaxis": "x2",
         "yaxis": "y2"
        },
        {
         "alignmentgroup": "True",
         "bingroup": "x",
         "hovertemplate": "lcc=%{x}<br>count=%{y}<extra></extra>",
         "legendgroup": "0.32083333333333336",
         "marker": {
          "color": "#B6E880",
          "pattern": {
           "shape": ""
          }
         },
         "name": "0.32083333333333336",
         "offsetgroup": "0.32083333333333336",
         "orientation": "v",
         "showlegend": true,
         "type": "histogram",
         "x": [
          0.32083333333333336,
          0.32083333333333336
         ],
         "xaxis": "x",
         "yaxis": "y"
        },
        {
         "alignmentgroup": "True",
         "hovertemplate": "lcc=%{x}<extra></extra>",
         "legendgroup": "0.32083333333333336",
         "marker": {
          "color": "#B6E880"
         },
         "name": "0.32083333333333336",
         "notched": true,
         "offsetgroup": "0.32083333333333336",
         "showlegend": false,
         "type": "box",
         "x": [
          0.32083333333333336,
          0.32083333333333336
         ],
         "xaxis": "x2",
         "yaxis": "y2"
        },
        {
         "alignmentgroup": "True",
         "bingroup": "x",
         "hovertemplate": "lcc=%{x}<br>count=%{y}<extra></extra>",
         "legendgroup": "0.16666666666666666",
         "marker": {
          "color": "#FF97FF",
          "pattern": {
           "shape": ""
          }
         },
         "name": "0.16666666666666666",
         "offsetgroup": "0.16666666666666666",
         "orientation": "v",
         "showlegend": true,
         "type": "histogram",
         "x": [
          0.16666666666666666,
          0.16666666666666666,
          0.16666666666666666,
          0.16666666666666666,
          0.16666666666666666,
          0.16666666666666666,
          0.16666666666666666,
          0.16666666666666666
         ],
         "xaxis": "x",
         "yaxis": "y"
        },
        {
         "alignmentgroup": "True",
         "hovertemplate": "lcc=%{x}<extra></extra>",
         "legendgroup": "0.16666666666666666",
         "marker": {
          "color": "#FF97FF"
         },
         "name": "0.16666666666666666",
         "notched": true,
         "offsetgroup": "0.16666666666666666",
         "showlegend": false,
         "type": "box",
         "x": [
          0.16666666666666666,
          0.16666666666666666,
          0.16666666666666666,
          0.16666666666666666,
          0.16666666666666666,
          0.16666666666666666,
          0.16666666666666666,
          0.16666666666666666
         ],
         "xaxis": "x2",
         "yaxis": "y2"
        },
        {
         "alignmentgroup": "True",
         "bingroup": "x",
         "hovertemplate": "lcc=%{x}<br>count=%{y}<extra></extra>",
         "legendgroup": "0.23399014778325122",
         "marker": {
          "color": "#FECB52",
          "pattern": {
           "shape": ""
          }
         },
         "name": "0.23399014778325122",
         "offsetgroup": "0.23399014778325122",
         "orientation": "v",
         "showlegend": true,
         "type": "histogram",
         "x": [
          0.23399014778325122
         ],
         "xaxis": "x",
         "yaxis": "y"
        },
        {
         "alignmentgroup": "True",
         "hovertemplate": "lcc=%{x}<extra></extra>",
         "legendgroup": "0.23399014778325122",
         "marker": {
          "color": "#FECB52"
         },
         "name": "0.23399014778325122",
         "notched": true,
         "offsetgroup": "0.23399014778325122",
         "showlegend": false,
         "type": "box",
         "x": [
          0.23399014778325122
         ],
         "xaxis": "x2",
         "yaxis": "y2"
        },
        {
         "alignmentgroup": "True",
         "bingroup": "x",
         "hovertemplate": "lcc=%{x}<br>count=%{y}<extra></extra>",
         "legendgroup": "0.23588709677419356",
         "marker": {
          "color": "#636efa",
          "pattern": {
           "shape": ""
          }
         },
         "name": "0.23588709677419356",
         "offsetgroup": "0.23588709677419356",
         "orientation": "v",
         "showlegend": true,
         "type": "histogram",
         "x": [
          0.23588709677419356
         ],
         "xaxis": "x",
         "yaxis": "y"
        },
        {
         "alignmentgroup": "True",
         "hovertemplate": "lcc=%{x}<extra></extra>",
         "legendgroup": "0.23588709677419356",
         "marker": {
          "color": "#636efa"
         },
         "name": "0.23588709677419356",
         "notched": true,
         "offsetgroup": "0.23588709677419356",
         "showlegend": false,
         "type": "box",
         "x": [
          0.23588709677419356
         ],
         "xaxis": "x2",
         "yaxis": "y2"
        },
        {
         "alignmentgroup": "True",
         "bingroup": "x",
         "hovertemplate": "lcc=%{x}<br>count=%{y}<extra></extra>",
         "legendgroup": "0.3",
         "marker": {
          "color": "#EF553B",
          "pattern": {
           "shape": ""
          }
         },
         "name": "0.3",
         "offsetgroup": "0.3",
         "orientation": "v",
         "showlegend": true,
         "type": "histogram",
         "x": [
          0.3,
          0.3,
          0.3,
          0.3,
          0.3
         ],
         "xaxis": "x",
         "yaxis": "y"
        },
        {
         "alignmentgroup": "True",
         "hovertemplate": "lcc=%{x}<extra></extra>",
         "legendgroup": "0.3",
         "marker": {
          "color": "#EF553B"
         },
         "name": "0.3",
         "notched": true,
         "offsetgroup": "0.3",
         "showlegend": false,
         "type": "box",
         "x": [
          0.3,
          0.3,
          0.3,
          0.3,
          0.3
         ],
         "xaxis": "x2",
         "yaxis": "y2"
        },
        {
         "alignmentgroup": "True",
         "bingroup": "x",
         "hovertemplate": "lcc=%{x}<br>count=%{y}<extra></extra>",
         "legendgroup": "0.1839080459770115",
         "marker": {
          "color": "#00cc96",
          "pattern": {
           "shape": ""
          }
         },
         "name": "0.1839080459770115",
         "offsetgroup": "0.1839080459770115",
         "orientation": "v",
         "showlegend": true,
         "type": "histogram",
         "x": [
          0.1839080459770115
         ],
         "xaxis": "x",
         "yaxis": "y"
        },
        {
         "alignmentgroup": "True",
         "hovertemplate": "lcc=%{x}<extra></extra>",
         "legendgroup": "0.1839080459770115",
         "marker": {
          "color": "#00cc96"
         },
         "name": "0.1839080459770115",
         "notched": true,
         "offsetgroup": "0.1839080459770115",
         "showlegend": false,
         "type": "box",
         "x": [
          0.1839080459770115
         ],
         "xaxis": "x2",
         "yaxis": "y2"
        },
        {
         "alignmentgroup": "True",
         "bingroup": "x",
         "hovertemplate": "lcc=%{x}<br>count=%{y}<extra></extra>",
         "legendgroup": "0.29051383399209485",
         "marker": {
          "color": "#ab63fa",
          "pattern": {
           "shape": ""
          }
         },
         "name": "0.29051383399209485",
         "offsetgroup": "0.29051383399209485",
         "orientation": "v",
         "showlegend": true,
         "type": "histogram",
         "x": [
          0.29051383399209485
         ],
         "xaxis": "x",
         "yaxis": "y"
        },
        {
         "alignmentgroup": "True",
         "hovertemplate": "lcc=%{x}<extra></extra>",
         "legendgroup": "0.29051383399209485",
         "marker": {
          "color": "#ab63fa"
         },
         "name": "0.29051383399209485",
         "notched": true,
         "offsetgroup": "0.29051383399209485",
         "showlegend": false,
         "type": "box",
         "x": [
          0.29051383399209485
         ],
         "xaxis": "x2",
         "yaxis": "y2"
        },
        {
         "alignmentgroup": "True",
         "bingroup": "x",
         "hovertemplate": "lcc=%{x}<br>count=%{y}<extra></extra>",
         "legendgroup": "0.3707692307692308",
         "marker": {
          "color": "#FFA15A",
          "pattern": {
           "shape": ""
          }
         },
         "name": "0.3707692307692308",
         "offsetgroup": "0.3707692307692308",
         "orientation": "v",
         "showlegend": true,
         "type": "histogram",
         "x": [
          0.3707692307692308
         ],
         "xaxis": "x",
         "yaxis": "y"
        },
        {
         "alignmentgroup": "True",
         "hovertemplate": "lcc=%{x}<extra></extra>",
         "legendgroup": "0.3707692307692308",
         "marker": {
          "color": "#FFA15A"
         },
         "name": "0.3707692307692308",
         "notched": true,
         "offsetgroup": "0.3707692307692308",
         "showlegend": false,
         "type": "box",
         "x": [
          0.3707692307692308
         ],
         "xaxis": "x2",
         "yaxis": "y2"
        },
        {
         "alignmentgroup": "True",
         "bingroup": "x",
         "hovertemplate": "lcc=%{x}<br>count=%{y}<extra></extra>",
         "legendgroup": "0.19658119658119658",
         "marker": {
          "color": "#19d3f3",
          "pattern": {
           "shape": ""
          }
         },
         "name": "0.19658119658119658",
         "offsetgroup": "0.19658119658119658",
         "orientation": "v",
         "showlegend": true,
         "type": "histogram",
         "x": [
          0.19658119658119658
         ],
         "xaxis": "x",
         "yaxis": "y"
        },
        {
         "alignmentgroup": "True",
         "hovertemplate": "lcc=%{x}<extra></extra>",
         "legendgroup": "0.19658119658119658",
         "marker": {
          "color": "#19d3f3"
         },
         "name": "0.19658119658119658",
         "notched": true,
         "offsetgroup": "0.19658119658119658",
         "showlegend": false,
         "type": "box",
         "x": [
          0.19658119658119658
         ],
         "xaxis": "x2",
         "yaxis": "y2"
        },
        {
         "alignmentgroup": "True",
         "bingroup": "x",
         "hovertemplate": "lcc=%{x}<br>count=%{y}<extra></extra>",
         "legendgroup": "0.3088235294117647",
         "marker": {
          "color": "#FF6692",
          "pattern": {
           "shape": ""
          }
         },
         "name": "0.3088235294117647",
         "offsetgroup": "0.3088235294117647",
         "orientation": "v",
         "showlegend": true,
         "type": "histogram",
         "x": [
          0.3088235294117647
         ],
         "xaxis": "x",
         "yaxis": "y"
        },
        {
         "alignmentgroup": "True",
         "hovertemplate": "lcc=%{x}<extra></extra>",
         "legendgroup": "0.3088235294117647",
         "marker": {
          "color": "#FF6692"
         },
         "name": "0.3088235294117647",
         "notched": true,
         "offsetgroup": "0.3088235294117647",
         "showlegend": false,
         "type": "box",
         "x": [
          0.3088235294117647
         ],
         "xaxis": "x2",
         "yaxis": "y2"
        },
        {
         "alignmentgroup": "True",
         "bingroup": "x",
         "hovertemplate": "lcc=%{x}<br>count=%{y}<extra></extra>",
         "legendgroup": "0.17539682539682538",
         "marker": {
          "color": "#B6E880",
          "pattern": {
           "shape": ""
          }
         },
         "name": "0.17539682539682538",
         "offsetgroup": "0.17539682539682538",
         "orientation": "v",
         "showlegend": true,
         "type": "histogram",
         "x": [
          0.17539682539682538
         ],
         "xaxis": "x",
         "yaxis": "y"
        },
        {
         "alignmentgroup": "True",
         "hovertemplate": "lcc=%{x}<extra></extra>",
         "legendgroup": "0.17539682539682538",
         "marker": {
          "color": "#B6E880"
         },
         "name": "0.17539682539682538",
         "notched": true,
         "offsetgroup": "0.17539682539682538",
         "showlegend": false,
         "type": "box",
         "x": [
          0.17539682539682538
         ],
         "xaxis": "x2",
         "yaxis": "y2"
        },
        {
         "alignmentgroup": "True",
         "bingroup": "x",
         "hovertemplate": "lcc=%{x}<br>count=%{y}<extra></extra>",
         "legendgroup": "0.4642857142857143",
         "marker": {
          "color": "#FF97FF",
          "pattern": {
           "shape": ""
          }
         },
         "name": "0.4642857142857143",
         "offsetgroup": "0.4642857142857143",
         "orientation": "v",
         "showlegend": true,
         "type": "histogram",
         "x": [
          0.4642857142857143
         ],
         "xaxis": "x",
         "yaxis": "y"
        },
        {
         "alignmentgroup": "True",
         "hovertemplate": "lcc=%{x}<extra></extra>",
         "legendgroup": "0.4642857142857143",
         "marker": {
          "color": "#FF97FF"
         },
         "name": "0.4642857142857143",
         "notched": true,
         "offsetgroup": "0.4642857142857143",
         "showlegend": false,
         "type": "box",
         "x": [
          0.4642857142857143
         ],
         "xaxis": "x2",
         "yaxis": "y2"
        },
        {
         "alignmentgroup": "True",
         "bingroup": "x",
         "hovertemplate": "lcc=%{x}<br>count=%{y}<extra></extra>",
         "legendgroup": "0.32222222222222224",
         "marker": {
          "color": "#FECB52",
          "pattern": {
           "shape": ""
          }
         },
         "name": "0.32222222222222224",
         "offsetgroup": "0.32222222222222224",
         "orientation": "v",
         "showlegend": true,
         "type": "histogram",
         "x": [
          0.32222222222222224
         ],
         "xaxis": "x",
         "yaxis": "y"
        },
        {
         "alignmentgroup": "True",
         "hovertemplate": "lcc=%{x}<extra></extra>",
         "legendgroup": "0.32222222222222224",
         "marker": {
          "color": "#FECB52"
         },
         "name": "0.32222222222222224",
         "notched": true,
         "offsetgroup": "0.32222222222222224",
         "showlegend": false,
         "type": "box",
         "x": [
          0.32222222222222224
         ],
         "xaxis": "x2",
         "yaxis": "y2"
        },
        {
         "alignmentgroup": "True",
         "bingroup": "x",
         "hovertemplate": "lcc=%{x}<br>count=%{y}<extra></extra>",
         "legendgroup": "1.0",
         "marker": {
          "color": "#636efa",
          "pattern": {
           "shape": ""
          }
         },
         "name": "1.0",
         "offsetgroup": "1.0",
         "orientation": "v",
         "showlegend": true,
         "type": "histogram",
         "x": [
          1,
          1,
          1,
          1,
          1,
          1,
          1
         ],
         "xaxis": "x",
         "yaxis": "y"
        },
        {
         "alignmentgroup": "True",
         "hovertemplate": "lcc=%{x}<extra></extra>",
         "legendgroup": "1.0",
         "marker": {
          "color": "#636efa"
         },
         "name": "1.0",
         "notched": true,
         "offsetgroup": "1.0",
         "showlegend": false,
         "type": "box",
         "x": [
          1,
          1,
          1,
          1,
          1,
          1,
          1
         ],
         "xaxis": "x2",
         "yaxis": "y2"
        },
        {
         "alignmentgroup": "True",
         "bingroup": "x",
         "hovertemplate": "lcc=%{x}<br>count=%{y}<extra></extra>",
         "legendgroup": "0.5083333333333333",
         "marker": {
          "color": "#EF553B",
          "pattern": {
           "shape": ""
          }
         },
         "name": "0.5083333333333333",
         "offsetgroup": "0.5083333333333333",
         "orientation": "v",
         "showlegend": true,
         "type": "histogram",
         "x": [
          0.5083333333333333
         ],
         "xaxis": "x",
         "yaxis": "y"
        },
        {
         "alignmentgroup": "True",
         "hovertemplate": "lcc=%{x}<extra></extra>",
         "legendgroup": "0.5083333333333333",
         "marker": {
          "color": "#EF553B"
         },
         "name": "0.5083333333333333",
         "notched": true,
         "offsetgroup": "0.5083333333333333",
         "showlegend": false,
         "type": "box",
         "x": [
          0.5083333333333333
         ],
         "xaxis": "x2",
         "yaxis": "y2"
        },
        {
         "alignmentgroup": "True",
         "bingroup": "x",
         "hovertemplate": "lcc=%{x}<br>count=%{y}<extra></extra>",
         "legendgroup": "0.22934472934472935",
         "marker": {
          "color": "#00cc96",
          "pattern": {
           "shape": ""
          }
         },
         "name": "0.22934472934472935",
         "offsetgroup": "0.22934472934472935",
         "orientation": "v",
         "showlegend": true,
         "type": "histogram",
         "x": [
          0.22934472934472935
         ],
         "xaxis": "x",
         "yaxis": "y"
        },
        {
         "alignmentgroup": "True",
         "hovertemplate": "lcc=%{x}<extra></extra>",
         "legendgroup": "0.22934472934472935",
         "marker": {
          "color": "#00cc96"
         },
         "name": "0.22934472934472935",
         "notched": true,
         "offsetgroup": "0.22934472934472935",
         "showlegend": false,
         "type": "box",
         "x": [
          0.22934472934472935
         ],
         "xaxis": "x2",
         "yaxis": "y2"
        },
        {
         "alignmentgroup": "True",
         "bingroup": "x",
         "hovertemplate": "lcc=%{x}<br>count=%{y}<extra></extra>",
         "legendgroup": "0.3787878787878788",
         "marker": {
          "color": "#ab63fa",
          "pattern": {
           "shape": ""
          }
         },
         "name": "0.3787878787878788",
         "offsetgroup": "0.3787878787878788",
         "orientation": "v",
         "showlegend": true,
         "type": "histogram",
         "x": [
          0.3787878787878788
         ],
         "xaxis": "x",
         "yaxis": "y"
        },
        {
         "alignmentgroup": "True",
         "hovertemplate": "lcc=%{x}<extra></extra>",
         "legendgroup": "0.3787878787878788",
         "marker": {
          "color": "#ab63fa"
         },
         "name": "0.3787878787878788",
         "notched": true,
         "offsetgroup": "0.3787878787878788",
         "showlegend": false,
         "type": "box",
         "x": [
          0.3787878787878788
         ],
         "xaxis": "x2",
         "yaxis": "y2"
        },
        {
         "alignmentgroup": "True",
         "bingroup": "x",
         "hovertemplate": "lcc=%{x}<br>count=%{y}<extra></extra>",
         "legendgroup": "0.16005291005291006",
         "marker": {
          "color": "#FFA15A",
          "pattern": {
           "shape": ""
          }
         },
         "name": "0.16005291005291006",
         "offsetgroup": "0.16005291005291006",
         "orientation": "v",
         "showlegend": true,
         "type": "histogram",
         "x": [
          0.16005291005291006
         ],
         "xaxis": "x",
         "yaxis": "y"
        },
        {
         "alignmentgroup": "True",
         "hovertemplate": "lcc=%{x}<extra></extra>",
         "legendgroup": "0.16005291005291006",
         "marker": {
          "color": "#FFA15A"
         },
         "name": "0.16005291005291006",
         "notched": true,
         "offsetgroup": "0.16005291005291006",
         "showlegend": false,
         "type": "box",
         "x": [
          0.16005291005291006
         ],
         "xaxis": "x2",
         "yaxis": "y2"
        },
        {
         "alignmentgroup": "True",
         "bingroup": "x",
         "hovertemplate": "lcc=%{x}<br>count=%{y}<extra></extra>",
         "legendgroup": "0.3897058823529412",
         "marker": {
          "color": "#19d3f3",
          "pattern": {
           "shape": ""
          }
         },
         "name": "0.3897058823529412",
         "offsetgroup": "0.3897058823529412",
         "orientation": "v",
         "showlegend": true,
         "type": "histogram",
         "x": [
          0.3897058823529412
         ],
         "xaxis": "x",
         "yaxis": "y"
        },
        {
         "alignmentgroup": "True",
         "hovertemplate": "lcc=%{x}<extra></extra>",
         "legendgroup": "0.3897058823529412",
         "marker": {
          "color": "#19d3f3"
         },
         "name": "0.3897058823529412",
         "notched": true,
         "offsetgroup": "0.3897058823529412",
         "showlegend": false,
         "type": "box",
         "x": [
          0.3897058823529412
         ],
         "xaxis": "x2",
         "yaxis": "y2"
        },
        {
         "alignmentgroup": "True",
         "bingroup": "x",
         "hovertemplate": "lcc=%{x}<br>count=%{y}<extra></extra>",
         "legendgroup": "0.6666666666666666",
         "marker": {
          "color": "#FF6692",
          "pattern": {
           "shape": ""
          }
         },
         "name": "0.6666666666666666",
         "offsetgroup": "0.6666666666666666",
         "orientation": "v",
         "showlegend": true,
         "type": "histogram",
         "x": [
          0.6666666666666666,
          0.6666666666666666,
          0.6666666666666666
         ],
         "xaxis": "x",
         "yaxis": "y"
        },
        {
         "alignmentgroup": "True",
         "hovertemplate": "lcc=%{x}<extra></extra>",
         "legendgroup": "0.6666666666666666",
         "marker": {
          "color": "#FF6692"
         },
         "name": "0.6666666666666666",
         "notched": true,
         "offsetgroup": "0.6666666666666666",
         "showlegend": false,
         "type": "box",
         "x": [
          0.6666666666666666,
          0.6666666666666666,
          0.6666666666666666
         ],
         "xaxis": "x2",
         "yaxis": "y2"
        },
        {
         "alignmentgroup": "True",
         "bingroup": "x",
         "hovertemplate": "lcc=%{x}<br>count=%{y}<extra></extra>",
         "legendgroup": "0.3079710144927536",
         "marker": {
          "color": "#B6E880",
          "pattern": {
           "shape": ""
          }
         },
         "name": "0.3079710144927536",
         "offsetgroup": "0.3079710144927536",
         "orientation": "v",
         "showlegend": true,
         "type": "histogram",
         "x": [
          0.3079710144927536
         ],
         "xaxis": "x",
         "yaxis": "y"
        },
        {
         "alignmentgroup": "True",
         "hovertemplate": "lcc=%{x}<extra></extra>",
         "legendgroup": "0.3079710144927536",
         "marker": {
          "color": "#B6E880"
         },
         "name": "0.3079710144927536",
         "notched": true,
         "offsetgroup": "0.3079710144927536",
         "showlegend": false,
         "type": "box",
         "x": [
          0.3079710144927536
         ],
         "xaxis": "x2",
         "yaxis": "y2"
        },
        {
         "alignmentgroup": "True",
         "bingroup": "x",
         "hovertemplate": "lcc=%{x}<br>count=%{y}<extra></extra>",
         "legendgroup": "0.6111111111111112",
         "marker": {
          "color": "#FF97FF",
          "pattern": {
           "shape": ""
          }
         },
         "name": "0.6111111111111112",
         "offsetgroup": "0.6111111111111112",
         "orientation": "v",
         "showlegend": true,
         "type": "histogram",
         "x": [
          0.6111111111111112,
          0.6111111111111112
         ],
         "xaxis": "x",
         "yaxis": "y"
        },
        {
         "alignmentgroup": "True",
         "hovertemplate": "lcc=%{x}<extra></extra>",
         "legendgroup": "0.6111111111111112",
         "marker": {
          "color": "#FF97FF"
         },
         "name": "0.6111111111111112",
         "notched": true,
         "offsetgroup": "0.6111111111111112",
         "showlegend": false,
         "type": "box",
         "x": [
          0.6111111111111112,
          0.6111111111111112
         ],
         "xaxis": "x2",
         "yaxis": "y2"
        },
        {
         "alignmentgroup": "True",
         "bingroup": "x",
         "hovertemplate": "lcc=%{x}<br>count=%{y}<extra></extra>",
         "legendgroup": "0.1721014492753623",
         "marker": {
          "color": "#FECB52",
          "pattern": {
           "shape": ""
          }
         },
         "name": "0.1721014492753623",
         "offsetgroup": "0.1721014492753623",
         "orientation": "v",
         "showlegend": true,
         "type": "histogram",
         "x": [
          0.1721014492753623
         ],
         "xaxis": "x",
         "yaxis": "y"
        },
        {
         "alignmentgroup": "True",
         "hovertemplate": "lcc=%{x}<extra></extra>",
         "legendgroup": "0.1721014492753623",
         "marker": {
          "color": "#FECB52"
         },
         "name": "0.1721014492753623",
         "notched": true,
         "offsetgroup": "0.1721014492753623",
         "showlegend": false,
         "type": "box",
         "x": [
          0.1721014492753623
         ],
         "xaxis": "x2",
         "yaxis": "y2"
        },
        {
         "alignmentgroup": "True",
         "bingroup": "x",
         "hovertemplate": "lcc=%{x}<br>count=%{y}<extra></extra>",
         "legendgroup": "0.9",
         "marker": {
          "color": "#636efa",
          "pattern": {
           "shape": ""
          }
         },
         "name": "0.9",
         "offsetgroup": "0.9",
         "orientation": "v",
         "showlegend": true,
         "type": "histogram",
         "x": [
          0.9
         ],
         "xaxis": "x",
         "yaxis": "y"
        },
        {
         "alignmentgroup": "True",
         "hovertemplate": "lcc=%{x}<extra></extra>",
         "legendgroup": "0.9",
         "marker": {
          "color": "#636efa"
         },
         "name": "0.9",
         "notched": true,
         "offsetgroup": "0.9",
         "showlegend": false,
         "type": "box",
         "x": [
          0.9
         ],
         "xaxis": "x2",
         "yaxis": "y2"
        },
        {
         "alignmentgroup": "True",
         "bingroup": "x",
         "hovertemplate": "lcc=%{x}<br>count=%{y}<extra></extra>",
         "legendgroup": "0.30514705882352944",
         "marker": {
          "color": "#EF553B",
          "pattern": {
           "shape": ""
          }
         },
         "name": "0.30514705882352944",
         "offsetgroup": "0.30514705882352944",
         "orientation": "v",
         "showlegend": true,
         "type": "histogram",
         "x": [
          0.30514705882352944
         ],
         "xaxis": "x",
         "yaxis": "y"
        },
        {
         "alignmentgroup": "True",
         "hovertemplate": "lcc=%{x}<extra></extra>",
         "legendgroup": "0.30514705882352944",
         "marker": {
          "color": "#EF553B"
         },
         "name": "0.30514705882352944",
         "notched": true,
         "offsetgroup": "0.30514705882352944",
         "showlegend": false,
         "type": "box",
         "x": [
          0.30514705882352944
         ],
         "xaxis": "x2",
         "yaxis": "y2"
        },
        {
         "alignmentgroup": "True",
         "bingroup": "x",
         "hovertemplate": "lcc=%{x}<br>count=%{y}<extra></extra>",
         "legendgroup": "0.19444444444444445",
         "marker": {
          "color": "#00cc96",
          "pattern": {
           "shape": ""
          }
         },
         "name": "0.19444444444444445",
         "offsetgroup": "0.19444444444444445",
         "orientation": "v",
         "showlegend": true,
         "type": "histogram",
         "x": [
          0.19444444444444445
         ],
         "xaxis": "x",
         "yaxis": "y"
        },
        {
         "alignmentgroup": "True",
         "hovertemplate": "lcc=%{x}<extra></extra>",
         "legendgroup": "0.19444444444444445",
         "marker": {
          "color": "#00cc96"
         },
         "name": "0.19444444444444445",
         "notched": true,
         "offsetgroup": "0.19444444444444445",
         "showlegend": false,
         "type": "box",
         "x": [
          0.19444444444444445
         ],
         "xaxis": "x2",
         "yaxis": "y2"
        },
        {
         "alignmentgroup": "True",
         "bingroup": "x",
         "hovertemplate": "lcc=%{x}<br>count=%{y}<extra></extra>",
         "legendgroup": "0.5714285714285714",
         "marker": {
          "color": "#ab63fa",
          "pattern": {
           "shape": ""
          }
         },
         "name": "0.5714285714285714",
         "offsetgroup": "0.5714285714285714",
         "orientation": "v",
         "showlegend": true,
         "type": "histogram",
         "x": [
          0.5714285714285714
         ],
         "xaxis": "x",
         "yaxis": "y"
        },
        {
         "alignmentgroup": "True",
         "hovertemplate": "lcc=%{x}<extra></extra>",
         "legendgroup": "0.5714285714285714",
         "marker": {
          "color": "#ab63fa"
         },
         "name": "0.5714285714285714",
         "notched": true,
         "offsetgroup": "0.5714285714285714",
         "showlegend": false,
         "type": "box",
         "x": [
          0.5714285714285714
         ],
         "xaxis": "x2",
         "yaxis": "y2"
        },
        {
         "alignmentgroup": "True",
         "bingroup": "x",
         "hovertemplate": "lcc=%{x}<br>count=%{y}<extra></extra>",
         "legendgroup": "0.4583333333333333",
         "marker": {
          "color": "#FFA15A",
          "pattern": {
           "shape": ""
          }
         },
         "name": "0.4583333333333333",
         "offsetgroup": "0.4583333333333333",
         "orientation": "v",
         "showlegend": true,
         "type": "histogram",
         "x": [
          0.4583333333333333
         ],
         "xaxis": "x",
         "yaxis": "y"
        },
        {
         "alignmentgroup": "True",
         "hovertemplate": "lcc=%{x}<extra></extra>",
         "legendgroup": "0.4583333333333333",
         "marker": {
          "color": "#FFA15A"
         },
         "name": "0.4583333333333333",
         "notched": true,
         "offsetgroup": "0.4583333333333333",
         "showlegend": false,
         "type": "box",
         "x": [
          0.4583333333333333
         ],
         "xaxis": "x2",
         "yaxis": "y2"
        },
        {
         "alignmentgroup": "True",
         "bingroup": "x",
         "hovertemplate": "lcc=%{x}<br>count=%{y}<extra></extra>",
         "legendgroup": "0.2777777777777778",
         "marker": {
          "color": "#19d3f3",
          "pattern": {
           "shape": ""
          }
         },
         "name": "0.2777777777777778",
         "offsetgroup": "0.2777777777777778",
         "orientation": "v",
         "showlegend": true,
         "type": "histogram",
         "x": [
          0.2777777777777778,
          0.2777777777777778
         ],
         "xaxis": "x",
         "yaxis": "y"
        },
        {
         "alignmentgroup": "True",
         "hovertemplate": "lcc=%{x}<extra></extra>",
         "legendgroup": "0.2777777777777778",
         "marker": {
          "color": "#19d3f3"
         },
         "name": "0.2777777777777778",
         "notched": true,
         "offsetgroup": "0.2777777777777778",
         "showlegend": false,
         "type": "box",
         "x": [
          0.2777777777777778,
          0.2777777777777778
         ],
         "xaxis": "x2",
         "yaxis": "y2"
        },
        {
         "alignmentgroup": "True",
         "bingroup": "x",
         "hovertemplate": "lcc=%{x}<br>count=%{y}<extra></extra>",
         "legendgroup": "0.1868421052631579",
         "marker": {
          "color": "#FF6692",
          "pattern": {
           "shape": ""
          }
         },
         "name": "0.1868421052631579",
         "offsetgroup": "0.1868421052631579",
         "orientation": "v",
         "showlegend": true,
         "type": "histogram",
         "x": [
          0.1868421052631579
         ],
         "xaxis": "x",
         "yaxis": "y"
        },
        {
         "alignmentgroup": "True",
         "hovertemplate": "lcc=%{x}<extra></extra>",
         "legendgroup": "0.1868421052631579",
         "marker": {
          "color": "#FF6692"
         },
         "name": "0.1868421052631579",
         "notched": true,
         "offsetgroup": "0.1868421052631579",
         "showlegend": false,
         "type": "box",
         "x": [
          0.1868421052631579
         ],
         "xaxis": "x2",
         "yaxis": "y2"
        },
        {
         "alignmentgroup": "True",
         "bingroup": "x",
         "hovertemplate": "lcc=%{x}<br>count=%{y}<extra></extra>",
         "legendgroup": "0.315",
         "marker": {
          "color": "#B6E880",
          "pattern": {
           "shape": ""
          }
         },
         "name": "0.315",
         "offsetgroup": "0.315",
         "orientation": "v",
         "showlegend": true,
         "type": "histogram",
         "x": [
          0.315
         ],
         "xaxis": "x",
         "yaxis": "y"
        },
        {
         "alignmentgroup": "True",
         "hovertemplate": "lcc=%{x}<extra></extra>",
         "legendgroup": "0.315",
         "marker": {
          "color": "#B6E880"
         },
         "name": "0.315",
         "notched": true,
         "offsetgroup": "0.315",
         "showlegend": false,
         "type": "box",
         "x": [
          0.315
         ],
         "xaxis": "x2",
         "yaxis": "y2"
        },
        {
         "alignmentgroup": "True",
         "bingroup": "x",
         "hovertemplate": "lcc=%{x}<br>count=%{y}<extra></extra>",
         "legendgroup": "0.22875816993464052",
         "marker": {
          "color": "#FF97FF",
          "pattern": {
           "shape": ""
          }
         },
         "name": "0.22875816993464052",
         "offsetgroup": "0.22875816993464052",
         "orientation": "v",
         "showlegend": true,
         "type": "histogram",
         "x": [
          0.22875816993464052
         ],
         "xaxis": "x",
         "yaxis": "y"
        },
        {
         "alignmentgroup": "True",
         "hovertemplate": "lcc=%{x}<extra></extra>",
         "legendgroup": "0.22875816993464052",
         "marker": {
          "color": "#FF97FF"
         },
         "name": "0.22875816993464052",
         "notched": true,
         "offsetgroup": "0.22875816993464052",
         "showlegend": false,
         "type": "box",
         "x": [
          0.22875816993464052
         ],
         "xaxis": "x2",
         "yaxis": "y2"
        },
        {
         "alignmentgroup": "True",
         "bingroup": "x",
         "hovertemplate": "lcc=%{x}<br>count=%{y}<extra></extra>",
         "legendgroup": "0.18055555555555555",
         "marker": {
          "color": "#FECB52",
          "pattern": {
           "shape": ""
          }
         },
         "name": "0.18055555555555555",
         "offsetgroup": "0.18055555555555555",
         "orientation": "v",
         "showlegend": true,
         "type": "histogram",
         "x": [
          0.18055555555555555
         ],
         "xaxis": "x",
         "yaxis": "y"
        },
        {
         "alignmentgroup": "True",
         "hovertemplate": "lcc=%{x}<extra></extra>",
         "legendgroup": "0.18055555555555555",
         "marker": {
          "color": "#FECB52"
         },
         "name": "0.18055555555555555",
         "notched": true,
         "offsetgroup": "0.18055555555555555",
         "showlegend": false,
         "type": "box",
         "x": [
          0.18055555555555555
         ],
         "xaxis": "x2",
         "yaxis": "y2"
        },
        {
         "alignmentgroup": "True",
         "bingroup": "x",
         "hovertemplate": "lcc=%{x}<br>count=%{y}<extra></extra>",
         "legendgroup": "0.19090909090909092",
         "marker": {
          "color": "#636efa",
          "pattern": {
           "shape": ""
          }
         },
         "name": "0.19090909090909092",
         "offsetgroup": "0.19090909090909092",
         "orientation": "v",
         "showlegend": true,
         "type": "histogram",
         "x": [
          0.19090909090909092
         ],
         "xaxis": "x",
         "yaxis": "y"
        },
        {
         "alignmentgroup": "True",
         "hovertemplate": "lcc=%{x}<extra></extra>",
         "legendgroup": "0.19090909090909092",
         "marker": {
          "color": "#636efa"
         },
         "name": "0.19090909090909092",
         "notched": true,
         "offsetgroup": "0.19090909090909092",
         "showlegend": false,
         "type": "box",
         "x": [
          0.19090909090909092
         ],
         "xaxis": "x2",
         "yaxis": "y2"
        },
        {
         "alignmentgroup": "True",
         "bingroup": "x",
         "hovertemplate": "lcc=%{x}<br>count=%{y}<extra></extra>",
         "legendgroup": "0.45454545454545453",
         "marker": {
          "color": "#EF553B",
          "pattern": {
           "shape": ""
          }
         },
         "name": "0.45454545454545453",
         "offsetgroup": "0.45454545454545453",
         "orientation": "v",
         "showlegend": true,
         "type": "histogram",
         "x": [
          0.45454545454545453
         ],
         "xaxis": "x",
         "yaxis": "y"
        },
        {
         "alignmentgroup": "True",
         "hovertemplate": "lcc=%{x}<extra></extra>",
         "legendgroup": "0.45454545454545453",
         "marker": {
          "color": "#EF553B"
         },
         "name": "0.45454545454545453",
         "notched": true,
         "offsetgroup": "0.45454545454545453",
         "showlegend": false,
         "type": "box",
         "x": [
          0.45454545454545453
         ],
         "xaxis": "x2",
         "yaxis": "y2"
        },
        {
         "alignmentgroup": "True",
         "bingroup": "x",
         "hovertemplate": "lcc=%{x}<br>count=%{y}<extra></extra>",
         "legendgroup": "0.17984189723320157",
         "marker": {
          "color": "#00cc96",
          "pattern": {
           "shape": ""
          }
         },
         "name": "0.17984189723320157",
         "offsetgroup": "0.17984189723320157",
         "orientation": "v",
         "showlegend": true,
         "type": "histogram",
         "x": [
          0.17984189723320157
         ],
         "xaxis": "x",
         "yaxis": "y"
        },
        {
         "alignmentgroup": "True",
         "hovertemplate": "lcc=%{x}<extra></extra>",
         "legendgroup": "0.17984189723320157",
         "marker": {
          "color": "#00cc96"
         },
         "name": "0.17984189723320157",
         "notched": true,
         "offsetgroup": "0.17984189723320157",
         "showlegend": false,
         "type": "box",
         "x": [
          0.17984189723320157
         ],
         "xaxis": "x2",
         "yaxis": "y2"
        },
        {
         "alignmentgroup": "True",
         "bingroup": "x",
         "hovertemplate": "lcc=%{x}<br>count=%{y}<extra></extra>",
         "legendgroup": "0.2966666666666667",
         "marker": {
          "color": "#ab63fa",
          "pattern": {
           "shape": ""
          }
         },
         "name": "0.2966666666666667",
         "offsetgroup": "0.2966666666666667",
         "orientation": "v",
         "showlegend": true,
         "type": "histogram",
         "x": [
          0.2966666666666667,
          0.2966666666666667
         ],
         "xaxis": "x",
         "yaxis": "y"
        },
        {
         "alignmentgroup": "True",
         "hovertemplate": "lcc=%{x}<extra></extra>",
         "legendgroup": "0.2966666666666667",
         "marker": {
          "color": "#ab63fa"
         },
         "name": "0.2966666666666667",
         "notched": true,
         "offsetgroup": "0.2966666666666667",
         "showlegend": false,
         "type": "box",
         "x": [
          0.2966666666666667,
          0.2966666666666667
         ],
         "xaxis": "x2",
         "yaxis": "y2"
        },
        {
         "alignmentgroup": "True",
         "bingroup": "x",
         "hovertemplate": "lcc=%{x}<br>count=%{y}<extra></extra>",
         "legendgroup": "0.4107142857142857",
         "marker": {
          "color": "#FFA15A",
          "pattern": {
           "shape": ""
          }
         },
         "name": "0.4107142857142857",
         "offsetgroup": "0.4107142857142857",
         "orientation": "v",
         "showlegend": true,
         "type": "histogram",
         "x": [
          0.4107142857142857,
          0.4107142857142857
         ],
         "xaxis": "x",
         "yaxis": "y"
        },
        {
         "alignmentgroup": "True",
         "hovertemplate": "lcc=%{x}<extra></extra>",
         "legendgroup": "0.4107142857142857",
         "marker": {
          "color": "#FFA15A"
         },
         "name": "0.4107142857142857",
         "notched": true,
         "offsetgroup": "0.4107142857142857",
         "showlegend": false,
         "type": "box",
         "x": [
          0.4107142857142857,
          0.4107142857142857
         ],
         "xaxis": "x2",
         "yaxis": "y2"
        },
        {
         "alignmentgroup": "True",
         "bingroup": "x",
         "hovertemplate": "lcc=%{x}<br>count=%{y}<extra></extra>",
         "legendgroup": "0.1958128078817734",
         "marker": {
          "color": "#19d3f3",
          "pattern": {
           "shape": ""
          }
         },
         "name": "0.1958128078817734",
         "offsetgroup": "0.1958128078817734",
         "orientation": "v",
         "showlegend": true,
         "type": "histogram",
         "x": [
          0.1958128078817734
         ],
         "xaxis": "x",
         "yaxis": "y"
        },
        {
         "alignmentgroup": "True",
         "hovertemplate": "lcc=%{x}<extra></extra>",
         "legendgroup": "0.1958128078817734",
         "marker": {
          "color": "#19d3f3"
         },
         "name": "0.1958128078817734",
         "notched": true,
         "offsetgroup": "0.1958128078817734",
         "showlegend": false,
         "type": "box",
         "x": [
          0.1958128078817734
         ],
         "xaxis": "x2",
         "yaxis": "y2"
        },
        {
         "alignmentgroup": "True",
         "bingroup": "x",
         "hovertemplate": "lcc=%{x}<br>count=%{y}<extra></extra>",
         "legendgroup": "0.39285714285714285",
         "marker": {
          "color": "#FF6692",
          "pattern": {
           "shape": ""
          }
         },
         "name": "0.39285714285714285",
         "offsetgroup": "0.39285714285714285",
         "orientation": "v",
         "showlegend": true,
         "type": "histogram",
         "x": [
          0.39285714285714285
         ],
         "xaxis": "x",
         "yaxis": "y"
        },
        {
         "alignmentgroup": "True",
         "hovertemplate": "lcc=%{x}<extra></extra>",
         "legendgroup": "0.39285714285714285",
         "marker": {
          "color": "#FF6692"
         },
         "name": "0.39285714285714285",
         "notched": true,
         "offsetgroup": "0.39285714285714285",
         "showlegend": false,
         "type": "box",
         "x": [
          0.39285714285714285
         ],
         "xaxis": "x2",
         "yaxis": "y2"
        },
        {
         "alignmentgroup": "True",
         "bingroup": "x",
         "hovertemplate": "lcc=%{x}<br>count=%{y}<extra></extra>",
         "legendgroup": "0.3492647058823529",
         "marker": {
          "color": "#B6E880",
          "pattern": {
           "shape": ""
          }
         },
         "name": "0.3492647058823529",
         "offsetgroup": "0.3492647058823529",
         "orientation": "v",
         "showlegend": true,
         "type": "histogram",
         "x": [
          0.3492647058823529
         ],
         "xaxis": "x",
         "yaxis": "y"
        },
        {
         "alignmentgroup": "True",
         "hovertemplate": "lcc=%{x}<extra></extra>",
         "legendgroup": "0.3492647058823529",
         "marker": {
          "color": "#B6E880"
         },
         "name": "0.3492647058823529",
         "notched": true,
         "offsetgroup": "0.3492647058823529",
         "showlegend": false,
         "type": "box",
         "x": [
          0.3492647058823529
         ],
         "xaxis": "x2",
         "yaxis": "y2"
        },
        {
         "alignmentgroup": "True",
         "bingroup": "x",
         "hovertemplate": "lcc=%{x}<br>count=%{y}<extra></extra>",
         "legendgroup": "0.24183006535947713",
         "marker": {
          "color": "#FF97FF",
          "pattern": {
           "shape": ""
          }
         },
         "name": "0.24183006535947713",
         "offsetgroup": "0.24183006535947713",
         "orientation": "v",
         "showlegend": true,
         "type": "histogram",
         "x": [
          0.24183006535947713
         ],
         "xaxis": "x",
         "yaxis": "y"
        },
        {
         "alignmentgroup": "True",
         "hovertemplate": "lcc=%{x}<extra></extra>",
         "legendgroup": "0.24183006535947713",
         "marker": {
          "color": "#FF97FF"
         },
         "name": "0.24183006535947713",
         "notched": true,
         "offsetgroup": "0.24183006535947713",
         "showlegend": false,
         "type": "box",
         "x": [
          0.24183006535947713
         ],
         "xaxis": "x2",
         "yaxis": "y2"
        },
        {
         "alignmentgroup": "True",
         "bingroup": "x",
         "hovertemplate": "lcc=%{x}<br>count=%{y}<extra></extra>",
         "legendgroup": "0.19080459770114944",
         "marker": {
          "color": "#FECB52",
          "pattern": {
           "shape": ""
          }
         },
         "name": "0.19080459770114944",
         "offsetgroup": "0.19080459770114944",
         "orientation": "v",
         "showlegend": true,
         "type": "histogram",
         "x": [
          0.19080459770114944
         ],
         "xaxis": "x",
         "yaxis": "y"
        },
        {
         "alignmentgroup": "True",
         "hovertemplate": "lcc=%{x}<extra></extra>",
         "legendgroup": "0.19080459770114944",
         "marker": {
          "color": "#FECB52"
         },
         "name": "0.19080459770114944",
         "notched": true,
         "offsetgroup": "0.19080459770114944",
         "showlegend": false,
         "type": "box",
         "x": [
          0.19080459770114944
         ],
         "xaxis": "x2",
         "yaxis": "y2"
        },
        {
         "alignmentgroup": "True",
         "bingroup": "x",
         "hovertemplate": "lcc=%{x}<br>count=%{y}<extra></extra>",
         "legendgroup": "0.26666666666666666",
         "marker": {
          "color": "#636efa",
          "pattern": {
           "shape": ""
          }
         },
         "name": "0.26666666666666666",
         "offsetgroup": "0.26666666666666666",
         "orientation": "v",
         "showlegend": true,
         "type": "histogram",
         "x": [
          0.26666666666666666
         ],
         "xaxis": "x",
         "yaxis": "y"
        },
        {
         "alignmentgroup": "True",
         "hovertemplate": "lcc=%{x}<extra></extra>",
         "legendgroup": "0.26666666666666666",
         "marker": {
          "color": "#636efa"
         },
         "name": "0.26666666666666666",
         "notched": true,
         "offsetgroup": "0.26666666666666666",
         "showlegend": false,
         "type": "box",
         "x": [
          0.26666666666666666
         ],
         "xaxis": "x2",
         "yaxis": "y2"
        },
        {
         "alignmentgroup": "True",
         "bingroup": "x",
         "hovertemplate": "lcc=%{x}<br>count=%{y}<extra></extra>",
         "legendgroup": "0.22076612903225806",
         "marker": {
          "color": "#EF553B",
          "pattern": {
           "shape": ""
          }
         },
         "name": "0.22076612903225806",
         "offsetgroup": "0.22076612903225806",
         "orientation": "v",
         "showlegend": true,
         "type": "histogram",
         "x": [
          0.22076612903225806
         ],
         "xaxis": "x",
         "yaxis": "y"
        },
        {
         "alignmentgroup": "True",
         "hovertemplate": "lcc=%{x}<extra></extra>",
         "legendgroup": "0.22076612903225806",
         "marker": {
          "color": "#EF553B"
         },
         "name": "0.22076612903225806",
         "notched": true,
         "offsetgroup": "0.22076612903225806",
         "showlegend": false,
         "type": "box",
         "x": [
          0.22076612903225806
         ],
         "xaxis": "x2",
         "yaxis": "y2"
        },
        {
         "alignmentgroup": "True",
         "bingroup": "x",
         "hovertemplate": "lcc=%{x}<br>count=%{y}<extra></extra>",
         "legendgroup": "0.27564102564102566",
         "marker": {
          "color": "#00cc96",
          "pattern": {
           "shape": ""
          }
         },
         "name": "0.27564102564102566",
         "offsetgroup": "0.27564102564102566",
         "orientation": "v",
         "showlegend": true,
         "type": "histogram",
         "x": [
          0.27564102564102566
         ],
         "xaxis": "x",
         "yaxis": "y"
        },
        {
         "alignmentgroup": "True",
         "hovertemplate": "lcc=%{x}<extra></extra>",
         "legendgroup": "0.27564102564102566",
         "marker": {
          "color": "#00cc96"
         },
         "name": "0.27564102564102566",
         "notched": true,
         "offsetgroup": "0.27564102564102566",
         "showlegend": false,
         "type": "box",
         "x": [
          0.27564102564102566
         ],
         "xaxis": "x2",
         "yaxis": "y2"
        },
        {
         "alignmentgroup": "True",
         "bingroup": "x",
         "hovertemplate": "lcc=%{x}<br>count=%{y}<extra></extra>",
         "legendgroup": "0.19642857142857142",
         "marker": {
          "color": "#ab63fa",
          "pattern": {
           "shape": ""
          }
         },
         "name": "0.19642857142857142",
         "offsetgroup": "0.19642857142857142",
         "orientation": "v",
         "showlegend": true,
         "type": "histogram",
         "x": [
          0.19642857142857142
         ],
         "xaxis": "x",
         "yaxis": "y"
        },
        {
         "alignmentgroup": "True",
         "hovertemplate": "lcc=%{x}<extra></extra>",
         "legendgroup": "0.19642857142857142",
         "marker": {
          "color": "#ab63fa"
         },
         "name": "0.19642857142857142",
         "notched": true,
         "offsetgroup": "0.19642857142857142",
         "showlegend": false,
         "type": "box",
         "x": [
          0.19642857142857142
         ],
         "xaxis": "x2",
         "yaxis": "y2"
        },
        {
         "alignmentgroup": "True",
         "bingroup": "x",
         "hovertemplate": "lcc=%{x}<br>count=%{y}<extra></extra>",
         "legendgroup": "0.1539855072463768",
         "marker": {
          "color": "#FFA15A",
          "pattern": {
           "shape": ""
          }
         },
         "name": "0.1539855072463768",
         "offsetgroup": "0.1539855072463768",
         "orientation": "v",
         "showlegend": true,
         "type": "histogram",
         "x": [
          0.1539855072463768
         ],
         "xaxis": "x",
         "yaxis": "y"
        },
        {
         "alignmentgroup": "True",
         "hovertemplate": "lcc=%{x}<extra></extra>",
         "legendgroup": "0.1539855072463768",
         "marker": {
          "color": "#FFA15A"
         },
         "name": "0.1539855072463768",
         "notched": true,
         "offsetgroup": "0.1539855072463768",
         "showlegend": false,
         "type": "box",
         "x": [
          0.1539855072463768
         ],
         "xaxis": "x2",
         "yaxis": "y2"
        },
        {
         "alignmentgroup": "True",
         "bingroup": "x",
         "hovertemplate": "lcc=%{x}<br>count=%{y}<extra></extra>",
         "legendgroup": "0.3194444444444444",
         "marker": {
          "color": "#19d3f3",
          "pattern": {
           "shape": ""
          }
         },
         "name": "0.3194444444444444",
         "offsetgroup": "0.3194444444444444",
         "orientation": "v",
         "showlegend": true,
         "type": "histogram",
         "x": [
          0.3194444444444444
         ],
         "xaxis": "x",
         "yaxis": "y"
        },
        {
         "alignmentgroup": "True",
         "hovertemplate": "lcc=%{x}<extra></extra>",
         "legendgroup": "0.3194444444444444",
         "marker": {
          "color": "#19d3f3"
         },
         "name": "0.3194444444444444",
         "notched": true,
         "offsetgroup": "0.3194444444444444",
         "showlegend": false,
         "type": "box",
         "x": [
          0.3194444444444444
         ],
         "xaxis": "x2",
         "yaxis": "y2"
        },
        {
         "alignmentgroup": "True",
         "bingroup": "x",
         "hovertemplate": "lcc=%{x}<br>count=%{y}<extra></extra>",
         "legendgroup": "0.358974358974359",
         "marker": {
          "color": "#FF6692",
          "pattern": {
           "shape": ""
          }
         },
         "name": "0.358974358974359",
         "offsetgroup": "0.358974358974359",
         "orientation": "v",
         "showlegend": true,
         "type": "histogram",
         "x": [
          0.358974358974359
         ],
         "xaxis": "x",
         "yaxis": "y"
        },
        {
         "alignmentgroup": "True",
         "hovertemplate": "lcc=%{x}<extra></extra>",
         "legendgroup": "0.358974358974359",
         "marker": {
          "color": "#FF6692"
         },
         "name": "0.358974358974359",
         "notched": true,
         "offsetgroup": "0.358974358974359",
         "showlegend": false,
         "type": "box",
         "x": [
          0.358974358974359
         ],
         "xaxis": "x2",
         "yaxis": "y2"
        },
        {
         "alignmentgroup": "True",
         "bingroup": "x",
         "hovertemplate": "lcc=%{x}<br>count=%{y}<extra></extra>",
         "legendgroup": "0.4945054945054945",
         "marker": {
          "color": "#B6E880",
          "pattern": {
           "shape": ""
          }
         },
         "name": "0.4945054945054945",
         "offsetgroup": "0.4945054945054945",
         "orientation": "v",
         "showlegend": true,
         "type": "histogram",
         "x": [
          0.4945054945054945
         ],
         "xaxis": "x",
         "yaxis": "y"
        },
        {
         "alignmentgroup": "True",
         "hovertemplate": "lcc=%{x}<extra></extra>",
         "legendgroup": "0.4945054945054945",
         "marker": {
          "color": "#B6E880"
         },
         "name": "0.4945054945054945",
         "notched": true,
         "offsetgroup": "0.4945054945054945",
         "showlegend": false,
         "type": "box",
         "x": [
          0.4945054945054945
         ],
         "xaxis": "x2",
         "yaxis": "y2"
        },
        {
         "alignmentgroup": "True",
         "bingroup": "x",
         "hovertemplate": "lcc=%{x}<br>count=%{y}<extra></extra>",
         "legendgroup": "0.17647058823529413",
         "marker": {
          "color": "#FF97FF",
          "pattern": {
           "shape": ""
          }
         },
         "name": "0.17647058823529413",
         "offsetgroup": "0.17647058823529413",
         "orientation": "v",
         "showlegend": true,
         "type": "histogram",
         "x": [
          0.17647058823529413
         ],
         "xaxis": "x",
         "yaxis": "y"
        },
        {
         "alignmentgroup": "True",
         "hovertemplate": "lcc=%{x}<extra></extra>",
         "legendgroup": "0.17647058823529413",
         "marker": {
          "color": "#FF97FF"
         },
         "name": "0.17647058823529413",
         "notched": true,
         "offsetgroup": "0.17647058823529413",
         "showlegend": false,
         "type": "box",
         "x": [
          0.17647058823529413
         ],
         "xaxis": "x2",
         "yaxis": "y2"
        },
        {
         "alignmentgroup": "True",
         "bingroup": "x",
         "hovertemplate": "lcc=%{x}<br>count=%{y}<extra></extra>",
         "legendgroup": "0.23333333333333334",
         "marker": {
          "color": "#FECB52",
          "pattern": {
           "shape": ""
          }
         },
         "name": "0.23333333333333334",
         "offsetgroup": "0.23333333333333334",
         "orientation": "v",
         "showlegend": true,
         "type": "histogram",
         "x": [
          0.23333333333333334
         ],
         "xaxis": "x",
         "yaxis": "y"
        },
        {
         "alignmentgroup": "True",
         "hovertemplate": "lcc=%{x}<extra></extra>",
         "legendgroup": "0.23333333333333334",
         "marker": {
          "color": "#FECB52"
         },
         "name": "0.23333333333333334",
         "notched": true,
         "offsetgroup": "0.23333333333333334",
         "showlegend": false,
         "type": "box",
         "x": [
          0.23333333333333334
         ],
         "xaxis": "x2",
         "yaxis": "y2"
        },
        {
         "alignmentgroup": "True",
         "bingroup": "x",
         "hovertemplate": "lcc=%{x}<br>count=%{y}<extra></extra>",
         "legendgroup": "0.3333333333333333",
         "marker": {
          "color": "#636efa",
          "pattern": {
           "shape": ""
          }
         },
         "name": "0.3333333333333333",
         "offsetgroup": "0.3333333333333333",
         "orientation": "v",
         "showlegend": true,
         "type": "histogram",
         "x": [
          0.3333333333333333,
          0.3333333333333333,
          0.3333333333333333,
          0.3333333333333333,
          0.3333333333333333,
          0.3333333333333333,
          0.3333333333333333
         ],
         "xaxis": "x",
         "yaxis": "y"
        },
        {
         "alignmentgroup": "True",
         "hovertemplate": "lcc=%{x}<extra></extra>",
         "legendgroup": "0.3333333333333333",
         "marker": {
          "color": "#636efa"
         },
         "name": "0.3333333333333333",
         "notched": true,
         "offsetgroup": "0.3333333333333333",
         "showlegend": false,
         "type": "box",
         "x": [
          0.3333333333333333,
          0.3333333333333333,
          0.3333333333333333,
          0.3333333333333333,
          0.3333333333333333,
          0.3333333333333333,
          0.3333333333333333
         ],
         "xaxis": "x2",
         "yaxis": "y2"
        },
        {
         "alignmentgroup": "True",
         "bingroup": "x",
         "hovertemplate": "lcc=%{x}<br>count=%{y}<extra></extra>",
         "legendgroup": "0.28431372549019607",
         "marker": {
          "color": "#EF553B",
          "pattern": {
           "shape": ""
          }
         },
         "name": "0.28431372549019607",
         "offsetgroup": "0.28431372549019607",
         "orientation": "v",
         "showlegend": true,
         "type": "histogram",
         "x": [
          0.28431372549019607
         ],
         "xaxis": "x",
         "yaxis": "y"
        },
        {
         "alignmentgroup": "True",
         "hovertemplate": "lcc=%{x}<extra></extra>",
         "legendgroup": "0.28431372549019607",
         "marker": {
          "color": "#EF553B"
         },
         "name": "0.28431372549019607",
         "notched": true,
         "offsetgroup": "0.28431372549019607",
         "showlegend": false,
         "type": "box",
         "x": [
          0.28431372549019607
         ],
         "xaxis": "x2",
         "yaxis": "y2"
        },
        {
         "alignmentgroup": "True",
         "bingroup": "x",
         "hovertemplate": "lcc=%{x}<br>count=%{y}<extra></extra>",
         "legendgroup": "0.4090909090909091",
         "marker": {
          "color": "#00cc96",
          "pattern": {
           "shape": ""
          }
         },
         "name": "0.4090909090909091",
         "offsetgroup": "0.4090909090909091",
         "orientation": "v",
         "showlegend": true,
         "type": "histogram",
         "x": [
          0.4090909090909091
         ],
         "xaxis": "x",
         "yaxis": "y"
        },
        {
         "alignmentgroup": "True",
         "hovertemplate": "lcc=%{x}<extra></extra>",
         "legendgroup": "0.4090909090909091",
         "marker": {
          "color": "#00cc96"
         },
         "name": "0.4090909090909091",
         "notched": true,
         "offsetgroup": "0.4090909090909091",
         "showlegend": false,
         "type": "box",
         "x": [
          0.4090909090909091
         ],
         "xaxis": "x2",
         "yaxis": "y2"
        },
        {
         "alignmentgroup": "True",
         "bingroup": "x",
         "hovertemplate": "lcc=%{x}<br>count=%{y}<extra></extra>",
         "legendgroup": "0.3712121212121212",
         "marker": {
          "color": "#ab63fa",
          "pattern": {
           "shape": ""
          }
         },
         "name": "0.3712121212121212",
         "offsetgroup": "0.3712121212121212",
         "orientation": "v",
         "showlegend": true,
         "type": "histogram",
         "x": [
          0.3712121212121212
         ],
         "xaxis": "x",
         "yaxis": "y"
        },
        {
         "alignmentgroup": "True",
         "hovertemplate": "lcc=%{x}<extra></extra>",
         "legendgroup": "0.3712121212121212",
         "marker": {
          "color": "#ab63fa"
         },
         "name": "0.3712121212121212",
         "notched": true,
         "offsetgroup": "0.3712121212121212",
         "showlegend": false,
         "type": "box",
         "x": [
          0.3712121212121212
         ],
         "xaxis": "x2",
         "yaxis": "y2"
        },
        {
         "alignmentgroup": "True",
         "bingroup": "x",
         "hovertemplate": "lcc=%{x}<br>count=%{y}<extra></extra>",
         "legendgroup": "0.23692307692307693",
         "marker": {
          "color": "#FFA15A",
          "pattern": {
           "shape": ""
          }
         },
         "name": "0.23692307692307693",
         "offsetgroup": "0.23692307692307693",
         "orientation": "v",
         "showlegend": true,
         "type": "histogram",
         "x": [
          0.23692307692307693
         ],
         "xaxis": "x",
         "yaxis": "y"
        },
        {
         "alignmentgroup": "True",
         "hovertemplate": "lcc=%{x}<extra></extra>",
         "legendgroup": "0.23692307692307693",
         "marker": {
          "color": "#FFA15A"
         },
         "name": "0.23692307692307693",
         "notched": true,
         "offsetgroup": "0.23692307692307693",
         "showlegend": false,
         "type": "box",
         "x": [
          0.23692307692307693
         ],
         "xaxis": "x2",
         "yaxis": "y2"
        },
        {
         "alignmentgroup": "True",
         "bingroup": "x",
         "hovertemplate": "lcc=%{x}<br>count=%{y}<extra></extra>",
         "legendgroup": "0.22660098522167488",
         "marker": {
          "color": "#19d3f3",
          "pattern": {
           "shape": ""
          }
         },
         "name": "0.22660098522167488",
         "offsetgroup": "0.22660098522167488",
         "orientation": "v",
         "showlegend": true,
         "type": "histogram",
         "x": [
          0.22660098522167488
         ],
         "xaxis": "x",
         "yaxis": "y"
        },
        {
         "alignmentgroup": "True",
         "hovertemplate": "lcc=%{x}<extra></extra>",
         "legendgroup": "0.22660098522167488",
         "marker": {
          "color": "#19d3f3"
         },
         "name": "0.22660098522167488",
         "notched": true,
         "offsetgroup": "0.22660098522167488",
         "showlegend": false,
         "type": "box",
         "x": [
          0.22660098522167488
         ],
         "xaxis": "x2",
         "yaxis": "y2"
        },
        {
         "alignmentgroup": "True",
         "bingroup": "x",
         "hovertemplate": "lcc=%{x}<br>count=%{y}<extra></extra>",
         "legendgroup": "0.170995670995671",
         "marker": {
          "color": "#FF6692",
          "pattern": {
           "shape": ""
          }
         },
         "name": "0.170995670995671",
         "offsetgroup": "0.170995670995671",
         "orientation": "v",
         "showlegend": true,
         "type": "histogram",
         "x": [
          0.170995670995671
         ],
         "xaxis": "x",
         "yaxis": "y"
        },
        {
         "alignmentgroup": "True",
         "hovertemplate": "lcc=%{x}<extra></extra>",
         "legendgroup": "0.170995670995671",
         "marker": {
          "color": "#FF6692"
         },
         "name": "0.170995670995671",
         "notched": true,
         "offsetgroup": "0.170995670995671",
         "showlegend": false,
         "type": "box",
         "x": [
          0.170995670995671
         ],
         "xaxis": "x2",
         "yaxis": "y2"
        },
        {
         "alignmentgroup": "True",
         "bingroup": "x",
         "hovertemplate": "lcc=%{x}<br>count=%{y}<extra></extra>",
         "legendgroup": "0.26900584795321636",
         "marker": {
          "color": "#B6E880",
          "pattern": {
           "shape": ""
          }
         },
         "name": "0.26900584795321636",
         "offsetgroup": "0.26900584795321636",
         "orientation": "v",
         "showlegend": true,
         "type": "histogram",
         "x": [
          0.26900584795321636
         ],
         "xaxis": "x",
         "yaxis": "y"
        },
        {
         "alignmentgroup": "True",
         "hovertemplate": "lcc=%{x}<extra></extra>",
         "legendgroup": "0.26900584795321636",
         "marker": {
          "color": "#B6E880"
         },
         "name": "0.26900584795321636",
         "notched": true,
         "offsetgroup": "0.26900584795321636",
         "showlegend": false,
         "type": "box",
         "x": [
          0.26900584795321636
         ],
         "xaxis": "x2",
         "yaxis": "y2"
        },
        {
         "alignmentgroup": "True",
         "bingroup": "x",
         "hovertemplate": "lcc=%{x}<br>count=%{y}<extra></extra>",
         "legendgroup": "0.25076923076923074",
         "marker": {
          "color": "#FF97FF",
          "pattern": {
           "shape": ""
          }
         },
         "name": "0.25076923076923074",
         "offsetgroup": "0.25076923076923074",
         "orientation": "v",
         "showlegend": true,
         "type": "histogram",
         "x": [
          0.25076923076923074
         ],
         "xaxis": "x",
         "yaxis": "y"
        },
        {
         "alignmentgroup": "True",
         "hovertemplate": "lcc=%{x}<extra></extra>",
         "legendgroup": "0.25076923076923074",
         "marker": {
          "color": "#FF97FF"
         },
         "name": "0.25076923076923074",
         "notched": true,
         "offsetgroup": "0.25076923076923074",
         "showlegend": false,
         "type": "box",
         "x": [
          0.25076923076923074
         ],
         "xaxis": "x2",
         "yaxis": "y2"
        },
        {
         "alignmentgroup": "True",
         "bingroup": "x",
         "hovertemplate": "lcc=%{x}<br>count=%{y}<extra></extra>",
         "legendgroup": "0.7",
         "marker": {
          "color": "#FECB52",
          "pattern": {
           "shape": ""
          }
         },
         "name": "0.7",
         "offsetgroup": "0.7",
         "orientation": "v",
         "showlegend": true,
         "type": "histogram",
         "x": [
          0.7,
          0.7
         ],
         "xaxis": "x",
         "yaxis": "y"
        },
        {
         "alignmentgroup": "True",
         "hovertemplate": "lcc=%{x}<extra></extra>",
         "legendgroup": "0.7",
         "marker": {
          "color": "#FECB52"
         },
         "name": "0.7",
         "notched": true,
         "offsetgroup": "0.7",
         "showlegend": false,
         "type": "box",
         "x": [
          0.7,
          0.7
         ],
         "xaxis": "x2",
         "yaxis": "y2"
        },
        {
         "alignmentgroup": "True",
         "bingroup": "x",
         "hovertemplate": "lcc=%{x}<br>count=%{y}<extra></extra>",
         "legendgroup": "0.14942528735632185",
         "marker": {
          "color": "#636efa",
          "pattern": {
           "shape": ""
          }
         },
         "name": "0.14942528735632185",
         "offsetgroup": "0.14942528735632185",
         "orientation": "v",
         "showlegend": true,
         "type": "histogram",
         "x": [
          0.14942528735632185
         ],
         "xaxis": "x",
         "yaxis": "y"
        },
        {
         "alignmentgroup": "True",
         "hovertemplate": "lcc=%{x}<extra></extra>",
         "legendgroup": "0.14942528735632185",
         "marker": {
          "color": "#636efa"
         },
         "name": "0.14942528735632185",
         "notched": true,
         "offsetgroup": "0.14942528735632185",
         "showlegend": false,
         "type": "box",
         "x": [
          0.14942528735632185
         ],
         "xaxis": "x2",
         "yaxis": "y2"
        },
        {
         "alignmentgroup": "True",
         "bingroup": "x",
         "hovertemplate": "lcc=%{x}<br>count=%{y}<extra></extra>",
         "legendgroup": "0.25",
         "marker": {
          "color": "#EF553B",
          "pattern": {
           "shape": ""
          }
         },
         "name": "0.25",
         "offsetgroup": "0.25",
         "orientation": "v",
         "showlegend": true,
         "type": "histogram",
         "x": [
          0.25
         ],
         "xaxis": "x",
         "yaxis": "y"
        },
        {
         "alignmentgroup": "True",
         "hovertemplate": "lcc=%{x}<extra></extra>",
         "legendgroup": "0.25",
         "marker": {
          "color": "#EF553B"
         },
         "name": "0.25",
         "notched": true,
         "offsetgroup": "0.25",
         "showlegend": false,
         "type": "box",
         "x": [
          0.25
         ],
         "xaxis": "x2",
         "yaxis": "y2"
        },
        {
         "alignmentgroup": "True",
         "bingroup": "x",
         "hovertemplate": "lcc=%{x}<br>count=%{y}<extra></extra>",
         "legendgroup": "0.3713768115942029",
         "marker": {
          "color": "#00cc96",
          "pattern": {
           "shape": ""
          }
         },
         "name": "0.3713768115942029",
         "offsetgroup": "0.3713768115942029",
         "orientation": "v",
         "showlegend": true,
         "type": "histogram",
         "x": [
          0.3713768115942029
         ],
         "xaxis": "x",
         "yaxis": "y"
        },
        {
         "alignmentgroup": "True",
         "hovertemplate": "lcc=%{x}<extra></extra>",
         "legendgroup": "0.3713768115942029",
         "marker": {
          "color": "#00cc96"
         },
         "name": "0.3713768115942029",
         "notched": true,
         "offsetgroup": "0.3713768115942029",
         "showlegend": false,
         "type": "box",
         "x": [
          0.3713768115942029
         ],
         "xaxis": "x2",
         "yaxis": "y2"
        },
        {
         "alignmentgroup": "True",
         "bingroup": "x",
         "hovertemplate": "lcc=%{x}<br>count=%{y}<extra></extra>",
         "legendgroup": "0.21153846153846154",
         "marker": {
          "color": "#ab63fa",
          "pattern": {
           "shape": ""
          }
         },
         "name": "0.21153846153846154",
         "offsetgroup": "0.21153846153846154",
         "orientation": "v",
         "showlegend": true,
         "type": "histogram",
         "x": [
          0.21153846153846154
         ],
         "xaxis": "x",
         "yaxis": "y"
        },
        {
         "alignmentgroup": "True",
         "hovertemplate": "lcc=%{x}<extra></extra>",
         "legendgroup": "0.21153846153846154",
         "marker": {
          "color": "#ab63fa"
         },
         "name": "0.21153846153846154",
         "notched": true,
         "offsetgroup": "0.21153846153846154",
         "showlegend": false,
         "type": "box",
         "x": [
          0.21153846153846154
         ],
         "xaxis": "x2",
         "yaxis": "y2"
        },
        {
         "alignmentgroup": "True",
         "bingroup": "x",
         "hovertemplate": "lcc=%{x}<br>count=%{y}<extra></extra>",
         "legendgroup": "0.2561576354679803",
         "marker": {
          "color": "#FFA15A",
          "pattern": {
           "shape": ""
          }
         },
         "name": "0.2561576354679803",
         "offsetgroup": "0.2561576354679803",
         "orientation": "v",
         "showlegend": true,
         "type": "histogram",
         "x": [
          0.2561576354679803
         ],
         "xaxis": "x",
         "yaxis": "y"
        },
        {
         "alignmentgroup": "True",
         "hovertemplate": "lcc=%{x}<extra></extra>",
         "legendgroup": "0.2561576354679803",
         "marker": {
          "color": "#FFA15A"
         },
         "name": "0.2561576354679803",
         "notched": true,
         "offsetgroup": "0.2561576354679803",
         "showlegend": false,
         "type": "box",
         "x": [
          0.2561576354679803
         ],
         "xaxis": "x2",
         "yaxis": "y2"
        },
        {
         "alignmentgroup": "True",
         "bingroup": "x",
         "hovertemplate": "lcc=%{x}<br>count=%{y}<extra></extra>",
         "legendgroup": "0.3241758241758242",
         "marker": {
          "color": "#19d3f3",
          "pattern": {
           "shape": ""
          }
         },
         "name": "0.3241758241758242",
         "offsetgroup": "0.3241758241758242",
         "orientation": "v",
         "showlegend": true,
         "type": "histogram",
         "x": [
          0.3241758241758242
         ],
         "xaxis": "x",
         "yaxis": "y"
        },
        {
         "alignmentgroup": "True",
         "hovertemplate": "lcc=%{x}<extra></extra>",
         "legendgroup": "0.3241758241758242",
         "marker": {
          "color": "#19d3f3"
         },
         "name": "0.3241758241758242",
         "notched": true,
         "offsetgroup": "0.3241758241758242",
         "showlegend": false,
         "type": "box",
         "x": [
          0.3241758241758242
         ],
         "xaxis": "x2",
         "yaxis": "y2"
        },
        {
         "alignmentgroup": "True",
         "bingroup": "x",
         "hovertemplate": "lcc=%{x}<br>count=%{y}<extra></extra>",
         "legendgroup": "0.45555555555555555",
         "marker": {
          "color": "#FF6692",
          "pattern": {
           "shape": ""
          }
         },
         "name": "0.45555555555555555",
         "offsetgroup": "0.45555555555555555",
         "orientation": "v",
         "showlegend": true,
         "type": "histogram",
         "x": [
          0.45555555555555555
         ],
         "xaxis": "x",
         "yaxis": "y"
        },
        {
         "alignmentgroup": "True",
         "hovertemplate": "lcc=%{x}<extra></extra>",
         "legendgroup": "0.45555555555555555",
         "marker": {
          "color": "#FF6692"
         },
         "name": "0.45555555555555555",
         "notched": true,
         "offsetgroup": "0.45555555555555555",
         "showlegend": false,
         "type": "box",
         "x": [
          0.45555555555555555
         ],
         "xaxis": "x2",
         "yaxis": "y2"
        },
        {
         "alignmentgroup": "True",
         "bingroup": "x",
         "hovertemplate": "lcc=%{x}<br>count=%{y}<extra></extra>",
         "legendgroup": "0.21323529411764705",
         "marker": {
          "color": "#B6E880",
          "pattern": {
           "shape": ""
          }
         },
         "name": "0.21323529411764705",
         "offsetgroup": "0.21323529411764705",
         "orientation": "v",
         "showlegend": true,
         "type": "histogram",
         "x": [
          0.21323529411764705
         ],
         "xaxis": "x",
         "yaxis": "y"
        },
        {
         "alignmentgroup": "True",
         "hovertemplate": "lcc=%{x}<extra></extra>",
         "legendgroup": "0.21323529411764705",
         "marker": {
          "color": "#B6E880"
         },
         "name": "0.21323529411764705",
         "notched": true,
         "offsetgroup": "0.21323529411764705",
         "showlegend": false,
         "type": "box",
         "x": [
          0.21323529411764705
         ],
         "xaxis": "x2",
         "yaxis": "y2"
        },
        {
         "alignmentgroup": "True",
         "bingroup": "x",
         "hovertemplate": "lcc=%{x}<br>count=%{y}<extra></extra>",
         "legendgroup": "0.20897435897435898",
         "marker": {
          "color": "#FF97FF",
          "pattern": {
           "shape": ""
          }
         },
         "name": "0.20897435897435898",
         "offsetgroup": "0.20897435897435898",
         "orientation": "v",
         "showlegend": true,
         "type": "histogram",
         "x": [
          0.20897435897435898
         ],
         "xaxis": "x",
         "yaxis": "y"
        },
        {
         "alignmentgroup": "True",
         "hovertemplate": "lcc=%{x}<extra></extra>",
         "legendgroup": "0.20897435897435898",
         "marker": {
          "color": "#FF97FF"
         },
         "name": "0.20897435897435898",
         "notched": true,
         "offsetgroup": "0.20897435897435898",
         "showlegend": false,
         "type": "box",
         "x": [
          0.20897435897435898
         ],
         "xaxis": "x2",
         "yaxis": "y2"
        },
        {
         "alignmentgroup": "True",
         "bingroup": "x",
         "hovertemplate": "lcc=%{x}<br>count=%{y}<extra></extra>",
         "legendgroup": "0.22727272727272727",
         "marker": {
          "color": "#FECB52",
          "pattern": {
           "shape": ""
          }
         },
         "name": "0.22727272727272727",
         "offsetgroup": "0.22727272727272727",
         "orientation": "v",
         "showlegend": true,
         "type": "histogram",
         "x": [
          0.22727272727272727
         ],
         "xaxis": "x",
         "yaxis": "y"
        },
        {
         "alignmentgroup": "True",
         "hovertemplate": "lcc=%{x}<extra></extra>",
         "legendgroup": "0.22727272727272727",
         "marker": {
          "color": "#FECB52"
         },
         "name": "0.22727272727272727",
         "notched": true,
         "offsetgroup": "0.22727272727272727",
         "showlegend": false,
         "type": "box",
         "x": [
          0.22727272727272727
         ],
         "xaxis": "x2",
         "yaxis": "y2"
        },
        {
         "alignmentgroup": "True",
         "bingroup": "x",
         "hovertemplate": "lcc=%{x}<br>count=%{y}<extra></extra>",
         "legendgroup": "0.38461538461538464",
         "marker": {
          "color": "#636efa",
          "pattern": {
           "shape": ""
          }
         },
         "name": "0.38461538461538464",
         "offsetgroup": "0.38461538461538464",
         "orientation": "v",
         "showlegend": true,
         "type": "histogram",
         "x": [
          0.38461538461538464
         ],
         "xaxis": "x",
         "yaxis": "y"
        },
        {
         "alignmentgroup": "True",
         "hovertemplate": "lcc=%{x}<extra></extra>",
         "legendgroup": "0.38461538461538464",
         "marker": {
          "color": "#636efa"
         },
         "name": "0.38461538461538464",
         "notched": true,
         "offsetgroup": "0.38461538461538464",
         "showlegend": false,
         "type": "box",
         "x": [
          0.38461538461538464
         ],
         "xaxis": "x2",
         "yaxis": "y2"
        },
        {
         "alignmentgroup": "True",
         "bingroup": "x",
         "hovertemplate": "lcc=%{x}<br>count=%{y}<extra></extra>",
         "legendgroup": "0.4621212121212121",
         "marker": {
          "color": "#EF553B",
          "pattern": {
           "shape": ""
          }
         },
         "name": "0.4621212121212121",
         "offsetgroup": "0.4621212121212121",
         "orientation": "v",
         "showlegend": true,
         "type": "histogram",
         "x": [
          0.4621212121212121
         ],
         "xaxis": "x",
         "yaxis": "y"
        },
        {
         "alignmentgroup": "True",
         "hovertemplate": "lcc=%{x}<extra></extra>",
         "legendgroup": "0.4621212121212121",
         "marker": {
          "color": "#EF553B"
         },
         "name": "0.4621212121212121",
         "notched": true,
         "offsetgroup": "0.4621212121212121",
         "showlegend": false,
         "type": "box",
         "x": [
          0.4621212121212121
         ],
         "xaxis": "x2",
         "yaxis": "y2"
        },
        {
         "alignmentgroup": "True",
         "bingroup": "x",
         "hovertemplate": "lcc=%{x}<br>count=%{y}<extra></extra>",
         "legendgroup": "0.2564102564102564",
         "marker": {
          "color": "#00cc96",
          "pattern": {
           "shape": ""
          }
         },
         "name": "0.2564102564102564",
         "offsetgroup": "0.2564102564102564",
         "orientation": "v",
         "showlegend": true,
         "type": "histogram",
         "x": [
          0.2564102564102564
         ],
         "xaxis": "x",
         "yaxis": "y"
        },
        {
         "alignmentgroup": "True",
         "hovertemplate": "lcc=%{x}<extra></extra>",
         "legendgroup": "0.2564102564102564",
         "marker": {
          "color": "#00cc96"
         },
         "name": "0.2564102564102564",
         "notched": true,
         "offsetgroup": "0.2564102564102564",
         "showlegend": false,
         "type": "box",
         "x": [
          0.2564102564102564
         ],
         "xaxis": "x2",
         "yaxis": "y2"
        },
        {
         "alignmentgroup": "True",
         "bingroup": "x",
         "hovertemplate": "lcc=%{x}<br>count=%{y}<extra></extra>",
         "legendgroup": "0.4222222222222222",
         "marker": {
          "color": "#ab63fa",
          "pattern": {
           "shape": ""
          }
         },
         "name": "0.4222222222222222",
         "offsetgroup": "0.4222222222222222",
         "orientation": "v",
         "showlegend": true,
         "type": "histogram",
         "x": [
          0.4222222222222222,
          0.4222222222222222
         ],
         "xaxis": "x",
         "yaxis": "y"
        },
        {
         "alignmentgroup": "True",
         "hovertemplate": "lcc=%{x}<extra></extra>",
         "legendgroup": "0.4222222222222222",
         "marker": {
          "color": "#ab63fa"
         },
         "name": "0.4222222222222222",
         "notched": true,
         "offsetgroup": "0.4222222222222222",
         "showlegend": false,
         "type": "box",
         "x": [
          0.4222222222222222,
          0.4222222222222222
         ],
         "xaxis": "x2",
         "yaxis": "y2"
        },
        {
         "alignmentgroup": "True",
         "bingroup": "x",
         "hovertemplate": "lcc=%{x}<br>count=%{y}<extra></extra>",
         "legendgroup": "0.08333333333333333",
         "marker": {
          "color": "#FFA15A",
          "pattern": {
           "shape": ""
          }
         },
         "name": "0.08333333333333333",
         "offsetgroup": "0.08333333333333333",
         "orientation": "v",
         "showlegend": true,
         "type": "histogram",
         "x": [
          0.08333333333333333,
          0.08333333333333333
         ],
         "xaxis": "x",
         "yaxis": "y"
        },
        {
         "alignmentgroup": "True",
         "hovertemplate": "lcc=%{x}<extra></extra>",
         "legendgroup": "0.08333333333333333",
         "marker": {
          "color": "#FFA15A"
         },
         "name": "0.08333333333333333",
         "notched": true,
         "offsetgroup": "0.08333333333333333",
         "showlegend": false,
         "type": "box",
         "x": [
          0.08333333333333333,
          0.08333333333333333
         ],
         "xaxis": "x2",
         "yaxis": "y2"
        },
        {
         "alignmentgroup": "True",
         "bingroup": "x",
         "hovertemplate": "lcc=%{x}<br>count=%{y}<extra></extra>",
         "legendgroup": "0.2361111111111111",
         "marker": {
          "color": "#19d3f3",
          "pattern": {
           "shape": ""
          }
         },
         "name": "0.2361111111111111",
         "offsetgroup": "0.2361111111111111",
         "orientation": "v",
         "showlegend": true,
         "type": "histogram",
         "x": [
          0.2361111111111111
         ],
         "xaxis": "x",
         "yaxis": "y"
        },
        {
         "alignmentgroup": "True",
         "hovertemplate": "lcc=%{x}<extra></extra>",
         "legendgroup": "0.2361111111111111",
         "marker": {
          "color": "#19d3f3"
         },
         "name": "0.2361111111111111",
         "notched": true,
         "offsetgroup": "0.2361111111111111",
         "showlegend": false,
         "type": "box",
         "x": [
          0.2361111111111111
         ],
         "xaxis": "x2",
         "yaxis": "y2"
        },
        {
         "alignmentgroup": "True",
         "bingroup": "x",
         "hovertemplate": "lcc=%{x}<br>count=%{y}<extra></extra>",
         "legendgroup": "0.4",
         "marker": {
          "color": "#FF6692",
          "pattern": {
           "shape": ""
          }
         },
         "name": "0.4",
         "offsetgroup": "0.4",
         "orientation": "v",
         "showlegend": true,
         "type": "histogram",
         "x": [
          0.4,
          0.4,
          0.4,
          0.4
         ],
         "xaxis": "x",
         "yaxis": "y"
        },
        {
         "alignmentgroup": "True",
         "hovertemplate": "lcc=%{x}<extra></extra>",
         "legendgroup": "0.4",
         "marker": {
          "color": "#FF6692"
         },
         "name": "0.4",
         "notched": true,
         "offsetgroup": "0.4",
         "showlegend": false,
         "type": "box",
         "x": [
          0.4,
          0.4,
          0.4,
          0.4
         ],
         "xaxis": "x2",
         "yaxis": "y2"
        },
        {
         "alignmentgroup": "True",
         "bingroup": "x",
         "hovertemplate": "lcc=%{x}<br>count=%{y}<extra></extra>",
         "legendgroup": "0.23214285714285715",
         "marker": {
          "color": "#B6E880",
          "pattern": {
           "shape": ""
          }
         },
         "name": "0.23214285714285715",
         "offsetgroup": "0.23214285714285715",
         "orientation": "v",
         "showlegend": true,
         "type": "histogram",
         "x": [
          0.23214285714285715
         ],
         "xaxis": "x",
         "yaxis": "y"
        },
        {
         "alignmentgroup": "True",
         "hovertemplate": "lcc=%{x}<extra></extra>",
         "legendgroup": "0.23214285714285715",
         "marker": {
          "color": "#B6E880"
         },
         "name": "0.23214285714285715",
         "notched": true,
         "offsetgroup": "0.23214285714285715",
         "showlegend": false,
         "type": "box",
         "x": [
          0.23214285714285715
         ],
         "xaxis": "x2",
         "yaxis": "y2"
        },
        {
         "alignmentgroup": "True",
         "bingroup": "x",
         "hovertemplate": "lcc=%{x}<br>count=%{y}<extra></extra>",
         "legendgroup": "0.3458498023715415",
         "marker": {
          "color": "#FF97FF",
          "pattern": {
           "shape": ""
          }
         },
         "name": "0.3458498023715415",
         "offsetgroup": "0.3458498023715415",
         "orientation": "v",
         "showlegend": true,
         "type": "histogram",
         "x": [
          0.3458498023715415
         ],
         "xaxis": "x",
         "yaxis": "y"
        },
        {
         "alignmentgroup": "True",
         "hovertemplate": "lcc=%{x}<extra></extra>",
         "legendgroup": "0.3458498023715415",
         "marker": {
          "color": "#FF97FF"
         },
         "name": "0.3458498023715415",
         "notched": true,
         "offsetgroup": "0.3458498023715415",
         "showlegend": false,
         "type": "box",
         "x": [
          0.3458498023715415
         ],
         "xaxis": "x2",
         "yaxis": "y2"
        },
        {
         "alignmentgroup": "True",
         "bingroup": "x",
         "hovertemplate": "lcc=%{x}<br>count=%{y}<extra></extra>",
         "legendgroup": "0.195906432748538",
         "marker": {
          "color": "#FECB52",
          "pattern": {
           "shape": ""
          }
         },
         "name": "0.195906432748538",
         "offsetgroup": "0.195906432748538",
         "orientation": "v",
         "showlegend": true,
         "type": "histogram",
         "x": [
          0.195906432748538
         ],
         "xaxis": "x",
         "yaxis": "y"
        },
        {
         "alignmentgroup": "True",
         "hovertemplate": "lcc=%{x}<extra></extra>",
         "legendgroup": "0.195906432748538",
         "marker": {
          "color": "#FECB52"
         },
         "name": "0.195906432748538",
         "notched": true,
         "offsetgroup": "0.195906432748538",
         "showlegend": false,
         "type": "box",
         "x": [
          0.195906432748538
         ],
         "xaxis": "x2",
         "yaxis": "y2"
        },
        {
         "alignmentgroup": "True",
         "bingroup": "x",
         "hovertemplate": "lcc=%{x}<br>count=%{y}<extra></extra>",
         "legendgroup": "0.7142857142857143",
         "marker": {
          "color": "#636efa",
          "pattern": {
           "shape": ""
          }
         },
         "name": "0.7142857142857143",
         "offsetgroup": "0.7142857142857143",
         "orientation": "v",
         "showlegend": true,
         "type": "histogram",
         "x": [
          0.7142857142857143
         ],
         "xaxis": "x",
         "yaxis": "y"
        },
        {
         "alignmentgroup": "True",
         "hovertemplate": "lcc=%{x}<extra></extra>",
         "legendgroup": "0.7142857142857143",
         "marker": {
          "color": "#636efa"
         },
         "name": "0.7142857142857143",
         "notched": true,
         "offsetgroup": "0.7142857142857143",
         "showlegend": false,
         "type": "box",
         "x": [
          0.7142857142857143
         ],
         "xaxis": "x2",
         "yaxis": "y2"
        },
        {
         "alignmentgroup": "True",
         "bingroup": "x",
         "hovertemplate": "lcc=%{x}<br>count=%{y}<extra></extra>",
         "legendgroup": "0.19852941176470587",
         "marker": {
          "color": "#EF553B",
          "pattern": {
           "shape": ""
          }
         },
         "name": "0.19852941176470587",
         "offsetgroup": "0.19852941176470587",
         "orientation": "v",
         "showlegend": true,
         "type": "histogram",
         "x": [
          0.19852941176470587
         ],
         "xaxis": "x",
         "yaxis": "y"
        },
        {
         "alignmentgroup": "True",
         "hovertemplate": "lcc=%{x}<extra></extra>",
         "legendgroup": "0.19852941176470587",
         "marker": {
          "color": "#EF553B"
         },
         "name": "0.19852941176470587",
         "notched": true,
         "offsetgroup": "0.19852941176470587",
         "showlegend": false,
         "type": "box",
         "x": [
          0.19852941176470587
         ],
         "xaxis": "x2",
         "yaxis": "y2"
        },
        {
         "alignmentgroup": "True",
         "bingroup": "x",
         "hovertemplate": "lcc=%{x}<br>count=%{y}<extra></extra>",
         "legendgroup": "0.35",
         "marker": {
          "color": "#00cc96",
          "pattern": {
           "shape": ""
          }
         },
         "name": "0.35",
         "offsetgroup": "0.35",
         "orientation": "v",
         "showlegend": true,
         "type": "histogram",
         "x": [
          0.35,
          0.35
         ],
         "xaxis": "x",
         "yaxis": "y"
        },
        {
         "alignmentgroup": "True",
         "hovertemplate": "lcc=%{x}<extra></extra>",
         "legendgroup": "0.35",
         "marker": {
          "color": "#00cc96"
         },
         "name": "0.35",
         "notched": true,
         "offsetgroup": "0.35",
         "showlegend": false,
         "type": "box",
         "x": [
          0.35,
          0.35
         ],
         "xaxis": "x2",
         "yaxis": "y2"
        },
        {
         "alignmentgroup": "True",
         "bingroup": "x",
         "hovertemplate": "lcc=%{x}<br>count=%{y}<extra></extra>",
         "legendgroup": "0.36666666666666664",
         "marker": {
          "color": "#ab63fa",
          "pattern": {
           "shape": ""
          }
         },
         "name": "0.36666666666666664",
         "offsetgroup": "0.36666666666666664",
         "orientation": "v",
         "showlegend": true,
         "type": "histogram",
         "x": [
          0.36666666666666664,
          0.36666666666666664
         ],
         "xaxis": "x",
         "yaxis": "y"
        },
        {
         "alignmentgroup": "True",
         "hovertemplate": "lcc=%{x}<extra></extra>",
         "legendgroup": "0.36666666666666664",
         "marker": {
          "color": "#ab63fa"
         },
         "name": "0.36666666666666664",
         "notched": true,
         "offsetgroup": "0.36666666666666664",
         "showlegend": false,
         "type": "box",
         "x": [
          0.36666666666666664,
          0.36666666666666664
         ],
         "xaxis": "x2",
         "yaxis": "y2"
        },
        {
         "alignmentgroup": "True",
         "bingroup": "x",
         "hovertemplate": "lcc=%{x}<br>count=%{y}<extra></extra>",
         "legendgroup": "0.65",
         "marker": {
          "color": "#FFA15A",
          "pattern": {
           "shape": ""
          }
         },
         "name": "0.65",
         "offsetgroup": "0.65",
         "orientation": "v",
         "showlegend": true,
         "type": "histogram",
         "x": [
          0.65
         ],
         "xaxis": "x",
         "yaxis": "y"
        },
        {
         "alignmentgroup": "True",
         "hovertemplate": "lcc=%{x}<extra></extra>",
         "legendgroup": "0.65",
         "marker": {
          "color": "#FFA15A"
         },
         "name": "0.65",
         "notched": true,
         "offsetgroup": "0.65",
         "showlegend": false,
         "type": "box",
         "x": [
          0.65
         ],
         "xaxis": "x2",
         "yaxis": "y2"
        },
        {
         "alignmentgroup": "True",
         "bingroup": "x",
         "hovertemplate": "lcc=%{x}<br>count=%{y}<extra></extra>",
         "legendgroup": "0.22857142857142856",
         "marker": {
          "color": "#19d3f3",
          "pattern": {
           "shape": ""
          }
         },
         "name": "0.22857142857142856",
         "offsetgroup": "0.22857142857142856",
         "orientation": "v",
         "showlegend": true,
         "type": "histogram",
         "x": [
          0.22857142857142856
         ],
         "xaxis": "x",
         "yaxis": "y"
        },
        {
         "alignmentgroup": "True",
         "hovertemplate": "lcc=%{x}<extra></extra>",
         "legendgroup": "0.22857142857142856",
         "marker": {
          "color": "#19d3f3"
         },
         "name": "0.22857142857142856",
         "notched": true,
         "offsetgroup": "0.22857142857142856",
         "showlegend": false,
         "type": "box",
         "x": [
          0.22857142857142856
         ],
         "xaxis": "x2",
         "yaxis": "y2"
        },
        {
         "alignmentgroup": "True",
         "bingroup": "x",
         "hovertemplate": "lcc=%{x}<br>count=%{y}<extra></extra>",
         "legendgroup": "0.10714285714285714",
         "marker": {
          "color": "#FF6692",
          "pattern": {
           "shape": ""
          }
         },
         "name": "0.10714285714285714",
         "offsetgroup": "0.10714285714285714",
         "orientation": "v",
         "showlegend": true,
         "type": "histogram",
         "x": [
          0.10714285714285714
         ],
         "xaxis": "x",
         "yaxis": "y"
        },
        {
         "alignmentgroup": "True",
         "hovertemplate": "lcc=%{x}<extra></extra>",
         "legendgroup": "0.10714285714285714",
         "marker": {
          "color": "#FF6692"
         },
         "name": "0.10714285714285714",
         "notched": true,
         "offsetgroup": "0.10714285714285714",
         "showlegend": false,
         "type": "box",
         "x": [
          0.10714285714285714
         ],
         "xaxis": "x2",
         "yaxis": "y2"
        },
        {
         "alignmentgroup": "True",
         "bingroup": "x",
         "hovertemplate": "lcc=%{x}<br>count=%{y}<extra></extra>",
         "legendgroup": "0.20454545454545456",
         "marker": {
          "color": "#B6E880",
          "pattern": {
           "shape": ""
          }
         },
         "name": "0.20454545454545456",
         "offsetgroup": "0.20454545454545456",
         "orientation": "v",
         "showlegend": true,
         "type": "histogram",
         "x": [
          0.20454545454545456
         ],
         "xaxis": "x",
         "yaxis": "y"
        },
        {
         "alignmentgroup": "True",
         "hovertemplate": "lcc=%{x}<extra></extra>",
         "legendgroup": "0.20454545454545456",
         "marker": {
          "color": "#B6E880"
         },
         "name": "0.20454545454545456",
         "notched": true,
         "offsetgroup": "0.20454545454545456",
         "showlegend": false,
         "type": "box",
         "x": [
          0.20454545454545456
         ],
         "xaxis": "x2",
         "yaxis": "y2"
        },
        {
         "alignmentgroup": "True",
         "bingroup": "x",
         "hovertemplate": "lcc=%{x}<br>count=%{y}<extra></extra>",
         "legendgroup": "0.5777777777777777",
         "marker": {
          "color": "#FF97FF",
          "pattern": {
           "shape": ""
          }
         },
         "name": "0.5777777777777777",
         "offsetgroup": "0.5777777777777777",
         "orientation": "v",
         "showlegend": true,
         "type": "histogram",
         "x": [
          0.5777777777777777
         ],
         "xaxis": "x",
         "yaxis": "y"
        },
        {
         "alignmentgroup": "True",
         "hovertemplate": "lcc=%{x}<extra></extra>",
         "legendgroup": "0.5777777777777777",
         "marker": {
          "color": "#FF97FF"
         },
         "name": "0.5777777777777777",
         "notched": true,
         "offsetgroup": "0.5777777777777777",
         "showlegend": false,
         "type": "box",
         "x": [
          0.5777777777777777
         ],
         "xaxis": "x2",
         "yaxis": "y2"
        },
        {
         "alignmentgroup": "True",
         "bingroup": "x",
         "hovertemplate": "lcc=%{x}<br>count=%{y}<extra></extra>",
         "legendgroup": "0.23626373626373626",
         "marker": {
          "color": "#FECB52",
          "pattern": {
           "shape": ""
          }
         },
         "name": "0.23626373626373626",
         "offsetgroup": "0.23626373626373626",
         "orientation": "v",
         "showlegend": true,
         "type": "histogram",
         "x": [
          0.23626373626373626
         ],
         "xaxis": "x",
         "yaxis": "y"
        },
        {
         "alignmentgroup": "True",
         "hovertemplate": "lcc=%{x}<extra></extra>",
         "legendgroup": "0.23626373626373626",
         "marker": {
          "color": "#FECB52"
         },
         "name": "0.23626373626373626",
         "notched": true,
         "offsetgroup": "0.23626373626373626",
         "showlegend": false,
         "type": "box",
         "x": [
          0.23626373626373626
         ],
         "xaxis": "x2",
         "yaxis": "y2"
        },
        {
         "alignmentgroup": "True",
         "bingroup": "x",
         "hovertemplate": "lcc=%{x}<br>count=%{y}<extra></extra>",
         "legendgroup": "0.2046783625730994",
         "marker": {
          "color": "#636efa",
          "pattern": {
           "shape": ""
          }
         },
         "name": "0.2046783625730994",
         "offsetgroup": "0.2046783625730994",
         "orientation": "v",
         "showlegend": true,
         "type": "histogram",
         "x": [
          0.2046783625730994
         ],
         "xaxis": "x",
         "yaxis": "y"
        },
        {
         "alignmentgroup": "True",
         "hovertemplate": "lcc=%{x}<extra></extra>",
         "legendgroup": "0.2046783625730994",
         "marker": {
          "color": "#636efa"
         },
         "name": "0.2046783625730994",
         "notched": true,
         "offsetgroup": "0.2046783625730994",
         "showlegend": false,
         "type": "box",
         "x": [
          0.2046783625730994
         ],
         "xaxis": "x2",
         "yaxis": "y2"
        },
        {
         "alignmentgroup": "True",
         "bingroup": "x",
         "hovertemplate": "lcc=%{x}<br>count=%{y}<extra></extra>",
         "legendgroup": "0.7333333333333333",
         "marker": {
          "color": "#EF553B",
          "pattern": {
           "shape": ""
          }
         },
         "name": "0.7333333333333333",
         "offsetgroup": "0.7333333333333333",
         "orientation": "v",
         "showlegend": true,
         "type": "histogram",
         "x": [
          0.7333333333333333
         ],
         "xaxis": "x",
         "yaxis": "y"
        },
        {
         "alignmentgroup": "True",
         "hovertemplate": "lcc=%{x}<extra></extra>",
         "legendgroup": "0.7333333333333333",
         "marker": {
          "color": "#EF553B"
         },
         "name": "0.7333333333333333",
         "notched": true,
         "offsetgroup": "0.7333333333333333",
         "showlegend": false,
         "type": "box",
         "x": [
          0.7333333333333333
         ],
         "xaxis": "x2",
         "yaxis": "y2"
        },
        {
         "alignmentgroup": "True",
         "bingroup": "x",
         "hovertemplate": "lcc=%{x}<br>count=%{y}<extra></extra>",
         "legendgroup": "0.8571428571428571",
         "marker": {
          "color": "#00cc96",
          "pattern": {
           "shape": ""
          }
         },
         "name": "0.8571428571428571",
         "offsetgroup": "0.8571428571428571",
         "orientation": "v",
         "showlegend": true,
         "type": "histogram",
         "x": [
          0.8571428571428571
         ],
         "xaxis": "x",
         "yaxis": "y"
        },
        {
         "alignmentgroup": "True",
         "hovertemplate": "lcc=%{x}<extra></extra>",
         "legendgroup": "0.8571428571428571",
         "marker": {
          "color": "#00cc96"
         },
         "name": "0.8571428571428571",
         "notched": true,
         "offsetgroup": "0.8571428571428571",
         "showlegend": false,
         "type": "box",
         "x": [
          0.8571428571428571
         ],
         "xaxis": "x2",
         "yaxis": "y2"
        },
        {
         "alignmentgroup": "True",
         "bingroup": "x",
         "hovertemplate": "lcc=%{x}<br>count=%{y}<extra></extra>",
         "legendgroup": "0.44696969696969696",
         "marker": {
          "color": "#ab63fa",
          "pattern": {
           "shape": ""
          }
         },
         "name": "0.44696969696969696",
         "offsetgroup": "0.44696969696969696",
         "orientation": "v",
         "showlegend": true,
         "type": "histogram",
         "x": [
          0.44696969696969696
         ],
         "xaxis": "x",
         "yaxis": "y"
        },
        {
         "alignmentgroup": "True",
         "hovertemplate": "lcc=%{x}<extra></extra>",
         "legendgroup": "0.44696969696969696",
         "marker": {
          "color": "#ab63fa"
         },
         "name": "0.44696969696969696",
         "notched": true,
         "offsetgroup": "0.44696969696969696",
         "showlegend": false,
         "type": "box",
         "x": [
          0.44696969696969696
         ],
         "xaxis": "x2",
         "yaxis": "y2"
        },
        {
         "alignmentgroup": "True",
         "bingroup": "x",
         "hovertemplate": "lcc=%{x}<br>count=%{y}<extra></extra>",
         "legendgroup": "0.13333333333333333",
         "marker": {
          "color": "#FFA15A",
          "pattern": {
           "shape": ""
          }
         },
         "name": "0.13333333333333333",
         "offsetgroup": "0.13333333333333333",
         "orientation": "v",
         "showlegend": true,
         "type": "histogram",
         "x": [
          0.13333333333333333
         ],
         "xaxis": "x",
         "yaxis": "y"
        },
        {
         "alignmentgroup": "True",
         "hovertemplate": "lcc=%{x}<extra></extra>",
         "legendgroup": "0.13333333333333333",
         "marker": {
          "color": "#FFA15A"
         },
         "name": "0.13333333333333333",
         "notched": true,
         "offsetgroup": "0.13333333333333333",
         "showlegend": false,
         "type": "box",
         "x": [
          0.13333333333333333
         ],
         "xaxis": "x2",
         "yaxis": "y2"
        },
        {
         "alignmentgroup": "True",
         "bingroup": "x",
         "hovertemplate": "lcc=%{x}<br>count=%{y}<extra></extra>",
         "legendgroup": "0.43333333333333335",
         "marker": {
          "color": "#19d3f3",
          "pattern": {
           "shape": ""
          }
         },
         "name": "0.43333333333333335",
         "offsetgroup": "0.43333333333333335",
         "orientation": "v",
         "showlegend": true,
         "type": "histogram",
         "x": [
          0.43333333333333335
         ],
         "xaxis": "x",
         "yaxis": "y"
        },
        {
         "alignmentgroup": "True",
         "hovertemplate": "lcc=%{x}<extra></extra>",
         "legendgroup": "0.43333333333333335",
         "marker": {
          "color": "#19d3f3"
         },
         "name": "0.43333333333333335",
         "notched": true,
         "offsetgroup": "0.43333333333333335",
         "showlegend": false,
         "type": "box",
         "x": [
          0.43333333333333335
         ],
         "xaxis": "x2",
         "yaxis": "y2"
        },
        {
         "alignmentgroup": "True",
         "bingroup": "x",
         "hovertemplate": "lcc=%{x}<br>count=%{y}<extra></extra>",
         "legendgroup": "0.40476190476190477",
         "marker": {
          "color": "#FF6692",
          "pattern": {
           "shape": ""
          }
         },
         "name": "0.40476190476190477",
         "offsetgroup": "0.40476190476190477",
         "orientation": "v",
         "showlegend": true,
         "type": "histogram",
         "x": [
          0.40476190476190477
         ],
         "xaxis": "x",
         "yaxis": "y"
        },
        {
         "alignmentgroup": "True",
         "hovertemplate": "lcc=%{x}<extra></extra>",
         "legendgroup": "0.40476190476190477",
         "marker": {
          "color": "#FF6692"
         },
         "name": "0.40476190476190477",
         "notched": true,
         "offsetgroup": "0.40476190476190477",
         "showlegend": false,
         "type": "box",
         "x": [
          0.40476190476190477
         ],
         "xaxis": "x2",
         "yaxis": "y2"
        },
        {
         "alignmentgroup": "True",
         "bingroup": "x",
         "hovertemplate": "lcc=%{x}<br>count=%{y}<extra></extra>",
         "legendgroup": "0.30701754385964913",
         "marker": {
          "color": "#B6E880",
          "pattern": {
           "shape": ""
          }
         },
         "name": "0.30701754385964913",
         "offsetgroup": "0.30701754385964913",
         "orientation": "v",
         "showlegend": true,
         "type": "histogram",
         "x": [
          0.30701754385964913
         ],
         "xaxis": "x",
         "yaxis": "y"
        },
        {
         "alignmentgroup": "True",
         "hovertemplate": "lcc=%{x}<extra></extra>",
         "legendgroup": "0.30701754385964913",
         "marker": {
          "color": "#B6E880"
         },
         "name": "0.30701754385964913",
         "notched": true,
         "offsetgroup": "0.30701754385964913",
         "showlegend": false,
         "type": "box",
         "x": [
          0.30701754385964913
         ],
         "xaxis": "x2",
         "yaxis": "y2"
        },
        {
         "alignmentgroup": "True",
         "bingroup": "x",
         "hovertemplate": "lcc=%{x}<br>count=%{y}<extra></extra>",
         "legendgroup": "0.11904761904761904",
         "marker": {
          "color": "#FF97FF",
          "pattern": {
           "shape": ""
          }
         },
         "name": "0.11904761904761904",
         "offsetgroup": "0.11904761904761904",
         "orientation": "v",
         "showlegend": true,
         "type": "histogram",
         "x": [
          0.11904761904761904
         ],
         "xaxis": "x",
         "yaxis": "y"
        },
        {
         "alignmentgroup": "True",
         "hovertemplate": "lcc=%{x}<extra></extra>",
         "legendgroup": "0.11904761904761904",
         "marker": {
          "color": "#FF97FF"
         },
         "name": "0.11904761904761904",
         "notched": true,
         "offsetgroup": "0.11904761904761904",
         "showlegend": false,
         "type": "box",
         "x": [
          0.11904761904761904
         ],
         "xaxis": "x2",
         "yaxis": "y2"
        },
        {
         "alignmentgroup": "True",
         "bingroup": "x",
         "hovertemplate": "lcc=%{x}<br>count=%{y}<extra></extra>",
         "legendgroup": "0.391025641025641",
         "marker": {
          "color": "#FECB52",
          "pattern": {
           "shape": ""
          }
         },
         "name": "0.391025641025641",
         "offsetgroup": "0.391025641025641",
         "orientation": "v",
         "showlegend": true,
         "type": "histogram",
         "x": [
          0.391025641025641
         ],
         "xaxis": "x",
         "yaxis": "y"
        },
        {
         "alignmentgroup": "True",
         "hovertemplate": "lcc=%{x}<extra></extra>",
         "legendgroup": "0.391025641025641",
         "marker": {
          "color": "#FECB52"
         },
         "name": "0.391025641025641",
         "notched": true,
         "offsetgroup": "0.391025641025641",
         "showlegend": false,
         "type": "box",
         "x": [
          0.391025641025641
         ],
         "xaxis": "x2",
         "yaxis": "y2"
        },
        {
         "alignmentgroup": "True",
         "bingroup": "x",
         "hovertemplate": "lcc=%{x}<br>count=%{y}<extra></extra>",
         "legendgroup": "0.75",
         "marker": {
          "color": "#636efa",
          "pattern": {
           "shape": ""
          }
         },
         "name": "0.75",
         "offsetgroup": "0.75",
         "orientation": "v",
         "showlegend": true,
         "type": "histogram",
         "x": [
          0.75
         ],
         "xaxis": "x",
         "yaxis": "y"
        },
        {
         "alignmentgroup": "True",
         "hovertemplate": "lcc=%{x}<extra></extra>",
         "legendgroup": "0.75",
         "marker": {
          "color": "#636efa"
         },
         "name": "0.75",
         "notched": true,
         "offsetgroup": "0.75",
         "showlegend": false,
         "type": "box",
         "x": [
          0.75
         ],
         "xaxis": "x2",
         "yaxis": "y2"
        },
        {
         "alignmentgroup": "True",
         "bingroup": "x",
         "hovertemplate": "lcc=%{x}<br>count=%{y}<extra></extra>",
         "legendgroup": "0.44545454545454544",
         "marker": {
          "color": "#EF553B",
          "pattern": {
           "shape": ""
          }
         },
         "name": "0.44545454545454544",
         "offsetgroup": "0.44545454545454544",
         "orientation": "v",
         "showlegend": true,
         "type": "histogram",
         "x": [
          0.44545454545454544
         ],
         "xaxis": "x",
         "yaxis": "y"
        },
        {
         "alignmentgroup": "True",
         "hovertemplate": "lcc=%{x}<extra></extra>",
         "legendgroup": "0.44545454545454544",
         "marker": {
          "color": "#EF553B"
         },
         "name": "0.44545454545454544",
         "notched": true,
         "offsetgroup": "0.44545454545454544",
         "showlegend": false,
         "type": "box",
         "x": [
          0.44545454545454544
         ],
         "xaxis": "x2",
         "yaxis": "y2"
        },
        {
         "alignmentgroup": "True",
         "bingroup": "x",
         "hovertemplate": "lcc=%{x}<br>count=%{y}<extra></extra>",
         "legendgroup": "0.8333333333333334",
         "marker": {
          "color": "#00cc96",
          "pattern": {
           "shape": ""
          }
         },
         "name": "0.8333333333333334",
         "offsetgroup": "0.8333333333333334",
         "orientation": "v",
         "showlegend": true,
         "type": "histogram",
         "x": [
          0.8333333333333334
         ],
         "xaxis": "x",
         "yaxis": "y"
        },
        {
         "alignmentgroup": "True",
         "hovertemplate": "lcc=%{x}<extra></extra>",
         "legendgroup": "0.8333333333333334",
         "marker": {
          "color": "#00cc96"
         },
         "name": "0.8333333333333334",
         "notched": true,
         "offsetgroup": "0.8333333333333334",
         "showlegend": false,
         "type": "box",
         "x": [
          0.8333333333333334
         ],
         "xaxis": "x2",
         "yaxis": "y2"
        }
       ],
       "layout": {
        "barmode": "relative",
        "legend": {
         "title": {
          "text": "lcc"
         },
         "tracegroupgap": 0
        },
        "margin": {
         "t": 60
        },
        "template": {
         "data": {
          "bar": [
           {
            "error_x": {
             "color": "#2a3f5f"
            },
            "error_y": {
             "color": "#2a3f5f"
            },
            "marker": {
             "line": {
              "color": "#E5ECF6",
              "width": 0.5
             },
             "pattern": {
              "fillmode": "overlay",
              "size": 10,
              "solidity": 0.2
             }
            },
            "type": "bar"
           }
          ],
          "barpolar": [
           {
            "marker": {
             "line": {
              "color": "#E5ECF6",
              "width": 0.5
             },
             "pattern": {
              "fillmode": "overlay",
              "size": 10,
              "solidity": 0.2
             }
            },
            "type": "barpolar"
           }
          ],
          "carpet": [
           {
            "aaxis": {
             "endlinecolor": "#2a3f5f",
             "gridcolor": "white",
             "linecolor": "white",
             "minorgridcolor": "white",
             "startlinecolor": "#2a3f5f"
            },
            "baxis": {
             "endlinecolor": "#2a3f5f",
             "gridcolor": "white",
             "linecolor": "white",
             "minorgridcolor": "white",
             "startlinecolor": "#2a3f5f"
            },
            "type": "carpet"
           }
          ],
          "choropleth": [
           {
            "colorbar": {
             "outlinewidth": 0,
             "ticks": ""
            },
            "type": "choropleth"
           }
          ],
          "contour": [
           {
            "colorbar": {
             "outlinewidth": 0,
             "ticks": ""
            },
            "colorscale": [
             [
              0,
              "#0d0887"
             ],
             [
              0.1111111111111111,
              "#46039f"
             ],
             [
              0.2222222222222222,
              "#7201a8"
             ],
             [
              0.3333333333333333,
              "#9c179e"
             ],
             [
              0.4444444444444444,
              "#bd3786"
             ],
             [
              0.5555555555555556,
              "#d8576b"
             ],
             [
              0.6666666666666666,
              "#ed7953"
             ],
             [
              0.7777777777777778,
              "#fb9f3a"
             ],
             [
              0.8888888888888888,
              "#fdca26"
             ],
             [
              1,
              "#f0f921"
             ]
            ],
            "type": "contour"
           }
          ],
          "contourcarpet": [
           {
            "colorbar": {
             "outlinewidth": 0,
             "ticks": ""
            },
            "type": "contourcarpet"
           }
          ],
          "heatmap": [
           {
            "colorbar": {
             "outlinewidth": 0,
             "ticks": ""
            },
            "colorscale": [
             [
              0,
              "#0d0887"
             ],
             [
              0.1111111111111111,
              "#46039f"
             ],
             [
              0.2222222222222222,
              "#7201a8"
             ],
             [
              0.3333333333333333,
              "#9c179e"
             ],
             [
              0.4444444444444444,
              "#bd3786"
             ],
             [
              0.5555555555555556,
              "#d8576b"
             ],
             [
              0.6666666666666666,
              "#ed7953"
             ],
             [
              0.7777777777777778,
              "#fb9f3a"
             ],
             [
              0.8888888888888888,
              "#fdca26"
             ],
             [
              1,
              "#f0f921"
             ]
            ],
            "type": "heatmap"
           }
          ],
          "heatmapgl": [
           {
            "colorbar": {
             "outlinewidth": 0,
             "ticks": ""
            },
            "colorscale": [
             [
              0,
              "#0d0887"
             ],
             [
              0.1111111111111111,
              "#46039f"
             ],
             [
              0.2222222222222222,
              "#7201a8"
             ],
             [
              0.3333333333333333,
              "#9c179e"
             ],
             [
              0.4444444444444444,
              "#bd3786"
             ],
             [
              0.5555555555555556,
              "#d8576b"
             ],
             [
              0.6666666666666666,
              "#ed7953"
             ],
             [
              0.7777777777777778,
              "#fb9f3a"
             ],
             [
              0.8888888888888888,
              "#fdca26"
             ],
             [
              1,
              "#f0f921"
             ]
            ],
            "type": "heatmapgl"
           }
          ],
          "histogram": [
           {
            "marker": {
             "pattern": {
              "fillmode": "overlay",
              "size": 10,
              "solidity": 0.2
             }
            },
            "type": "histogram"
           }
          ],
          "histogram2d": [
           {
            "colorbar": {
             "outlinewidth": 0,
             "ticks": ""
            },
            "colorscale": [
             [
              0,
              "#0d0887"
             ],
             [
              0.1111111111111111,
              "#46039f"
             ],
             [
              0.2222222222222222,
              "#7201a8"
             ],
             [
              0.3333333333333333,
              "#9c179e"
             ],
             [
              0.4444444444444444,
              "#bd3786"
             ],
             [
              0.5555555555555556,
              "#d8576b"
             ],
             [
              0.6666666666666666,
              "#ed7953"
             ],
             [
              0.7777777777777778,
              "#fb9f3a"
             ],
             [
              0.8888888888888888,
              "#fdca26"
             ],
             [
              1,
              "#f0f921"
             ]
            ],
            "type": "histogram2d"
           }
          ],
          "histogram2dcontour": [
           {
            "colorbar": {
             "outlinewidth": 0,
             "ticks": ""
            },
            "colorscale": [
             [
              0,
              "#0d0887"
             ],
             [
              0.1111111111111111,
              "#46039f"
             ],
             [
              0.2222222222222222,
              "#7201a8"
             ],
             [
              0.3333333333333333,
              "#9c179e"
             ],
             [
              0.4444444444444444,
              "#bd3786"
             ],
             [
              0.5555555555555556,
              "#d8576b"
             ],
             [
              0.6666666666666666,
              "#ed7953"
             ],
             [
              0.7777777777777778,
              "#fb9f3a"
             ],
             [
              0.8888888888888888,
              "#fdca26"
             ],
             [
              1,
              "#f0f921"
             ]
            ],
            "type": "histogram2dcontour"
           }
          ],
          "mesh3d": [
           {
            "colorbar": {
             "outlinewidth": 0,
             "ticks": ""
            },
            "type": "mesh3d"
           }
          ],
          "parcoords": [
           {
            "line": {
             "colorbar": {
              "outlinewidth": 0,
              "ticks": ""
             }
            },
            "type": "parcoords"
           }
          ],
          "pie": [
           {
            "automargin": true,
            "type": "pie"
           }
          ],
          "scatter": [
           {
            "fillpattern": {
             "fillmode": "overlay",
             "size": 10,
             "solidity": 0.2
            },
            "type": "scatter"
           }
          ],
          "scatter3d": [
           {
            "line": {
             "colorbar": {
              "outlinewidth": 0,
              "ticks": ""
             }
            },
            "marker": {
             "colorbar": {
              "outlinewidth": 0,
              "ticks": ""
             }
            },
            "type": "scatter3d"
           }
          ],
          "scattercarpet": [
           {
            "marker": {
             "colorbar": {
              "outlinewidth": 0,
              "ticks": ""
             }
            },
            "type": "scattercarpet"
           }
          ],
          "scattergeo": [
           {
            "marker": {
             "colorbar": {
              "outlinewidth": 0,
              "ticks": ""
             }
            },
            "type": "scattergeo"
           }
          ],
          "scattergl": [
           {
            "marker": {
             "colorbar": {
              "outlinewidth": 0,
              "ticks": ""
             }
            },
            "type": "scattergl"
           }
          ],
          "scattermapbox": [
           {
            "marker": {
             "colorbar": {
              "outlinewidth": 0,
              "ticks": ""
             }
            },
            "type": "scattermapbox"
           }
          ],
          "scatterpolar": [
           {
            "marker": {
             "colorbar": {
              "outlinewidth": 0,
              "ticks": ""
             }
            },
            "type": "scatterpolar"
           }
          ],
          "scatterpolargl": [
           {
            "marker": {
             "colorbar": {
              "outlinewidth": 0,
              "ticks": ""
             }
            },
            "type": "scatterpolargl"
           }
          ],
          "scatterternary": [
           {
            "marker": {
             "colorbar": {
              "outlinewidth": 0,
              "ticks": ""
             }
            },
            "type": "scatterternary"
           }
          ],
          "surface": [
           {
            "colorbar": {
             "outlinewidth": 0,
             "ticks": ""
            },
            "colorscale": [
             [
              0,
              "#0d0887"
             ],
             [
              0.1111111111111111,
              "#46039f"
             ],
             [
              0.2222222222222222,
              "#7201a8"
             ],
             [
              0.3333333333333333,
              "#9c179e"
             ],
             [
              0.4444444444444444,
              "#bd3786"
             ],
             [
              0.5555555555555556,
              "#d8576b"
             ],
             [
              0.6666666666666666,
              "#ed7953"
             ],
             [
              0.7777777777777778,
              "#fb9f3a"
             ],
             [
              0.8888888888888888,
              "#fdca26"
             ],
             [
              1,
              "#f0f921"
             ]
            ],
            "type": "surface"
           }
          ],
          "table": [
           {
            "cells": {
             "fill": {
              "color": "#EBF0F8"
             },
             "line": {
              "color": "white"
             }
            },
            "header": {
             "fill": {
              "color": "#C8D4E3"
             },
             "line": {
              "color": "white"
             }
            },
            "type": "table"
           }
          ]
         },
         "layout": {
          "annotationdefaults": {
           "arrowcolor": "#2a3f5f",
           "arrowhead": 0,
           "arrowwidth": 1
          },
          "autotypenumbers": "strict",
          "coloraxis": {
           "colorbar": {
            "outlinewidth": 0,
            "ticks": ""
           }
          },
          "colorscale": {
           "diverging": [
            [
             0,
             "#8e0152"
            ],
            [
             0.1,
             "#c51b7d"
            ],
            [
             0.2,
             "#de77ae"
            ],
            [
             0.3,
             "#f1b6da"
            ],
            [
             0.4,
             "#fde0ef"
            ],
            [
             0.5,
             "#f7f7f7"
            ],
            [
             0.6,
             "#e6f5d0"
            ],
            [
             0.7,
             "#b8e186"
            ],
            [
             0.8,
             "#7fbc41"
            ],
            [
             0.9,
             "#4d9221"
            ],
            [
             1,
             "#276419"
            ]
           ],
           "sequential": [
            [
             0,
             "#0d0887"
            ],
            [
             0.1111111111111111,
             "#46039f"
            ],
            [
             0.2222222222222222,
             "#7201a8"
            ],
            [
             0.3333333333333333,
             "#9c179e"
            ],
            [
             0.4444444444444444,
             "#bd3786"
            ],
            [
             0.5555555555555556,
             "#d8576b"
            ],
            [
             0.6666666666666666,
             "#ed7953"
            ],
            [
             0.7777777777777778,
             "#fb9f3a"
            ],
            [
             0.8888888888888888,
             "#fdca26"
            ],
            [
             1,
             "#f0f921"
            ]
           ],
           "sequentialminus": [
            [
             0,
             "#0d0887"
            ],
            [
             0.1111111111111111,
             "#46039f"
            ],
            [
             0.2222222222222222,
             "#7201a8"
            ],
            [
             0.3333333333333333,
             "#9c179e"
            ],
            [
             0.4444444444444444,
             "#bd3786"
            ],
            [
             0.5555555555555556,
             "#d8576b"
            ],
            [
             0.6666666666666666,
             "#ed7953"
            ],
            [
             0.7777777777777778,
             "#fb9f3a"
            ],
            [
             0.8888888888888888,
             "#fdca26"
            ],
            [
             1,
             "#f0f921"
            ]
           ]
          },
          "colorway": [
           "#636efa",
           "#EF553B",
           "#00cc96",
           "#ab63fa",
           "#FFA15A",
           "#19d3f3",
           "#FF6692",
           "#B6E880",
           "#FF97FF",
           "#FECB52"
          ],
          "font": {
           "color": "#2a3f5f"
          },
          "geo": {
           "bgcolor": "white",
           "lakecolor": "white",
           "landcolor": "#E5ECF6",
           "showlakes": true,
           "showland": true,
           "subunitcolor": "white"
          },
          "hoverlabel": {
           "align": "left"
          },
          "hovermode": "closest",
          "mapbox": {
           "style": "light"
          },
          "paper_bgcolor": "white",
          "plot_bgcolor": "#E5ECF6",
          "polar": {
           "angularaxis": {
            "gridcolor": "white",
            "linecolor": "white",
            "ticks": ""
           },
           "bgcolor": "#E5ECF6",
           "radialaxis": {
            "gridcolor": "white",
            "linecolor": "white",
            "ticks": ""
           }
          },
          "scene": {
           "xaxis": {
            "backgroundcolor": "#E5ECF6",
            "gridcolor": "white",
            "gridwidth": 2,
            "linecolor": "white",
            "showbackground": true,
            "ticks": "",
            "zerolinecolor": "white"
           },
           "yaxis": {
            "backgroundcolor": "#E5ECF6",
            "gridcolor": "white",
            "gridwidth": 2,
            "linecolor": "white",
            "showbackground": true,
            "ticks": "",
            "zerolinecolor": "white"
           },
           "zaxis": {
            "backgroundcolor": "#E5ECF6",
            "gridcolor": "white",
            "gridwidth": 2,
            "linecolor": "white",
            "showbackground": true,
            "ticks": "",
            "zerolinecolor": "white"
           }
          },
          "shapedefaults": {
           "line": {
            "color": "#2a3f5f"
           }
          },
          "ternary": {
           "aaxis": {
            "gridcolor": "white",
            "linecolor": "white",
            "ticks": ""
           },
           "baxis": {
            "gridcolor": "white",
            "linecolor": "white",
            "ticks": ""
           },
           "bgcolor": "#E5ECF6",
           "caxis": {
            "gridcolor": "white",
            "linecolor": "white",
            "ticks": ""
           }
          },
          "title": {
           "x": 0.05
          },
          "xaxis": {
           "automargin": true,
           "gridcolor": "white",
           "linecolor": "white",
           "ticks": "",
           "title": {
            "standoff": 15
           },
           "zerolinecolor": "white",
           "zerolinewidth": 2
          },
          "yaxis": {
           "automargin": true,
           "gridcolor": "white",
           "linecolor": "white",
           "ticks": "",
           "title": {
            "standoff": 15
           },
           "zerolinecolor": "white",
           "zerolinewidth": 2
          }
         }
        },
        "xaxis": {
         "anchor": "y",
         "categoryarray": [
          0.5,
          0.30952380952380953,
          0.19230769230769232,
          0,
          0.23384615384615384,
          0.23616734143049933,
          0.19397463002114165,
          0.2679738562091503,
          0.2134387351778656,
          0.2857142857142857,
          0.3269230769230769,
          0.25806451612903225,
          0.19166666666666668,
          0.08928571428571429,
          0.6,
          0.1978021978021978,
          0.2543859649122807,
          0.16554621848739495,
          0.11818181818181818,
          0.42424242424242425,
          0.18069727891156462,
          0.2156084656084656,
          0.18181818181818182,
          0.3366013071895425,
          0.28654970760233917,
          0.14473684210526316,
          0.34444444444444444,
          0.32083333333333336,
          0.16666666666666666,
          0.23399014778325122,
          0.23588709677419356,
          0.3,
          0.1839080459770115,
          0.29051383399209485,
          0.3707692307692308,
          0.19658119658119658,
          0.3088235294117647,
          0.17539682539682538,
          0.4642857142857143,
          0.32222222222222224,
          1,
          0.5083333333333333,
          0.22934472934472935,
          0.3787878787878788,
          0.16005291005291006,
          0.3897058823529412,
          0.6666666666666666,
          0.3079710144927536,
          0.6111111111111112,
          0.1721014492753623,
          0.9,
          0.30514705882352944,
          0.19444444444444445,
          0.5714285714285714,
          0.4583333333333333,
          0.2777777777777778,
          0.1868421052631579,
          0.315,
          0.22875816993464052,
          0.18055555555555555,
          0.19090909090909092,
          0.45454545454545453,
          0.17984189723320157,
          0.2966666666666667,
          0.4107142857142857,
          0.1958128078817734,
          0.39285714285714285,
          0.3492647058823529,
          0.24183006535947713,
          0.19080459770114944,
          0.26666666666666666,
          0.22076612903225806,
          0.27564102564102566,
          0.19642857142857142,
          0.1539855072463768,
          0.3194444444444444,
          0.358974358974359,
          0.4945054945054945,
          0.17647058823529413,
          0.23333333333333334,
          0.3333333333333333,
          0.28431372549019607,
          0.4090909090909091,
          0.3712121212121212,
          0.23692307692307693,
          0.22660098522167488,
          0.170995670995671,
          0.26900584795321636,
          0.25076923076923074,
          0.7,
          0.14942528735632185,
          0.25,
          0.3713768115942029,
          0.21153846153846154,
          0.2561576354679803,
          0.3241758241758242,
          0.45555555555555555,
          0.21323529411764705,
          0.20897435897435898,
          0.22727272727272727,
          0.38461538461538464,
          0.4621212121212121,
          0.2564102564102564,
          0.4222222222222222,
          0.08333333333333333,
          0.2361111111111111,
          0.4,
          0.23214285714285715,
          0.3458498023715415,
          0.195906432748538,
          0.7142857142857143,
          0.19852941176470587,
          0.35,
          0.36666666666666664,
          0.65,
          0.22857142857142856,
          0.10714285714285714,
          0.20454545454545456,
          0.5777777777777777,
          0.23626373626373626,
          0.2046783625730994,
          0.7333333333333333,
          0.8571428571428571,
          0.44696969696969696,
          0.13333333333333333,
          0.43333333333333335,
          0.40476190476190477,
          0.30701754385964913,
          0.11904761904761904,
          0.391025641025641,
          0.75,
          0.44545454545454544,
          0.8333333333333334
         ],
         "categoryorder": "array",
         "domain": [
          0,
          1
         ],
         "title": {
          "text": "lcc"
         }
        },
        "xaxis2": {
         "anchor": "y2",
         "domain": [
          0,
          1
         ],
         "matches": "x",
         "showgrid": true,
         "showticklabels": false
        },
        "yaxis": {
         "anchor": "x",
         "domain": [
          0,
          0.7326
         ],
         "title": {
          "text": "count"
         }
        },
        "yaxis2": {
         "anchor": "x2",
         "domain": [
          0.7426,
          1
         ],
         "matches": "y2",
         "showgrid": false,
         "showline": false,
         "showticklabels": false,
         "ticks": ""
        }
       }
      }
     },
     "metadata": {},
     "output_type": "display_data"
    }
   ],
   "source": [
    "# Calculate the local clustering coefficient of each node and plot the clustering-coefficient\n",
    "# distribution (lcc vs frequency of lcc) of the network.\n",
    "\n",
    "def get_lcc(adjacency_matrix):\n",
    "    lcc = np.zeros(adjacency_matrix.shape[0])\n",
    "    for node in range(adjacency_matrix.shape[0]):\n",
    "        # neighbours of node(neighbours are out neighbours)\n",
    "        neighbors = np.where(adjacency_matrix[node, :] == 1)[0]\n",
    "        if len(neighbors) == 0 or len(neighbors) == 1:\n",
    "            lcc[node] = 0\n",
    "        else:\n",
    "            num_edges = 0\n",
    "            for neighbor in neighbors:\n",
    "                num_edges += np.sum(adjacency_matrix[neighbor, neighbors])\n",
    "            lcc[node] = num_edges/(len(neighbors)*(len(neighbors)-1))\n",
    "    return lcc\n",
    "\n",
    "lcc = get_lcc(adjacency_matrix)\n",
    "\n",
    "def plot_lcc_distribution(lcc):\n",
    "    # plt.hist(lcc, bins=20, alpha=0.5, label='lcc', color= 'red')\n",
    "    # plt.legend(loc='upper right')\n",
    "    # plt.show()\n",
    "    # use plotly to plot the histogram\n",
    "    df = pd.DataFrame({'lcc': lcc})\n",
    "    fig = px.histogram(df, x=\"lcc\", color=\"lcc\", marginal=\"box\", hover_data=df.columns)\n",
    "    fig.show()\n",
    "    \n",
    "\n",
    "plot_lcc_distribution(lcc)"
   ]
  }
 ],
 "metadata": {
  "kernelspec": {
   "display_name": "base",
   "language": "python",
   "name": "python3"
  },
  "language_info": {
   "codemirror_mode": {
    "name": "ipython",
    "version": 3
   },
   "file_extension": ".py",
   "mimetype": "text/x-python",
   "name": "python",
   "nbconvert_exporter": "python",
   "pygments_lexer": "ipython3",
   "version": "3.10.1"
  },
  "orig_nbformat": 4
 },
 "nbformat": 4,
 "nbformat_minor": 2
}
